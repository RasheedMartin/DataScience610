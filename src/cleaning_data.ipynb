{
 "cells": [
  {
   "cell_type": "markdown",
   "source": [
    "# Pre-Processing of Data\n",
    "## Cleaning of Data for Model of Location Based Collision Hotspot Analysis"
   ],
   "metadata": {
    "collapsed": false
   },
   "id": "cf93887dee6e52fd"
  },
  {
   "cell_type": "code",
   "execution_count": 1,
   "id": "bbd9520f",
   "metadata": {
    "ExecuteTime": {
     "end_time": "2024-10-13T03:14:43.517416Z",
     "start_time": "2024-10-13T03:14:43.224207Z"
    }
   },
   "outputs": [],
   "source": [
    "import pandas as pd\n",
    "from pathlib import Path"
   ]
  },
  {
   "cell_type": "code",
   "execution_count": 2,
   "id": "f785221b",
   "metadata": {
    "ExecuteTime": {
     "end_time": "2024-10-13T03:14:43.518993Z",
     "start_time": "2024-10-13T03:14:43.495147Z"
    }
   },
   "outputs": [],
   "source": [
    "dir_path = Path().cwd().parent\n",
    "raw_data_path = Path('data_files/raw_data')"
   ]
  },
  {
   "cell_type": "code",
   "execution_count": 3,
   "id": "82fb76ce",
   "metadata": {
    "ExecuteTime": {
     "end_time": "2024-10-13T03:15:05.025291Z",
     "start_time": "2024-10-13T03:14:43.497692Z"
    }
   },
   "outputs": [],
   "source": [
    "crash_data = pd.read_csv(str(dir_path / raw_data_path /  Path(\"Motor_Vehicle_Collisions_-_Crashes_20241012.csv\")), low_memory=False)\n",
    "person_data = pd.read_csv(str(dir_path / raw_data_path / Path(\"Motor_Vehicle_Collisions_-_Person_20241012.csv\")), low_memory=False)"
   ]
  },
  {
   "cell_type": "code",
   "execution_count": 4,
   "id": "11f898d8",
   "metadata": {
    "ExecuteTime": {
     "end_time": "2024-10-13T03:15:05.056957Z",
     "start_time": "2024-10-13T03:15:05.026430Z"
    }
   },
   "outputs": [
    {
     "name": "stdout",
     "output_type": "stream",
     "text": [
      "Crash Data:\n"
     ]
    },
    {
     "data": {
      "text/plain": "   CRASH DATE CRASH TIME   BOROUGH ZIP CODE   LATITUDE  LONGITUDE  \\\n0  09/11/2021       2:39       NaN      NaN        NaN        NaN   \n1  03/26/2022      11:45       NaN      NaN        NaN        NaN   \n2  06/29/2022       6:55       NaN      NaN        NaN        NaN   \n3  09/11/2021       9:35  BROOKLYN    11208  40.667202 -73.866500   \n4  12/14/2021       8:13  BROOKLYN    11233  40.683304 -73.917274   \n\n                  LOCATION           ON STREET NAME CROSS STREET NAME  \\\n0                      NaN    WHITESTONE EXPRESSWAY         20 AVENUE   \n1                      NaN  QUEENSBORO BRIDGE UPPER               NaN   \n2                      NaN       THROGS NECK BRIDGE               NaN   \n3    (40.667202, -73.8665)                      NaN               NaN   \n4  (40.683304, -73.917274)          SARATOGA AVENUE    DECATUR STREET   \n\n           OFF STREET NAME  ...  CONTRIBUTING FACTOR VEHICLE 2  \\\n0                      NaN  ...                    Unspecified   \n1                      NaN  ...                            NaN   \n2                      NaN  ...                    Unspecified   \n3  1211      LORING AVENUE  ...                            NaN   \n4                      NaN  ...                            NaN   \n\n   CONTRIBUTING FACTOR VEHICLE 3  CONTRIBUTING FACTOR VEHICLE 4  \\\n0                            NaN                            NaN   \n1                            NaN                            NaN   \n2                            NaN                            NaN   \n3                            NaN                            NaN   \n4                            NaN                            NaN   \n\n   CONTRIBUTING FACTOR VEHICLE 5  COLLISION_ID  VEHICLE TYPE CODE 1  \\\n0                            NaN       4455765                Sedan   \n1                            NaN       4513547                Sedan   \n2                            NaN       4541903                Sedan   \n3                            NaN       4456314                Sedan   \n4                            NaN       4486609                  NaN   \n\n   VEHICLE TYPE CODE 2  VEHICLE TYPE CODE 3 VEHICLE TYPE CODE 4  \\\n0                Sedan                  NaN                 NaN   \n1                  NaN                  NaN                 NaN   \n2        Pick-up Truck                  NaN                 NaN   \n3                  NaN                  NaN                 NaN   \n4                  NaN                  NaN                 NaN   \n\n  VEHICLE TYPE CODE 5  \n0                 NaN  \n1                 NaN  \n2                 NaN  \n3                 NaN  \n4                 NaN  \n\n[5 rows x 29 columns]",
      "text/html": "<div>\n<style scoped>\n    .dataframe tbody tr th:only-of-type {\n        vertical-align: middle;\n    }\n\n    .dataframe tbody tr th {\n        vertical-align: top;\n    }\n\n    .dataframe thead th {\n        text-align: right;\n    }\n</style>\n<table border=\"1\" class=\"dataframe\">\n  <thead>\n    <tr style=\"text-align: right;\">\n      <th></th>\n      <th>CRASH DATE</th>\n      <th>CRASH TIME</th>\n      <th>BOROUGH</th>\n      <th>ZIP CODE</th>\n      <th>LATITUDE</th>\n      <th>LONGITUDE</th>\n      <th>LOCATION</th>\n      <th>ON STREET NAME</th>\n      <th>CROSS STREET NAME</th>\n      <th>OFF STREET NAME</th>\n      <th>...</th>\n      <th>CONTRIBUTING FACTOR VEHICLE 2</th>\n      <th>CONTRIBUTING FACTOR VEHICLE 3</th>\n      <th>CONTRIBUTING FACTOR VEHICLE 4</th>\n      <th>CONTRIBUTING FACTOR VEHICLE 5</th>\n      <th>COLLISION_ID</th>\n      <th>VEHICLE TYPE CODE 1</th>\n      <th>VEHICLE TYPE CODE 2</th>\n      <th>VEHICLE TYPE CODE 3</th>\n      <th>VEHICLE TYPE CODE 4</th>\n      <th>VEHICLE TYPE CODE 5</th>\n    </tr>\n  </thead>\n  <tbody>\n    <tr>\n      <th>0</th>\n      <td>09/11/2021</td>\n      <td>2:39</td>\n      <td>NaN</td>\n      <td>NaN</td>\n      <td>NaN</td>\n      <td>NaN</td>\n      <td>NaN</td>\n      <td>WHITESTONE EXPRESSWAY</td>\n      <td>20 AVENUE</td>\n      <td>NaN</td>\n      <td>...</td>\n      <td>Unspecified</td>\n      <td>NaN</td>\n      <td>NaN</td>\n      <td>NaN</td>\n      <td>4455765</td>\n      <td>Sedan</td>\n      <td>Sedan</td>\n      <td>NaN</td>\n      <td>NaN</td>\n      <td>NaN</td>\n    </tr>\n    <tr>\n      <th>1</th>\n      <td>03/26/2022</td>\n      <td>11:45</td>\n      <td>NaN</td>\n      <td>NaN</td>\n      <td>NaN</td>\n      <td>NaN</td>\n      <td>NaN</td>\n      <td>QUEENSBORO BRIDGE UPPER</td>\n      <td>NaN</td>\n      <td>NaN</td>\n      <td>...</td>\n      <td>NaN</td>\n      <td>NaN</td>\n      <td>NaN</td>\n      <td>NaN</td>\n      <td>4513547</td>\n      <td>Sedan</td>\n      <td>NaN</td>\n      <td>NaN</td>\n      <td>NaN</td>\n      <td>NaN</td>\n    </tr>\n    <tr>\n      <th>2</th>\n      <td>06/29/2022</td>\n      <td>6:55</td>\n      <td>NaN</td>\n      <td>NaN</td>\n      <td>NaN</td>\n      <td>NaN</td>\n      <td>NaN</td>\n      <td>THROGS NECK BRIDGE</td>\n      <td>NaN</td>\n      <td>NaN</td>\n      <td>...</td>\n      <td>Unspecified</td>\n      <td>NaN</td>\n      <td>NaN</td>\n      <td>NaN</td>\n      <td>4541903</td>\n      <td>Sedan</td>\n      <td>Pick-up Truck</td>\n      <td>NaN</td>\n      <td>NaN</td>\n      <td>NaN</td>\n    </tr>\n    <tr>\n      <th>3</th>\n      <td>09/11/2021</td>\n      <td>9:35</td>\n      <td>BROOKLYN</td>\n      <td>11208</td>\n      <td>40.667202</td>\n      <td>-73.866500</td>\n      <td>(40.667202, -73.8665)</td>\n      <td>NaN</td>\n      <td>NaN</td>\n      <td>1211      LORING AVENUE</td>\n      <td>...</td>\n      <td>NaN</td>\n      <td>NaN</td>\n      <td>NaN</td>\n      <td>NaN</td>\n      <td>4456314</td>\n      <td>Sedan</td>\n      <td>NaN</td>\n      <td>NaN</td>\n      <td>NaN</td>\n      <td>NaN</td>\n    </tr>\n    <tr>\n      <th>4</th>\n      <td>12/14/2021</td>\n      <td>8:13</td>\n      <td>BROOKLYN</td>\n      <td>11233</td>\n      <td>40.683304</td>\n      <td>-73.917274</td>\n      <td>(40.683304, -73.917274)</td>\n      <td>SARATOGA AVENUE</td>\n      <td>DECATUR STREET</td>\n      <td>NaN</td>\n      <td>...</td>\n      <td>NaN</td>\n      <td>NaN</td>\n      <td>NaN</td>\n      <td>NaN</td>\n      <td>4486609</td>\n      <td>NaN</td>\n      <td>NaN</td>\n      <td>NaN</td>\n      <td>NaN</td>\n      <td>NaN</td>\n    </tr>\n  </tbody>\n</table>\n<p>5 rows × 29 columns</p>\n</div>"
     },
     "metadata": {},
     "output_type": "display_data"
    },
    {
     "name": "stdout",
     "output_type": "stream",
     "text": [
      "\n",
      "Person Data:\n"
     ]
    },
    {
     "data": {
      "text/plain": "   UNIQUE_ID  COLLISION_ID  CRASH_DATE CRASH_TIME  \\\n0   10249006       4229554  10/26/2019       9:43   \n1   10255054       4230587  10/25/2019      15:15   \n2   10253177       4230550  10/26/2019      17:55   \n3    6650180       3565527  11/21/2016      13:05   \n4   10255516       4231168  10/25/2019      11:16   \n\n                              PERSON_ID PERSON_TYPE PERSON_INJURY  VEHICLE_ID  \\\n0  31aa2bc0-f545-444f-8cdb-f1cb5cf00b89    Occupant   Unspecified  19141108.0   \n1  4629e500-a73e-48dc-b8fb-53124d124b80    Occupant   Unspecified  19144075.0   \n2  ae48c136-1383-45db-83f4-2a5eecfb7cff    Occupant   Unspecified  19143133.0   \n3                               2782525    Occupant   Unspecified         NaN   \n4  e038e18f-40fb-4471-99cf-345eae36e064    Occupant   Unspecified  19144329.0   \n\n   PERSON_AGE     EJECTION  ...   BODILY_INJURY  \\\n0         NaN          NaN  ...             NaN   \n1        33.0  Not Ejected  ...  Does Not Apply   \n2        55.0          NaN  ...             NaN   \n3         NaN          NaN  ...             NaN   \n4         7.0  Not Ejected  ...  Does Not Apply   \n\n                                 POSITION_IN_VEHICLE    SAFETY_EQUIPMENT  \\\n0                                                NaN                 NaN   \n1  Front passenger, if two or more persons, inclu...  Lap Belt & Harness   \n2                                                NaN                 NaN   \n3                                                NaN                 NaN   \n4  Right rear passenger or motorcycle sidecar pas...            Lap Belt   \n\n  PED_LOCATION PED_ACTION       COMPLAINT         PED_ROLE  \\\n0          NaN        NaN             NaN       Registrant   \n1          NaN        NaN  Does Not Apply        Passenger   \n2          NaN        NaN             NaN       Registrant   \n3          NaN        NaN             NaN  Notified Person   \n4          NaN        NaN  Does Not Apply        Passenger   \n\n  CONTRIBUTING_FACTOR_1 CONTRIBUTING_FACTOR_2 PERSON_SEX  \n0                   NaN                   NaN          U  \n1                   NaN                   NaN          F  \n2                   NaN                   NaN          M  \n3                   NaN                   NaN        NaN  \n4                   NaN                   NaN          F  \n\n[5 rows x 21 columns]",
      "text/html": "<div>\n<style scoped>\n    .dataframe tbody tr th:only-of-type {\n        vertical-align: middle;\n    }\n\n    .dataframe tbody tr th {\n        vertical-align: top;\n    }\n\n    .dataframe thead th {\n        text-align: right;\n    }\n</style>\n<table border=\"1\" class=\"dataframe\">\n  <thead>\n    <tr style=\"text-align: right;\">\n      <th></th>\n      <th>UNIQUE_ID</th>\n      <th>COLLISION_ID</th>\n      <th>CRASH_DATE</th>\n      <th>CRASH_TIME</th>\n      <th>PERSON_ID</th>\n      <th>PERSON_TYPE</th>\n      <th>PERSON_INJURY</th>\n      <th>VEHICLE_ID</th>\n      <th>PERSON_AGE</th>\n      <th>EJECTION</th>\n      <th>...</th>\n      <th>BODILY_INJURY</th>\n      <th>POSITION_IN_VEHICLE</th>\n      <th>SAFETY_EQUIPMENT</th>\n      <th>PED_LOCATION</th>\n      <th>PED_ACTION</th>\n      <th>COMPLAINT</th>\n      <th>PED_ROLE</th>\n      <th>CONTRIBUTING_FACTOR_1</th>\n      <th>CONTRIBUTING_FACTOR_2</th>\n      <th>PERSON_SEX</th>\n    </tr>\n  </thead>\n  <tbody>\n    <tr>\n      <th>0</th>\n      <td>10249006</td>\n      <td>4229554</td>\n      <td>10/26/2019</td>\n      <td>9:43</td>\n      <td>31aa2bc0-f545-444f-8cdb-f1cb5cf00b89</td>\n      <td>Occupant</td>\n      <td>Unspecified</td>\n      <td>19141108.0</td>\n      <td>NaN</td>\n      <td>NaN</td>\n      <td>...</td>\n      <td>NaN</td>\n      <td>NaN</td>\n      <td>NaN</td>\n      <td>NaN</td>\n      <td>NaN</td>\n      <td>NaN</td>\n      <td>Registrant</td>\n      <td>NaN</td>\n      <td>NaN</td>\n      <td>U</td>\n    </tr>\n    <tr>\n      <th>1</th>\n      <td>10255054</td>\n      <td>4230587</td>\n      <td>10/25/2019</td>\n      <td>15:15</td>\n      <td>4629e500-a73e-48dc-b8fb-53124d124b80</td>\n      <td>Occupant</td>\n      <td>Unspecified</td>\n      <td>19144075.0</td>\n      <td>33.0</td>\n      <td>Not Ejected</td>\n      <td>...</td>\n      <td>Does Not Apply</td>\n      <td>Front passenger, if two or more persons, inclu...</td>\n      <td>Lap Belt &amp; Harness</td>\n      <td>NaN</td>\n      <td>NaN</td>\n      <td>Does Not Apply</td>\n      <td>Passenger</td>\n      <td>NaN</td>\n      <td>NaN</td>\n      <td>F</td>\n    </tr>\n    <tr>\n      <th>2</th>\n      <td>10253177</td>\n      <td>4230550</td>\n      <td>10/26/2019</td>\n      <td>17:55</td>\n      <td>ae48c136-1383-45db-83f4-2a5eecfb7cff</td>\n      <td>Occupant</td>\n      <td>Unspecified</td>\n      <td>19143133.0</td>\n      <td>55.0</td>\n      <td>NaN</td>\n      <td>...</td>\n      <td>NaN</td>\n      <td>NaN</td>\n      <td>NaN</td>\n      <td>NaN</td>\n      <td>NaN</td>\n      <td>NaN</td>\n      <td>Registrant</td>\n      <td>NaN</td>\n      <td>NaN</td>\n      <td>M</td>\n    </tr>\n    <tr>\n      <th>3</th>\n      <td>6650180</td>\n      <td>3565527</td>\n      <td>11/21/2016</td>\n      <td>13:05</td>\n      <td>2782525</td>\n      <td>Occupant</td>\n      <td>Unspecified</td>\n      <td>NaN</td>\n      <td>NaN</td>\n      <td>NaN</td>\n      <td>...</td>\n      <td>NaN</td>\n      <td>NaN</td>\n      <td>NaN</td>\n      <td>NaN</td>\n      <td>NaN</td>\n      <td>NaN</td>\n      <td>Notified Person</td>\n      <td>NaN</td>\n      <td>NaN</td>\n      <td>NaN</td>\n    </tr>\n    <tr>\n      <th>4</th>\n      <td>10255516</td>\n      <td>4231168</td>\n      <td>10/25/2019</td>\n      <td>11:16</td>\n      <td>e038e18f-40fb-4471-99cf-345eae36e064</td>\n      <td>Occupant</td>\n      <td>Unspecified</td>\n      <td>19144329.0</td>\n      <td>7.0</td>\n      <td>Not Ejected</td>\n      <td>...</td>\n      <td>Does Not Apply</td>\n      <td>Right rear passenger or motorcycle sidecar pas...</td>\n      <td>Lap Belt</td>\n      <td>NaN</td>\n      <td>NaN</td>\n      <td>Does Not Apply</td>\n      <td>Passenger</td>\n      <td>NaN</td>\n      <td>NaN</td>\n      <td>F</td>\n    </tr>\n  </tbody>\n</table>\n<p>5 rows × 21 columns</p>\n</div>"
     },
     "metadata": {},
     "output_type": "display_data"
    }
   ],
   "source": [
    "print(\"Crash Data:\")\n",
    "display(crash_data.head())\n",
    "print(\"\\nPerson Data:\")\n",
    "display(person_data.head())"
   ]
  },
  {
   "cell_type": "code",
   "execution_count": 5,
   "id": "d161a3d9",
   "metadata": {
    "scrolled": false,
    "ExecuteTime": {
     "end_time": "2024-10-13T03:15:05.133618Z",
     "start_time": "2024-10-13T03:15:05.050385Z"
    }
   },
   "outputs": [
    {
     "name": "stdout",
     "output_type": "stream",
     "text": [
      "\n",
      "Person Data:\n"
     ]
    },
    {
     "data": {
      "text/plain": "   UNIQUE_ID  COLLISION_ID  CRASH_DATE CRASH_TIME  \\\n0   10249006       4229554  10/26/2019       9:43   \n1   10255054       4230587  10/25/2019      15:15   \n2   10253177       4230550  10/26/2019      17:55   \n3    6650180       3565527  11/21/2016      13:05   \n4   10255516       4231168  10/25/2019      11:16   \n\n                              PERSON_ID PERSON_TYPE PERSON_INJURY  VEHICLE_ID  \\\n0  31aa2bc0-f545-444f-8cdb-f1cb5cf00b89    Occupant   Unspecified  19141108.0   \n1  4629e500-a73e-48dc-b8fb-53124d124b80    Occupant   Unspecified  19144075.0   \n2  ae48c136-1383-45db-83f4-2a5eecfb7cff    Occupant   Unspecified  19143133.0   \n3                               2782525    Occupant   Unspecified         NaN   \n4  e038e18f-40fb-4471-99cf-345eae36e064    Occupant   Unspecified  19144329.0   \n\n   PERSON_AGE     EJECTION  ...   BODILY_INJURY  \\\n0         NaN          NaN  ...             NaN   \n1        33.0  Not Ejected  ...  Does Not Apply   \n2        55.0          NaN  ...             NaN   \n3         NaN          NaN  ...             NaN   \n4         7.0  Not Ejected  ...  Does Not Apply   \n\n                                 POSITION_IN_VEHICLE    SAFETY_EQUIPMENT  \\\n0                                                NaN                 NaN   \n1  Front passenger, if two or more persons, inclu...  Lap Belt & Harness   \n2                                                NaN                 NaN   \n3                                                NaN                 NaN   \n4  Right rear passenger or motorcycle sidecar pas...            Lap Belt   \n\n  PED_LOCATION PED_ACTION       COMPLAINT         PED_ROLE  \\\n0          NaN        NaN             NaN       Registrant   \n1          NaN        NaN  Does Not Apply        Passenger   \n2          NaN        NaN             NaN       Registrant   \n3          NaN        NaN             NaN  Notified Person   \n4          NaN        NaN  Does Not Apply        Passenger   \n\n  CONTRIBUTING_FACTOR_1 CONTRIBUTING_FACTOR_2 PERSON_SEX  \n0                   NaN                   NaN          U  \n1                   NaN                   NaN          F  \n2                   NaN                   NaN          M  \n3                   NaN                   NaN        NaN  \n4                   NaN                   NaN          F  \n\n[5 rows x 21 columns]",
      "text/html": "<div>\n<style scoped>\n    .dataframe tbody tr th:only-of-type {\n        vertical-align: middle;\n    }\n\n    .dataframe tbody tr th {\n        vertical-align: top;\n    }\n\n    .dataframe thead th {\n        text-align: right;\n    }\n</style>\n<table border=\"1\" class=\"dataframe\">\n  <thead>\n    <tr style=\"text-align: right;\">\n      <th></th>\n      <th>UNIQUE_ID</th>\n      <th>COLLISION_ID</th>\n      <th>CRASH_DATE</th>\n      <th>CRASH_TIME</th>\n      <th>PERSON_ID</th>\n      <th>PERSON_TYPE</th>\n      <th>PERSON_INJURY</th>\n      <th>VEHICLE_ID</th>\n      <th>PERSON_AGE</th>\n      <th>EJECTION</th>\n      <th>...</th>\n      <th>BODILY_INJURY</th>\n      <th>POSITION_IN_VEHICLE</th>\n      <th>SAFETY_EQUIPMENT</th>\n      <th>PED_LOCATION</th>\n      <th>PED_ACTION</th>\n      <th>COMPLAINT</th>\n      <th>PED_ROLE</th>\n      <th>CONTRIBUTING_FACTOR_1</th>\n      <th>CONTRIBUTING_FACTOR_2</th>\n      <th>PERSON_SEX</th>\n    </tr>\n  </thead>\n  <tbody>\n    <tr>\n      <th>0</th>\n      <td>10249006</td>\n      <td>4229554</td>\n      <td>10/26/2019</td>\n      <td>9:43</td>\n      <td>31aa2bc0-f545-444f-8cdb-f1cb5cf00b89</td>\n      <td>Occupant</td>\n      <td>Unspecified</td>\n      <td>19141108.0</td>\n      <td>NaN</td>\n      <td>NaN</td>\n      <td>...</td>\n      <td>NaN</td>\n      <td>NaN</td>\n      <td>NaN</td>\n      <td>NaN</td>\n      <td>NaN</td>\n      <td>NaN</td>\n      <td>Registrant</td>\n      <td>NaN</td>\n      <td>NaN</td>\n      <td>U</td>\n    </tr>\n    <tr>\n      <th>1</th>\n      <td>10255054</td>\n      <td>4230587</td>\n      <td>10/25/2019</td>\n      <td>15:15</td>\n      <td>4629e500-a73e-48dc-b8fb-53124d124b80</td>\n      <td>Occupant</td>\n      <td>Unspecified</td>\n      <td>19144075.0</td>\n      <td>33.0</td>\n      <td>Not Ejected</td>\n      <td>...</td>\n      <td>Does Not Apply</td>\n      <td>Front passenger, if two or more persons, inclu...</td>\n      <td>Lap Belt &amp; Harness</td>\n      <td>NaN</td>\n      <td>NaN</td>\n      <td>Does Not Apply</td>\n      <td>Passenger</td>\n      <td>NaN</td>\n      <td>NaN</td>\n      <td>F</td>\n    </tr>\n    <tr>\n      <th>2</th>\n      <td>10253177</td>\n      <td>4230550</td>\n      <td>10/26/2019</td>\n      <td>17:55</td>\n      <td>ae48c136-1383-45db-83f4-2a5eecfb7cff</td>\n      <td>Occupant</td>\n      <td>Unspecified</td>\n      <td>19143133.0</td>\n      <td>55.0</td>\n      <td>NaN</td>\n      <td>...</td>\n      <td>NaN</td>\n      <td>NaN</td>\n      <td>NaN</td>\n      <td>NaN</td>\n      <td>NaN</td>\n      <td>NaN</td>\n      <td>Registrant</td>\n      <td>NaN</td>\n      <td>NaN</td>\n      <td>M</td>\n    </tr>\n    <tr>\n      <th>3</th>\n      <td>6650180</td>\n      <td>3565527</td>\n      <td>11/21/2016</td>\n      <td>13:05</td>\n      <td>2782525</td>\n      <td>Occupant</td>\n      <td>Unspecified</td>\n      <td>NaN</td>\n      <td>NaN</td>\n      <td>NaN</td>\n      <td>...</td>\n      <td>NaN</td>\n      <td>NaN</td>\n      <td>NaN</td>\n      <td>NaN</td>\n      <td>NaN</td>\n      <td>NaN</td>\n      <td>Notified Person</td>\n      <td>NaN</td>\n      <td>NaN</td>\n      <td>NaN</td>\n    </tr>\n    <tr>\n      <th>4</th>\n      <td>10255516</td>\n      <td>4231168</td>\n      <td>10/25/2019</td>\n      <td>11:16</td>\n      <td>e038e18f-40fb-4471-99cf-345eae36e064</td>\n      <td>Occupant</td>\n      <td>Unspecified</td>\n      <td>19144329.0</td>\n      <td>7.0</td>\n      <td>Not Ejected</td>\n      <td>...</td>\n      <td>Does Not Apply</td>\n      <td>Right rear passenger or motorcycle sidecar pas...</td>\n      <td>Lap Belt</td>\n      <td>NaN</td>\n      <td>NaN</td>\n      <td>Does Not Apply</td>\n      <td>Passenger</td>\n      <td>NaN</td>\n      <td>NaN</td>\n      <td>F</td>\n    </tr>\n  </tbody>\n</table>\n<p>5 rows × 21 columns</p>\n</div>"
     },
     "metadata": {},
     "output_type": "display_data"
    }
   ],
   "source": [
    "print(\"\\nPerson Data:\")\n",
    "display(person_data.head())"
   ]
  },
  {
   "cell_type": "code",
   "execution_count": 6,
   "id": "abaab20d",
   "metadata": {
    "ExecuteTime": {
     "end_time": "2024-10-13T03:15:05.151885Z",
     "start_time": "2024-10-13T03:15:05.054612Z"
    }
   },
   "outputs": [
    {
     "name": "stdout",
     "output_type": "stream",
     "text": [
      "\n",
      "Crash Data Info:\n",
      "<class 'pandas.core.frame.DataFrame'>\n",
      "RangeIndex: 2125763 entries, 0 to 2125762\n",
      "Data columns (total 29 columns):\n",
      " #   Column                         Dtype  \n",
      "---  ------                         -----  \n",
      " 0   CRASH DATE                     object \n",
      " 1   CRASH TIME                     object \n",
      " 2   BOROUGH                        object \n",
      " 3   ZIP CODE                       object \n",
      " 4   LATITUDE                       float64\n",
      " 5   LONGITUDE                      float64\n",
      " 6   LOCATION                       object \n",
      " 7   ON STREET NAME                 object \n",
      " 8   CROSS STREET NAME              object \n",
      " 9   OFF STREET NAME                object \n",
      " 10  NUMBER OF PERSONS INJURED      float64\n",
      " 11  NUMBER OF PERSONS KILLED       float64\n",
      " 12  NUMBER OF PEDESTRIANS INJURED  int64  \n",
      " 13  NUMBER OF PEDESTRIANS KILLED   int64  \n",
      " 14  NUMBER OF CYCLIST INJURED      int64  \n",
      " 15  NUMBER OF CYCLIST KILLED       int64  \n",
      " 16  NUMBER OF MOTORIST INJURED     int64  \n",
      " 17  NUMBER OF MOTORIST KILLED      int64  \n",
      " 18  CONTRIBUTING FACTOR VEHICLE 1  object \n",
      " 19  CONTRIBUTING FACTOR VEHICLE 2  object \n",
      " 20  CONTRIBUTING FACTOR VEHICLE 3  object \n",
      " 21  CONTRIBUTING FACTOR VEHICLE 4  object \n",
      " 22  CONTRIBUTING FACTOR VEHICLE 5  object \n",
      " 23  COLLISION_ID                   int64  \n",
      " 24  VEHICLE TYPE CODE 1            object \n",
      " 25  VEHICLE TYPE CODE 2            object \n",
      " 26  VEHICLE TYPE CODE 3            object \n",
      " 27  VEHICLE TYPE CODE 4            object \n",
      " 28  VEHICLE TYPE CODE 5            object \n",
      "dtypes: float64(4), int64(7), object(18)\n",
      "memory usage: 470.3+ MB\n",
      "\n",
      "Person Data Info:\n",
      "<class 'pandas.core.frame.DataFrame'>\n",
      "RangeIndex: 5495040 entries, 0 to 5495039\n",
      "Data columns (total 21 columns):\n",
      " #   Column                 Dtype  \n",
      "---  ------                 -----  \n",
      " 0   UNIQUE_ID              int64  \n",
      " 1   COLLISION_ID           int64  \n",
      " 2   CRASH_DATE             object \n",
      " 3   CRASH_TIME             object \n",
      " 4   PERSON_ID              object \n",
      " 5   PERSON_TYPE            object \n",
      " 6   PERSON_INJURY          object \n",
      " 7   VEHICLE_ID             float64\n",
      " 8   PERSON_AGE             float64\n",
      " 9   EJECTION               object \n",
      " 10  EMOTIONAL_STATUS       object \n",
      " 11  BODILY_INJURY          object \n",
      " 12  POSITION_IN_VEHICLE    object \n",
      " 13  SAFETY_EQUIPMENT       object \n",
      " 14  PED_LOCATION           object \n",
      " 15  PED_ACTION             object \n",
      " 16  COMPLAINT              object \n",
      " 17  PED_ROLE               object \n",
      " 18  CONTRIBUTING_FACTOR_1  object \n",
      " 19  CONTRIBUTING_FACTOR_2  object \n",
      " 20  PERSON_SEX             object \n",
      "dtypes: float64(2), int64(2), object(17)\n",
      "memory usage: 880.4+ MB\n"
     ]
    }
   ],
   "source": [
    "# display datatypes and range\n",
    "print(\"\\nCrash Data Info:\")\n",
    "crash_data.info()\n",
    "print(\"\\nPerson Data Info:\")\n",
    "person_data.info()"
   ]
  },
  {
   "cell_type": "code",
   "outputs": [
    {
     "data": {
      "text/plain": "Index(['CRASH_DATE', 'CRASH_TIME', 'BOROUGH', 'ZIP_CODE', 'LATITUDE',\n       'LONGITUDE', 'LOCATION', 'ON_STREET_NAME', 'CROSS_STREET_NAME',\n       'OFF_STREET_NAME', 'NUMBER_OF_PERSONS_INJURED',\n       'NUMBER_OF_PERSONS_KILLED', 'NUMBER_OF_PEDESTRIANS_INJURED',\n       'NUMBER_OF_PEDESTRIANS_KILLED', 'NUMBER_OF_CYCLIST_INJURED',\n       'NUMBER_OF_CYCLIST_KILLED', 'NUMBER_OF_MOTORIST_INJURED',\n       'NUMBER_OF_MOTORIST_KILLED', 'CONTRIBUTING_FACTOR_VEHICLE_1',\n       'CONTRIBUTING_FACTOR_VEHICLE_2', 'CONTRIBUTING_FACTOR_VEHICLE_3',\n       'CONTRIBUTING_FACTOR_VEHICLE_4', 'CONTRIBUTING_FACTOR_VEHICLE_5',\n       'COLLISION_ID', 'VEHICLE_TYPE_CODE_1', 'VEHICLE_TYPE_CODE_2',\n       'VEHICLE_TYPE_CODE_3', 'VEHICLE_TYPE_CODE_4', 'VEHICLE_TYPE_CODE_5'],\n      dtype='object')"
     },
     "metadata": {},
     "output_type": "display_data"
    }
   ],
   "source": [
    "crash_data.columns = crash_data.columns.str.replace(\" \", \"_\")\n",
    "display(crash_data.columns)"
   ],
   "metadata": {
    "collapsed": false,
    "ExecuteTime": {
     "end_time": "2024-10-13T03:15:05.154023Z",
     "start_time": "2024-10-13T03:15:05.064186Z"
    }
   },
   "id": "7759d956e1fdd2f9",
   "execution_count": 7
  },
  {
   "cell_type": "code",
   "execution_count": 8,
   "id": "28cd9dba",
   "metadata": {
    "scrolled": false,
    "ExecuteTime": {
     "end_time": "2024-10-13T03:15:14.518999Z",
     "start_time": "2024-10-13T03:15:05.067973Z"
    }
   },
   "outputs": [
    {
     "name": "stdout",
     "output_type": "stream",
     "text": [
      "Merged Data (Crash + Person):\n"
     ]
    },
    {
     "data": {
      "text/plain": "(5495040, 47)"
     },
     "metadata": {},
     "output_type": "display_data"
    }
   ],
   "source": [
    "#merge the crash and person data on 'COLLISION_ID'\n",
    "merged_data = pd.merge(crash_data, person_data, on=['COLLISION_ID', 'CRASH_DATE', 'CRASH_TIME'], how='inner')\n",
    "\n",
    "print(\"Merged Data (Crash + Person):\")\n",
    "display(merged_data.shape)"
   ]
  },
  {
   "cell_type": "code",
   "execution_count": null,
   "id": "e69e4f0c",
   "metadata": {},
   "outputs": [],
   "source": [
    "# Merged Data Columns\n",
    "display(merged_data.columns)"
   ]
  },
  {
   "cell_type": "code",
   "execution_count": null,
   "id": "64a37115",
   "metadata": {
    "scrolled": true
   },
   "outputs": [],
   "source": [
    "merged_data.head(20)"
   ]
  },
  {
   "cell_type": "code",
   "outputs": [],
   "source": [
    "# Sub-setting the merged DataFrame for only the columns I need\n",
    "location_df = crash_data.drop(['COLLISION_ID', 'VEHICLE_TYPE_CODE_1', 'VEHICLE_TYPE_CODE_2',\n",
    "       'VEHICLE_TYPE_CODE_3', 'VEHICLE_TYPE_CODE_4', 'VEHICLE_TYPE_CODE_5'], axis=1)"
   ],
   "metadata": {
    "collapsed": false,
    "ExecuteTime": {
     "end_time": "2024-10-13T03:15:14.770783Z",
     "start_time": "2024-10-13T03:15:14.711501Z"
    }
   },
   "id": "d07d3202a26e9aa1",
   "execution_count": 9
  },
  {
   "cell_type": "code",
   "outputs": [
    {
     "name": "stdout",
     "output_type": "stream",
     "text": [
      "<class 'pandas.core.frame.DataFrame'>\n",
      "RangeIndex: 2125763 entries, 0 to 2125762\n",
      "Data columns (total 23 columns):\n",
      " #   Column                         Dtype  \n",
      "---  ------                         -----  \n",
      " 0   CRASH_DATE                     object \n",
      " 1   CRASH_TIME                     object \n",
      " 2   BOROUGH                        object \n",
      " 3   ZIP_CODE                       object \n",
      " 4   LATITUDE                       float64\n",
      " 5   LONGITUDE                      float64\n",
      " 6   LOCATION                       object \n",
      " 7   ON_STREET_NAME                 object \n",
      " 8   CROSS_STREET_NAME              object \n",
      " 9   OFF_STREET_NAME                object \n",
      " 10  NUMBER_OF_PERSONS_INJURED      float64\n",
      " 11  NUMBER_OF_PERSONS_KILLED       float64\n",
      " 12  NUMBER_OF_PEDESTRIANS_INJURED  int64  \n",
      " 13  NUMBER_OF_PEDESTRIANS_KILLED   int64  \n",
      " 14  NUMBER_OF_CYCLIST_INJURED      int64  \n",
      " 15  NUMBER_OF_CYCLIST_KILLED       int64  \n",
      " 16  NUMBER_OF_MOTORIST_INJURED     int64  \n",
      " 17  NUMBER_OF_MOTORIST_KILLED      int64  \n",
      " 18  CONTRIBUTING_FACTOR_VEHICLE_1  object \n",
      " 19  CONTRIBUTING_FACTOR_VEHICLE_2  object \n",
      " 20  CONTRIBUTING_FACTOR_VEHICLE_3  object \n",
      " 21  CONTRIBUTING_FACTOR_VEHICLE_4  object \n",
      " 22  CONTRIBUTING_FACTOR_VEHICLE_5  object \n",
      "dtypes: float64(4), int64(6), object(13)\n",
      "memory usage: 373.0+ MB\n"
     ]
    },
    {
     "data": {
      "text/plain": "None"
     },
     "metadata": {},
     "output_type": "display_data"
    }
   ],
   "source": [
    "display(location_df.info())"
   ],
   "metadata": {
    "collapsed": false,
    "ExecuteTime": {
     "end_time": "2024-10-13T03:15:14.779353Z",
     "start_time": "2024-10-13T03:15:14.774689Z"
    }
   },
   "id": "1e4eb6fa9b3754ed",
   "execution_count": 10
  },
  {
   "cell_type": "code",
   "execution_count": 11,
   "id": "471bfa2a",
   "metadata": {
    "scrolled": true,
    "ExecuteTime": {
     "end_time": "2024-10-13T03:15:15.473818Z",
     "start_time": "2024-10-13T03:15:15.431545Z"
    }
   },
   "outputs": [
    {
     "name": "stdout",
     "output_type": "stream",
     "text": [
      "Missing values in Location Data:\n",
      "CRASH_DATE                             0\n",
      "CRASH_TIME                             0\n",
      "BOROUGH                           661104\n",
      "ZIP_CODE                          661364\n",
      "LATITUDE                          252597\n",
      "LONGITUDE                         252597\n",
      "LOCATION                          252597\n",
      "ON_STREET_NAME                    455112\n",
      "CROSS_STREET_NAME                 810044\n",
      "OFF_STREET_NAME                  1763024\n",
      "NUMBER_OF_PERSONS_INJURED             18\n",
      "NUMBER_OF_PERSONS_KILLED              31\n",
      "NUMBER_OF_PEDESTRIANS_INJURED          0\n",
      "NUMBER_OF_PEDESTRIANS_KILLED           0\n",
      "NUMBER_OF_CYCLIST_INJURED              0\n",
      "NUMBER_OF_CYCLIST_KILLED               0\n",
      "NUMBER_OF_MOTORIST_INJURED             0\n",
      "NUMBER_OF_MOTORIST_KILLED              0\n",
      "CONTRIBUTING_FACTOR_VEHICLE_1       7144\n",
      "CONTRIBUTING_FACTOR_VEHICLE_2     333073\n",
      "CONTRIBUTING_FACTOR_VEHICLE_3    1972957\n",
      "CONTRIBUTING_FACTOR_VEHICLE_4    2091067\n",
      "CONTRIBUTING_FACTOR_VEHICLE_5    2116325\n",
      "dtype: int64\n"
     ]
    }
   ],
   "source": [
    "#check for missing values \n",
    "print(\"Missing values in Location Data:\")\n",
    "print(location_df.isnull().sum())"
   ]
  },
  {
   "cell_type": "markdown",
   "source": [
    "### Cleaning the Location related Columns"
   ],
   "metadata": {
    "collapsed": false
   },
   "id": "6339594946f4c008"
  },
  {
   "cell_type": "code",
   "outputs": [],
   "source": [
    "from geopy.geocoders import Nominatim, GoogleV3\n",
    "from geopy.exc import  GeocoderTimedOut, GeocoderUnavailable\n",
    "from pprint import pprint\n",
    "import numpy as np\n",
    "import time\n",
    "import requests\n",
    "from geopy.adapters import AioHTTPAdapter"
   ],
   "metadata": {
    "collapsed": false,
    "ExecuteTime": {
     "end_time": "2024-10-13T03:23:52.402186Z",
     "start_time": "2024-10-13T03:23:52.398910Z"
    }
   },
   "id": "bd5a2f758dbc0564",
   "execution_count": 26
  },
  {
   "cell_type": "code",
   "outputs": [],
   "source": [
    "def get_geolocation(address):\n",
    "    time.sleep(1)\n",
    "    location_string = app.geocode(address, timeout=10).raw\n",
    "    pprint(location_string)\n",
    "    return location_string"
   ],
   "metadata": {
    "collapsed": false,
    "ExecuteTime": {
     "end_time": "2024-10-13T03:18:10.619875Z",
     "start_time": "2024-10-13T03:18:10.614358Z"
    }
   },
   "id": "4a6057c0f33daf2d",
   "execution_count": 17
  },
  {
   "cell_type": "code",
   "outputs": [
    {
     "name": "stdout",
     "output_type": "stream",
     "text": [
      "<html>\n",
      "<head>\n",
      "<title>Access blocked</title>\n",
      "</head>\n",
      "<body>\n",
      "<h1>Access blocked</h1>\n",
      "\n",
      "<p>You have been blocked because you have violated the\n",
      "<a href=\"https://operations.osmfoundation.org/policies/nominatim/\">usage policy</a>\n",
      "of OSM's Nominatim geocoding service. Please be aware that OSM's resources are\n",
      "limited and shared between many users. The usage policy is there to ensure that\n",
      "the service remains usable for everybody.</p>\n",
      "\n",
      "<p>Please review the terms and make sure that your\n",
      "software adheres to the terms. You should in particular verify that you have set a\n",
      "<b>custom HTTP referrer or HTTP user agent</b> that identifies your application, and\n",
      "that you are not overusing the service with massive bulk requests.</p>\n",
      "\n",
      "<p>If you feel that this block is unjustified or remains after you have adopted\n",
      "your usage, you may contact the Nominatim system administrator at\n",
      "nominatim@openstreetmap.org to have this block lifted.</p>\n",
      "</body>\n",
      "</head>\n"
     ]
    }
   ],
   "source": [
    "l = requests.get('https://nominatim.openstreetmap.org/search', params={'q': 'whitestone expressway', 'format': 'json'}, verify=True)\n",
    "\n",
    "print(l.text)"
   ],
   "metadata": {
    "collapsed": false,
    "ExecuteTime": {
     "end_time": "2024-10-13T03:22:27.972218Z",
     "start_time": "2024-10-13T03:22:27.722551Z"
    }
   },
   "id": "e7c7fbc96641fcdb",
   "execution_count": 23
  },
  {
   "cell_type": "code",
   "outputs": [
    {
     "ename": "ImportError",
     "evalue": "`aiohttp` must be installed in order to use AioHTTPAdapter. If you have installed geopy via pip, you may use this command to install aiohttp: `pip install \"geopy[aiohttp]\"`.",
     "output_type": "error",
     "traceback": [
      "\u001B[0;31m---------------------------------------------------------------------------\u001B[0m",
      "\u001B[0;31mImportError\u001B[0m                               Traceback (most recent call last)",
      "Cell \u001B[0;32mIn[28], line 2\u001B[0m\n\u001B[1;32m      1\u001B[0m \u001B[38;5;66;03m# app = Nominatim(user_agent=\"Locations Data Cleaner\")\u001B[39;00m\n\u001B[0;32m----> 2\u001B[0m app \u001B[38;5;241m=\u001B[39m \u001B[43mNominatim\u001B[49m\u001B[43m(\u001B[49m\u001B[43muser_agent\u001B[49m\u001B[38;5;241;43m=\u001B[39;49m\u001B[38;5;124;43m\"\u001B[39;49m\u001B[38;5;124;43mskater\u001B[39;49m\u001B[38;5;124;43m\"\u001B[39;49m\u001B[43m,\u001B[49m\u001B[43m \u001B[49m\u001B[43madapter_factory\u001B[49m\u001B[38;5;241;43m=\u001B[39;49m\u001B[43mAioHTTPAdapter\u001B[49m\u001B[43m)\u001B[49m\n\u001B[1;32m      3\u001B[0m location_columns \u001B[38;5;241m=\u001B[39m [\u001B[38;5;124m'\u001B[39m\u001B[38;5;124mBOROUGH\u001B[39m\u001B[38;5;124m'\u001B[39m, \u001B[38;5;124m'\u001B[39m\u001B[38;5;124mZIP_CODE\u001B[39m\u001B[38;5;124m'\u001B[39m, \u001B[38;5;124m'\u001B[39m\u001B[38;5;124mON_STREET_NAME\u001B[39m\u001B[38;5;124m'\u001B[39m, \u001B[38;5;124m'\u001B[39m\u001B[38;5;124mCROSS_STREET_NAME\u001B[39m\u001B[38;5;124m'\u001B[39m, \u001B[38;5;124m'\u001B[39m\u001B[38;5;124mOFF_STREET_NAME\u001B[39m\u001B[38;5;124m'\u001B[39m]\n\u001B[1;32m      4\u001B[0m \u001B[38;5;66;03m# Drop all rows where location column names are null\u001B[39;00m\n",
      "File \u001B[0;32m~/git/DataScience610/.venv/lib/python3.13/site-packages/geopy/geocoders/nominatim.py:92\u001B[0m, in \u001B[0;36mNominatim.__init__\u001B[0;34m(self, timeout, proxies, domain, scheme, user_agent, ssl_context, adapter_factory)\u001B[0m\n\u001B[1;32m     53\u001B[0m \u001B[38;5;28;01mdef\u001B[39;00m \u001B[38;5;21m__init__\u001B[39m(\n\u001B[1;32m     54\u001B[0m         \u001B[38;5;28mself\u001B[39m,\n\u001B[1;32m     55\u001B[0m         \u001B[38;5;241m*\u001B[39m,\n\u001B[0;32m   (...)\u001B[0m\n\u001B[1;32m     64\u001B[0m         \u001B[38;5;66;03m# inheriting classes (e.g. PickPoint).\u001B[39;00m\n\u001B[1;32m     65\u001B[0m ):\n\u001B[1;32m     66\u001B[0m \u001B[38;5;250m    \u001B[39m\u001B[38;5;124;03m\"\"\"\u001B[39;00m\n\u001B[1;32m     67\u001B[0m \n\u001B[1;32m     68\u001B[0m \u001B[38;5;124;03m    :param int timeout:\u001B[39;00m\n\u001B[0;32m   (...)\u001B[0m\n\u001B[1;32m     90\u001B[0m \u001B[38;5;124;03m        .. versionadded:: 2.0\u001B[39;00m\n\u001B[1;32m     91\u001B[0m \u001B[38;5;124;03m    \"\"\"\u001B[39;00m\n\u001B[0;32m---> 92\u001B[0m     \u001B[38;5;28;43msuper\u001B[39;49m\u001B[43m(\u001B[49m\u001B[43m)\u001B[49m\u001B[38;5;241;43m.\u001B[39;49m\u001B[38;5;21;43m__init__\u001B[39;49m\u001B[43m(\u001B[49m\n\u001B[1;32m     93\u001B[0m \u001B[43m        \u001B[49m\u001B[43mscheme\u001B[49m\u001B[38;5;241;43m=\u001B[39;49m\u001B[43mscheme\u001B[49m\u001B[43m,\u001B[49m\n\u001B[1;32m     94\u001B[0m \u001B[43m        \u001B[49m\u001B[43mtimeout\u001B[49m\u001B[38;5;241;43m=\u001B[39;49m\u001B[43mtimeout\u001B[49m\u001B[43m,\u001B[49m\n\u001B[1;32m     95\u001B[0m \u001B[43m        \u001B[49m\u001B[43mproxies\u001B[49m\u001B[38;5;241;43m=\u001B[39;49m\u001B[43mproxies\u001B[49m\u001B[43m,\u001B[49m\n\u001B[1;32m     96\u001B[0m \u001B[43m        \u001B[49m\u001B[43muser_agent\u001B[49m\u001B[38;5;241;43m=\u001B[39;49m\u001B[43muser_agent\u001B[49m\u001B[43m,\u001B[49m\n\u001B[1;32m     97\u001B[0m \u001B[43m        \u001B[49m\u001B[43mssl_context\u001B[49m\u001B[38;5;241;43m=\u001B[39;49m\u001B[43mssl_context\u001B[49m\u001B[43m,\u001B[49m\n\u001B[1;32m     98\u001B[0m \u001B[43m        \u001B[49m\u001B[43madapter_factory\u001B[49m\u001B[38;5;241;43m=\u001B[39;49m\u001B[43madapter_factory\u001B[49m\u001B[43m,\u001B[49m\n\u001B[1;32m     99\u001B[0m \u001B[43m    \u001B[49m\u001B[43m)\u001B[49m\n\u001B[1;32m    101\u001B[0m     \u001B[38;5;28mself\u001B[39m\u001B[38;5;241m.\u001B[39mdomain \u001B[38;5;241m=\u001B[39m domain\u001B[38;5;241m.\u001B[39mstrip(\u001B[38;5;124m'\u001B[39m\u001B[38;5;124m/\u001B[39m\u001B[38;5;124m'\u001B[39m)\n\u001B[1;32m    103\u001B[0m     \u001B[38;5;28;01mif\u001B[39;00m (\u001B[38;5;28mself\u001B[39m\u001B[38;5;241m.\u001B[39mdomain \u001B[38;5;241m==\u001B[39m _DEFAULT_NOMINATIM_DOMAIN\n\u001B[1;32m    104\u001B[0m             \u001B[38;5;129;01mand\u001B[39;00m \u001B[38;5;28mself\u001B[39m\u001B[38;5;241m.\u001B[39mheaders[\u001B[38;5;124m'\u001B[39m\u001B[38;5;124mUser-Agent\u001B[39m\u001B[38;5;124m'\u001B[39m] \u001B[38;5;129;01min\u001B[39;00m _REJECTED_USER_AGENTS):\n",
      "File \u001B[0;32m~/git/DataScience610/.venv/lib/python3.13/site-packages/geopy/geocoders/base.py:247\u001B[0m, in \u001B[0;36mGeocoder.__init__\u001B[0;34m(self, scheme, timeout, proxies, user_agent, ssl_context, adapter_factory)\u001B[0m\n\u001B[1;32m    245\u001B[0m \u001B[38;5;28;01mif\u001B[39;00m adapter_factory \u001B[38;5;129;01mis\u001B[39;00m \u001B[38;5;28;01mNone\u001B[39;00m:\n\u001B[1;32m    246\u001B[0m     adapter_factory \u001B[38;5;241m=\u001B[39m options\u001B[38;5;241m.\u001B[39mdefault_adapter_factory\n\u001B[0;32m--> 247\u001B[0m \u001B[38;5;28mself\u001B[39m\u001B[38;5;241m.\u001B[39madapter \u001B[38;5;241m=\u001B[39m \u001B[43madapter_factory\u001B[49m\u001B[43m(\u001B[49m\n\u001B[1;32m    248\u001B[0m \u001B[43m    \u001B[49m\u001B[43mproxies\u001B[49m\u001B[38;5;241;43m=\u001B[39;49m\u001B[38;5;28;43mself\u001B[39;49m\u001B[38;5;241;43m.\u001B[39;49m\u001B[43mproxies\u001B[49m\u001B[43m,\u001B[49m\n\u001B[1;32m    249\u001B[0m \u001B[43m    \u001B[49m\u001B[43mssl_context\u001B[49m\u001B[38;5;241;43m=\u001B[39;49m\u001B[38;5;28;43mself\u001B[39;49m\u001B[38;5;241;43m.\u001B[39;49m\u001B[43mssl_context\u001B[49m\u001B[43m,\u001B[49m\n\u001B[1;32m    250\u001B[0m \u001B[43m\u001B[49m\u001B[43m)\u001B[49m\n\u001B[1;32m    251\u001B[0m \u001B[38;5;28;01mif\u001B[39;00m \u001B[38;5;28misinstance\u001B[39m(\u001B[38;5;28mself\u001B[39m\u001B[38;5;241m.\u001B[39madapter, BaseSyncAdapter):\n\u001B[1;32m    252\u001B[0m     \u001B[38;5;28mself\u001B[39m\u001B[38;5;241m.\u001B[39m__run_async \u001B[38;5;241m=\u001B[39m \u001B[38;5;28;01mFalse\u001B[39;00m\n",
      "File \u001B[0;32m~/git/DataScience610/.venv/lib/python3.13/site-packages/geopy/adapters.py:525\u001B[0m, in \u001B[0;36mAioHTTPAdapter.__init__\u001B[0;34m(self, proxies, ssl_context)\u001B[0m\n\u001B[1;32m    523\u001B[0m \u001B[38;5;28;01mdef\u001B[39;00m \u001B[38;5;21m__init__\u001B[39m(\u001B[38;5;28mself\u001B[39m, \u001B[38;5;241m*\u001B[39m, proxies, ssl_context):\n\u001B[1;32m    524\u001B[0m     \u001B[38;5;28;01mif\u001B[39;00m \u001B[38;5;129;01mnot\u001B[39;00m aiohttp_available:\n\u001B[0;32m--> 525\u001B[0m         \u001B[38;5;28;01mraise\u001B[39;00m \u001B[38;5;167;01mImportError\u001B[39;00m(\n\u001B[1;32m    526\u001B[0m             \u001B[38;5;124m\"\u001B[39m\u001B[38;5;124m`aiohttp` must be installed in order to use AioHTTPAdapter. \u001B[39m\u001B[38;5;124m\"\u001B[39m\n\u001B[1;32m    527\u001B[0m             \u001B[38;5;124m\"\u001B[39m\u001B[38;5;124mIf you have installed geopy via pip, you may use \u001B[39m\u001B[38;5;124m\"\u001B[39m\n\u001B[1;32m    528\u001B[0m             \u001B[38;5;124m\"\u001B[39m\u001B[38;5;124mthis command to install aiohttp: \u001B[39m\u001B[38;5;124m\"\u001B[39m\n\u001B[1;32m    529\u001B[0m             \u001B[38;5;124m'\u001B[39m\u001B[38;5;124m`pip install \u001B[39m\u001B[38;5;124m\"\u001B[39m\u001B[38;5;124mgeopy[aiohttp]\u001B[39m\u001B[38;5;124m\"\u001B[39m\u001B[38;5;124m`.\u001B[39m\u001B[38;5;124m'\u001B[39m\n\u001B[1;32m    530\u001B[0m         )\n\u001B[1;32m    531\u001B[0m     proxies \u001B[38;5;241m=\u001B[39m _normalize_proxies(proxies)\n\u001B[1;32m    532\u001B[0m     \u001B[38;5;28msuper\u001B[39m()\u001B[38;5;241m.\u001B[39m\u001B[38;5;21m__init__\u001B[39m(proxies\u001B[38;5;241m=\u001B[39mproxies, ssl_context\u001B[38;5;241m=\u001B[39mssl_context)\n",
      "\u001B[0;31mImportError\u001B[0m: `aiohttp` must be installed in order to use AioHTTPAdapter. If you have installed geopy via pip, you may use this command to install aiohttp: `pip install \"geopy[aiohttp]\"`."
     ]
    }
   ],
   "source": [
    "# app = Nominatim(user_agent=\"Locations Data Cleaner\")\n",
    "app = Nominatim(user_agent=\"skater\", adapter_factory=AioHTTPAdapter)\n",
    "location_columns = ['BOROUGH', 'ZIP_CODE', 'ON_STREET_NAME', 'CROSS_STREET_NAME', 'OFF_STREET_NAME']\n",
    "# Drop all rows where location column names are null\n",
    "location_df.dropna(subset=location_columns, how='all', inplace=True)\n",
    "temp_df = location_df.loc[location_df.LOCATION.isnull(), location_columns]\n",
    "\n",
    "for idx, x in temp_df.iterrows():\n",
    "    temp = [str(y) for y in x if str(y) != 'nan']\n",
    "    name = get_geolocation(temp[0].lower())\n",
    "    display(name)\n",
    "    if idx == 1:\n",
    "        break"
   ],
   "metadata": {
    "collapsed": false,
    "ExecuteTime": {
     "end_time": "2024-10-13T03:24:34.078797Z",
     "start_time": "2024-10-13T03:24:34.050568Z"
    }
   },
   "id": "e4e4e96f42ea9f69",
   "execution_count": 28
  },
  {
   "cell_type": "code",
   "execution_count": null,
   "id": "18d866b4",
   "metadata": {
    "scrolled": true,
    "ExecuteTime": {
     "end_time": "2024-10-13T02:56:53.805845Z",
     "start_time": "2024-10-13T02:56:53.804427Z"
    }
   },
   "outputs": [],
   "source": [
    "#fill nulls with 'UNKNOWN' or 0 \n",
    "location_df.fillna({\n",
    "    \"CONTRIBUTING_FACTOR_VEHICLE_1\":  \"UNKNOWN\",\n",
    "    \"CONTRIBUTING_FACTOR_VEHICLE_2\":  \"UNKNOWN\",\n",
    "    \"CONTRIBUTING_FACTOR_VEHICLE_3\":  \"UNKNOWN\",\n",
    "    \"CONTRIBUTING_FACTOR_VEHICLE_4\":  \"UNKNOWN\",\n",
    "    \"CONTRIBUTING_FACTOR_VEHICLE_5\":  \"UNKNOWN\",\n",
    "}, inplace=True)\n",
    "\n",
    "print(\"Location Data after cleaning:\")\n",
    "print(location_df.isnull().sum())"
   ]
  },
  {
   "cell_type": "code",
   "execution_count": null,
   "id": "d91d6973",
   "metadata": {},
   "outputs": [],
   "source": [
    "print(\"Crash Data after cleaning:\")\n",
    "print(crash_data.isnull().sum())"
   ]
  },
  {
   "cell_type": "code",
   "execution_count": null,
   "id": "bb163081",
   "metadata": {
    "collapsed": true
   },
   "outputs": [],
   "source": [
    "# Fill missing values for non-critical fields with 'UNKNOWN'\n",
    "person_data.fillna({\n",
    "    'PERSON_SEX': 'UNKNOWN',\n",
    "    'EJECTION': 'UNKNOWN',\n",
    "    'EMOTIONAL_STATUS': 'UNKNOWN',\n",
    "    'BODILY_INJURY': 'UNKNOWN',\n",
    "    'POSITION_IN_VEHICLE': 'UNKNOWN',\n",
    "    'SAFETY_EQUIPMENT': 'UNKNOWN',\n",
    "    'PED_LOCATION': 'UNKNOWN',\n",
    "    'PED_ACTION': 'UNKNOWN',\n",
    "    'COMPLAINT': 'UNKNOWN',\n",
    "    'PED_ROLE': 'UNKNOWN',\n",
    "    'CONTRIBUTING_FACTOR_1': 'UNKNOWN',\n",
    "    'CONTRIBUTING_FACTOR_2': 'UNKNOWN'\n",
    "}, inplace=True)"
   ]
  },
  {
   "cell_type": "code",
   "execution_count": null,
   "id": "63d209c9",
   "metadata": {},
   "outputs": [],
   "source": [
    "print(\"Person Data after cleaning:\")\n",
    "print(person_data.isnull().sum())"
   ]
  },
  {
   "cell_type": "code",
   "outputs": [],
   "source": [
    "#merge the crash and person data on 'COLLISION_ID'\n",
    "merged_data = pd.merge(crash_data, person_data, on='COLLISION_ID', how='inner')\n",
    "\n",
    "print(\"Merged Data (Crash + Person):\")\n",
    "display(merged_data.shape)\n"
   ],
   "metadata": {
    "collapsed": false
   },
   "id": "f2ee1e56019dc941"
  },
  {
   "cell_type": "code",
   "outputs": [],
   "source": [
    "#drop rows where both 'ON STREET NAME' and 'CROSS STREET NAME' are 'UNKNOWN' and LATITUDE/LONGITUDE are missing in merged data\n",
    "merged_data_cleaned = merged_data[\n",
    "    ~(\n",
    "        (merged_data['ON STREET NAME'] == 'UNKNOWN') &\n",
    "        (merged_data['CROSS STREET NAME'] == 'UNKNOWN') &\n",
    "        (merged_data['LATITUDE'].isnull()) &\n",
    "        (merged_data['LONGITUDE'].isnull())\n",
    "    )\n",
    "]\n",
    "\n",
    "# Display the remaining data after applying the conditions\n",
    "print(\"Merged Data after dropping rows with missing location info:\")\n",
    "print(merged_data_cleaned.shape)"
   ],
   "metadata": {
    "collapsed": false
   },
   "id": "2bdf264e2986b2e6"
  },
  {
   "cell_type": "code",
   "outputs": [],
   "source": [
    "# Check for unique values in categorical columns (e.g., BOROUGH, PERSON_TYPE, CONTRIBUTING FACTOR)\n",
    "print(\"\\nUnique values in BOROUGH:\")\n",
    "print(merged_data_cleaned['BOROUGH'].unique())"
   ],
   "metadata": {
    "collapsed": false
   },
   "id": "44cec32a8f5a89b1"
  },
  {
   "cell_type": "code",
   "outputs": [],
   "source": [
    "print(\"\\nUnique values in PERSON_TYPE:\")\n",
    "print(merged_data_cleaned['PERSON_TYPE'].unique())"
   ],
   "metadata": {
    "collapsed": false
   },
   "id": "2433ef30a6a616b1"
  },
  {
   "cell_type": "code",
   "outputs": [],
   "source": [
    "print(\"\\nUnique values in CONTRIBUTING FACTOR:\")\n",
    "print(merged_data_cleaned['CONTRIBUTING FACTOR VEHICLE 1'].unique())"
   ],
   "metadata": {
    "collapsed": false
   },
   "id": "7a7c4e362e26c423"
  },
  {
   "cell_type": "code",
   "outputs": [],
   "source": [
    "# Count the number of 'UNKNOWN' in each contributing factor column\n",
    "unknown_factors_vehicle_1 = merged_data_cleaned['CONTRIBUTING FACTOR VEHICLE 1'].str.upper().value_counts().get('UNKNOWN', 0)\n",
    "unknown_factors_vehicle_2 = merged_data_cleaned['CONTRIBUTING FACTOR VEHICLE 2'].str.upper().value_counts().get('UNKNOWN', 0)\n",
    "unknown_factors_vehicle_3 = merged_data_cleaned['CONTRIBUTING FACTOR VEHICLE 3'].str.upper().value_counts().get('UNKNOWN', 0)\n",
    "unknown_factors_vehicle_4 = merged_data_cleaned['CONTRIBUTING FACTOR VEHICLE 4'].str.upper().value_counts().get('UNKNOWN', 0)\n",
    "unknown_factors_vehicle_5 = merged_data_cleaned['CONTRIBUTING FACTOR VEHICLE 5'].str.upper().value_counts().get('UNKNOWN', 0)\n",
    "\n",
    "# Print the results\n",
    "print(f\"Number of 'UNKNOWN' in Contributing Factor Vehicle 1: {unknown_factors_vehicle_1}\")\n",
    "print(f\"Number of 'UNKNOWN' in Contributing Factor Vehicle 2: {unknown_factors_vehicle_2}\")\n",
    "print(f\"Number of 'UNKNOWN' in Contributing Factor Vehicle 3: {unknown_factors_vehicle_3}\")\n",
    "print(f\"Number of 'UNKNOWN' in Contributing Factor Vehicle 4: {unknown_factors_vehicle_4}\")\n",
    "print(f\"Number of 'UNKNOWN' in Contributing Factor Vehicle 5: {unknown_factors_vehicle_5}\")\n",
    "\n",
    "# Total unknown contributing factors across all columns\n",
    "total_unknown_factors = (\n",
    "    unknown_factors_vehicle_1 +\n",
    "    unknown_factors_vehicle_2 +\n",
    "    unknown_factors_vehicle_3 +\n",
    "    unknown_factors_vehicle_4 +\n",
    "    unknown_factors_vehicle_5\n",
    ")\n",
    "\n",
    "print(f\"Total 'UNKNOWN' contributing factors: {total_unknown_factors}\")\n"
   ],
   "metadata": {
    "collapsed": false
   },
   "id": "33ad847d23304bea"
  },
  {
   "cell_type": "code",
   "outputs": [],
   "source": [
    "# Filter rows where 'CONTRIBUTING FACTOR VEHICLE 1' is 'UNKNOWN'\n",
    "unknown_in_vehicle_1 = merged_data_cleaned[merged_data_cleaned['CONTRIBUTING FACTOR VEHICLE 1'].str.upper() == 'UNKNOWN']\n",
    "\n",
    "# Check if there are any non-'UNKNOWN' values in other contributing factor columns\n",
    "# We'll check columns 'CONTRIBUTING FACTOR VEHICLE 2', 'CONTRIBUTING FACTOR VEHICLE 3', etc.\n",
    "non_unknown_in_others = unknown_in_vehicle_1[\n",
    "    (unknown_in_vehicle_1['CONTRIBUTING FACTOR VEHICLE 2'].str.upper() != 'UNKNOWN') |\n",
    "    (unknown_in_vehicle_1['CONTRIBUTING FACTOR VEHICLE 3'].str.upper() != 'UNKNOWN') |\n",
    "    (unknown_in_vehicle_1['CONTRIBUTING FACTOR VEHICLE 4'].str.upper() != 'UNKNOWN') |\n",
    "    (unknown_in_vehicle_1['CONTRIBUTING FACTOR VEHICLE 5'].str.upper() != 'UNKNOWN')\n",
    "]\n",
    "\n",
    "# Count the number of such rows\n",
    "count_non_unknown_in_others = len(non_unknown_in_others)\n",
    "\n",
    "# Display the count and a sample of the filtered data\n",
    "print(f\"Number of rows where 'CONTRIBUTING FACTOR VEHICLE 1' is 'UNKNOWN' but other vehicles have known contributing factors: {count_non_unknown_in_others}\")\n",
    "display(non_unknown_in_others.head())\n"
   ],
   "metadata": {
    "collapsed": false
   },
   "id": "fcaf4bd9ae9b7582"
  },
  {
   "cell_type": "code",
   "outputs": [],
   "source": [
    "merged_data_cleaned.loc['CONTRIBUTING FACTOR VEHICLE 1'].str.upper()"
   ],
   "metadata": {
    "collapsed": false
   },
   "id": "f81e71b7c665e320"
  },
  {
   "cell_type": "code",
   "outputs": [],
   "source": [
    "# Convert all contributing factor columns to uppercase for consistency\n",
    "merged_data_cleaned['CONTRIBUTING FACTOR VEHICLE 1'] = merged_data_cleaned.loc[merged_data_cleaned['CONTRIBUTING FACTOR VEHICLE 1']].str.upper()\n",
    "merged_data_cleaned['CONTRIBUTING FACTOR VEHICLE 2'] = merged_data_cleaned['CONTRIBUTING FACTOR VEHICLE 2'].str.upper()\n",
    "merged_data_cleaned['CONTRIBUTING FACTOR VEHICLE 3'] = merged_data_cleaned['CONTRIBUTING FACTOR VEHICLE 3'].str.upper()\n",
    "merged_data_cleaned['CONTRIBUTING FACTOR VEHICLE 4'] = merged_data_cleaned['CONTRIBUTING FACTOR VEHICLE 4'].str.upper()\n",
    "merged_data_cleaned['CONTRIBUTING FACTOR VEHICLE 5'] = merged_data_cleaned['CONTRIBUTING FACTOR VEHICLE 5'].str.upper()\n",
    "\n",
    "# Define the conditions for 'UNKNOWN' or 'UNSPECIFIED' in all contributing factors\n",
    "all_factors_unknown = merged_data_cleaned[\n",
    "    (merged_data_cleaned['CONTRIBUTING FACTOR VEHICLE 1'].isin(['UNKNOWN', 'UNSPECIFIED'])) &\n",
    "    (merged_data_cleaned['CONTRIBUTING FACTOR VEHICLE 2'].isin(['UNKNOWN', 'UNSPECIFIED'])) &\n",
    "    (merged_data_cleaned['CONTRIBUTING FACTOR VEHICLE 3'].isin(['UNKNOWN', 'UNSPECIFIED'])) &\n",
    "    (merged_data_cleaned['CONTRIBUTING FACTOR VEHICLE 4'].isin(['UNKNOWN', 'UNSPECIFIED'])) &\n",
    "    (merged_data_cleaned['CONTRIBUTING FACTOR VEHICLE 5'].isin(['UNKNOWN', 'UNSPECIFIED']))\n",
    "]\n",
    "\n",
    "# Count the rows that satisfy the condition\n",
    "count_all_factors_unknown = len(all_factors_unknown)\n",
    "\n",
    "# Output the result\n",
    "print(f\"Number of rows with 'UNKNOWN' or 'UNSPECIFIED' in all contributing factor columns: {count_all_factors_unknown}\")\n"
   ],
   "metadata": {
    "collapsed": false
   },
   "id": "7b838a079d0d9a39"
  },
  {
   "cell_type": "code",
   "outputs": [],
   "source": [
    "merged_data_cleaned.head()"
   ],
   "metadata": {
    "collapsed": false
   },
   "id": "bda5c4d170ae2f21"
  },
  {
   "cell_type": "code",
   "outputs": [],
   "source": [
    "# Drop rows where all contributing factor columns are 'UNKNOWN' or 'UNSPECIFIED'\n",
    "merged_data_cleaned = merged_data_cleaned[\n",
    "    ~(\n",
    "        (merged_data_cleaned['CONTRIBUTING FACTOR VEHICLE 1'].isin(['UNKNOWN', 'UNSPECIFIED'])) &\n",
    "        (merged_data_cleaned['CONTRIBUTING FACTOR VEHICLE 2'].isin(['UNKNOWN', 'UNSPECIFIED'])) &\n",
    "        (merged_data_cleaned['CONTRIBUTING FACTOR VEHICLE 3'].isin(['UNKNOWN', 'UNSPECIFIED'])) &\n",
    "        (merged_data_cleaned['CONTRIBUTING FACTOR VEHICLE 4'].isin(['UNKNOWN', 'UNSPECIFIED'])) &\n",
    "        (merged_data_cleaned['CONTRIBUTING FACTOR VEHICLE 5'].isin(['UNKNOWN', 'UNSPECIFIED']))\n",
    "    )\n",
    "]\n",
    "\n",
    "# Display the result to confirm rows were dropped\n",
    "print(f\"Data after dropping rows with all 'UNKNOWN' or 'UNSPECIFIED' contributing factors:\")\n",
    "print(merged_data_cleaned.shape)\n"
   ],
   "metadata": {
    "collapsed": false
   },
   "id": "2f7455aaf3a9bfca"
  },
  {
   "cell_type": "code",
   "outputs": [],
   "source": [
    "merged_data_cleaned.to_csv(str(dir_path / raw_data_path))"
   ],
   "metadata": {
    "collapsed": false
   },
   "id": "30493fcd0055937"
  }
 ],
 "metadata": {
  "kernelspec": {
   "display_name": "Python 3 (ipykernel)",
   "language": "python",
   "name": "python3"
  },
  "language_info": {
   "codemirror_mode": {
    "name": "ipython",
    "version": 3
   },
   "file_extension": ".py",
   "mimetype": "text/x-python",
   "name": "python",
   "nbconvert_exporter": "python",
   "pygments_lexer": "ipython3",
   "version": "3.10.9"
  }
 },
 "nbformat": 4,
 "nbformat_minor": 5
}
