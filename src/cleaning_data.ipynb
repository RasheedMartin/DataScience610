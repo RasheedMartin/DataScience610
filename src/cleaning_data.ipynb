{
 "cells": [
  {
   "cell_type": "markdown",
   "source": [
    "# Pre-Processing and Cleaning of Data"
   ],
   "metadata": {
    "collapsed": false
   },
   "id": "cf93887dee6e52fd"
  },
  {
   "cell_type": "code",
   "execution_count": 147,
   "id": "bbd9520f",
   "metadata": {
    "ExecuteTime": {
     "end_time": "2024-10-16T19:23:50.339541Z",
     "start_time": "2024-10-16T19:23:50.265794Z"
    }
   },
   "outputs": [],
   "source": [
    "import pandas as pd\n",
    "from pathlib import Path"
   ]
  },
  {
   "cell_type": "code",
   "execution_count": 148,
   "id": "f785221b",
   "metadata": {
    "ExecuteTime": {
     "end_time": "2024-10-16T19:23:50.427387Z",
     "start_time": "2024-10-16T19:23:50.341552Z"
    }
   },
   "outputs": [],
   "source": [
    "dir_path = Path().cwd().parent\n",
    "raw_data_path = Path('data_files/raw_data')"
   ]
  },
  {
   "cell_type": "code",
   "execution_count": 149,
   "id": "82fb76ce",
   "metadata": {
    "ExecuteTime": {
     "end_time": "2024-10-16T19:24:10.605876Z",
     "start_time": "2024-10-16T19:23:50.429954Z"
    }
   },
   "outputs": [],
   "source": [
    "crash_data = pd.read_csv(str(dir_path / raw_data_path /  Path(\"Motor_Vehicle_Collisions_-_Crashes.csv\")), low_memory=False)\n",
    "person_data = pd.read_csv(str(dir_path / raw_data_path / Path(\"Motor_Vehicle_Collisions_-_Person.csv\")), low_memory=False)"
   ]
  },
  {
   "cell_type": "code",
   "execution_count": 150,
   "id": "11f898d8",
   "metadata": {
    "ExecuteTime": {
     "end_time": "2024-10-16T19:24:10.641467Z",
     "start_time": "2024-10-16T19:24:10.612675Z"
    }
   },
   "outputs": [
    {
     "name": "stdout",
     "output_type": "stream",
     "text": [
      "Crash Data:\n"
     ]
    },
    {
     "data": {
      "text/plain": "   CRASH DATE CRASH TIME   BOROUGH ZIP CODE   LATITUDE  LONGITUDE  \\\n0  09/11/2021       2:39       NaN      NaN        NaN        NaN   \n1  03/26/2022      11:45       NaN      NaN        NaN        NaN   \n2  06/29/2022       6:55       NaN      NaN        NaN        NaN   \n3  09/11/2021       9:35  BROOKLYN    11208  40.667202 -73.866500   \n4  12/14/2021       8:13  BROOKLYN    11233  40.683304 -73.917274   \n\n                  LOCATION           ON STREET NAME CROSS STREET NAME  \\\n0                      NaN    WHITESTONE EXPRESSWAY         20 AVENUE   \n1                      NaN  QUEENSBORO BRIDGE UPPER               NaN   \n2                      NaN       THROGS NECK BRIDGE               NaN   \n3    (40.667202, -73.8665)                      NaN               NaN   \n4  (40.683304, -73.917274)          SARATOGA AVENUE    DECATUR STREET   \n\n           OFF STREET NAME  ...  CONTRIBUTING FACTOR VEHICLE 2  \\\n0                      NaN  ...                    Unspecified   \n1                      NaN  ...                            NaN   \n2                      NaN  ...                    Unspecified   \n3  1211      LORING AVENUE  ...                            NaN   \n4                      NaN  ...                            NaN   \n\n   CONTRIBUTING FACTOR VEHICLE 3  CONTRIBUTING FACTOR VEHICLE 4  \\\n0                            NaN                            NaN   \n1                            NaN                            NaN   \n2                            NaN                            NaN   \n3                            NaN                            NaN   \n4                            NaN                            NaN   \n\n   CONTRIBUTING FACTOR VEHICLE 5  COLLISION_ID  VEHICLE TYPE CODE 1  \\\n0                            NaN       4455765                Sedan   \n1                            NaN       4513547                Sedan   \n2                            NaN       4541903                Sedan   \n3                            NaN       4456314                Sedan   \n4                            NaN       4486609                  NaN   \n\n   VEHICLE TYPE CODE 2  VEHICLE TYPE CODE 3 VEHICLE TYPE CODE 4  \\\n0                Sedan                  NaN                 NaN   \n1                  NaN                  NaN                 NaN   \n2        Pick-up Truck                  NaN                 NaN   \n3                  NaN                  NaN                 NaN   \n4                  NaN                  NaN                 NaN   \n\n  VEHICLE TYPE CODE 5  \n0                 NaN  \n1                 NaN  \n2                 NaN  \n3                 NaN  \n4                 NaN  \n\n[5 rows x 29 columns]",
      "text/html": "<div>\n<style scoped>\n    .dataframe tbody tr th:only-of-type {\n        vertical-align: middle;\n    }\n\n    .dataframe tbody tr th {\n        vertical-align: top;\n    }\n\n    .dataframe thead th {\n        text-align: right;\n    }\n</style>\n<table border=\"1\" class=\"dataframe\">\n  <thead>\n    <tr style=\"text-align: right;\">\n      <th></th>\n      <th>CRASH DATE</th>\n      <th>CRASH TIME</th>\n      <th>BOROUGH</th>\n      <th>ZIP CODE</th>\n      <th>LATITUDE</th>\n      <th>LONGITUDE</th>\n      <th>LOCATION</th>\n      <th>ON STREET NAME</th>\n      <th>CROSS STREET NAME</th>\n      <th>OFF STREET NAME</th>\n      <th>...</th>\n      <th>CONTRIBUTING FACTOR VEHICLE 2</th>\n      <th>CONTRIBUTING FACTOR VEHICLE 3</th>\n      <th>CONTRIBUTING FACTOR VEHICLE 4</th>\n      <th>CONTRIBUTING FACTOR VEHICLE 5</th>\n      <th>COLLISION_ID</th>\n      <th>VEHICLE TYPE CODE 1</th>\n      <th>VEHICLE TYPE CODE 2</th>\n      <th>VEHICLE TYPE CODE 3</th>\n      <th>VEHICLE TYPE CODE 4</th>\n      <th>VEHICLE TYPE CODE 5</th>\n    </tr>\n  </thead>\n  <tbody>\n    <tr>\n      <th>0</th>\n      <td>09/11/2021</td>\n      <td>2:39</td>\n      <td>NaN</td>\n      <td>NaN</td>\n      <td>NaN</td>\n      <td>NaN</td>\n      <td>NaN</td>\n      <td>WHITESTONE EXPRESSWAY</td>\n      <td>20 AVENUE</td>\n      <td>NaN</td>\n      <td>...</td>\n      <td>Unspecified</td>\n      <td>NaN</td>\n      <td>NaN</td>\n      <td>NaN</td>\n      <td>4455765</td>\n      <td>Sedan</td>\n      <td>Sedan</td>\n      <td>NaN</td>\n      <td>NaN</td>\n      <td>NaN</td>\n    </tr>\n    <tr>\n      <th>1</th>\n      <td>03/26/2022</td>\n      <td>11:45</td>\n      <td>NaN</td>\n      <td>NaN</td>\n      <td>NaN</td>\n      <td>NaN</td>\n      <td>NaN</td>\n      <td>QUEENSBORO BRIDGE UPPER</td>\n      <td>NaN</td>\n      <td>NaN</td>\n      <td>...</td>\n      <td>NaN</td>\n      <td>NaN</td>\n      <td>NaN</td>\n      <td>NaN</td>\n      <td>4513547</td>\n      <td>Sedan</td>\n      <td>NaN</td>\n      <td>NaN</td>\n      <td>NaN</td>\n      <td>NaN</td>\n    </tr>\n    <tr>\n      <th>2</th>\n      <td>06/29/2022</td>\n      <td>6:55</td>\n      <td>NaN</td>\n      <td>NaN</td>\n      <td>NaN</td>\n      <td>NaN</td>\n      <td>NaN</td>\n      <td>THROGS NECK BRIDGE</td>\n      <td>NaN</td>\n      <td>NaN</td>\n      <td>...</td>\n      <td>Unspecified</td>\n      <td>NaN</td>\n      <td>NaN</td>\n      <td>NaN</td>\n      <td>4541903</td>\n      <td>Sedan</td>\n      <td>Pick-up Truck</td>\n      <td>NaN</td>\n      <td>NaN</td>\n      <td>NaN</td>\n    </tr>\n    <tr>\n      <th>3</th>\n      <td>09/11/2021</td>\n      <td>9:35</td>\n      <td>BROOKLYN</td>\n      <td>11208</td>\n      <td>40.667202</td>\n      <td>-73.866500</td>\n      <td>(40.667202, -73.8665)</td>\n      <td>NaN</td>\n      <td>NaN</td>\n      <td>1211      LORING AVENUE</td>\n      <td>...</td>\n      <td>NaN</td>\n      <td>NaN</td>\n      <td>NaN</td>\n      <td>NaN</td>\n      <td>4456314</td>\n      <td>Sedan</td>\n      <td>NaN</td>\n      <td>NaN</td>\n      <td>NaN</td>\n      <td>NaN</td>\n    </tr>\n    <tr>\n      <th>4</th>\n      <td>12/14/2021</td>\n      <td>8:13</td>\n      <td>BROOKLYN</td>\n      <td>11233</td>\n      <td>40.683304</td>\n      <td>-73.917274</td>\n      <td>(40.683304, -73.917274)</td>\n      <td>SARATOGA AVENUE</td>\n      <td>DECATUR STREET</td>\n      <td>NaN</td>\n      <td>...</td>\n      <td>NaN</td>\n      <td>NaN</td>\n      <td>NaN</td>\n      <td>NaN</td>\n      <td>4486609</td>\n      <td>NaN</td>\n      <td>NaN</td>\n      <td>NaN</td>\n      <td>NaN</td>\n      <td>NaN</td>\n    </tr>\n  </tbody>\n</table>\n<p>5 rows × 29 columns</p>\n</div>"
     },
     "metadata": {},
     "output_type": "display_data"
    }
   ],
   "source": [
    "print(\"Crash Data:\")\n",
    "display(crash_data.head())"
   ]
  },
  {
   "cell_type": "code",
   "execution_count": 151,
   "id": "abaab20d",
   "metadata": {
    "ExecuteTime": {
     "end_time": "2024-10-16T19:24:10.642279Z",
     "start_time": "2024-10-16T19:24:10.618775Z"
    }
   },
   "outputs": [
    {
     "name": "stdout",
     "output_type": "stream",
     "text": [
      "\n",
      "Crash Data Info:\n",
      "<class 'pandas.core.frame.DataFrame'>\n",
      "RangeIndex: 2125763 entries, 0 to 2125762\n",
      "Data columns (total 29 columns):\n",
      " #   Column                         Dtype  \n",
      "---  ------                         -----  \n",
      " 0   CRASH DATE                     object \n",
      " 1   CRASH TIME                     object \n",
      " 2   BOROUGH                        object \n",
      " 3   ZIP CODE                       object \n",
      " 4   LATITUDE                       float64\n",
      " 5   LONGITUDE                      float64\n",
      " 6   LOCATION                       object \n",
      " 7   ON STREET NAME                 object \n",
      " 8   CROSS STREET NAME              object \n",
      " 9   OFF STREET NAME                object \n",
      " 10  NUMBER OF PERSONS INJURED      float64\n",
      " 11  NUMBER OF PERSONS KILLED       float64\n",
      " 12  NUMBER OF PEDESTRIANS INJURED  int64  \n",
      " 13  NUMBER OF PEDESTRIANS KILLED   int64  \n",
      " 14  NUMBER OF CYCLIST INJURED      int64  \n",
      " 15  NUMBER OF CYCLIST KILLED       int64  \n",
      " 16  NUMBER OF MOTORIST INJURED     int64  \n",
      " 17  NUMBER OF MOTORIST KILLED      int64  \n",
      " 18  CONTRIBUTING FACTOR VEHICLE 1  object \n",
      " 19  CONTRIBUTING FACTOR VEHICLE 2  object \n",
      " 20  CONTRIBUTING FACTOR VEHICLE 3  object \n",
      " 21  CONTRIBUTING FACTOR VEHICLE 4  object \n",
      " 22  CONTRIBUTING FACTOR VEHICLE 5  object \n",
      " 23  COLLISION_ID                   int64  \n",
      " 24  VEHICLE TYPE CODE 1            object \n",
      " 25  VEHICLE TYPE CODE 2            object \n",
      " 26  VEHICLE TYPE CODE 3            object \n",
      " 27  VEHICLE TYPE CODE 4            object \n",
      " 28  VEHICLE TYPE CODE 5            object \n",
      "dtypes: float64(4), int64(7), object(18)\n",
      "memory usage: 470.3+ MB\n"
     ]
    }
   ],
   "source": [
    "# display datatypes and range\n",
    "print(\"\\nCrash Data Info:\")\n",
    "crash_data.info()"
   ]
  },
  {
   "cell_type": "code",
   "outputs": [
    {
     "data": {
      "text/plain": "Index(['CRASH_DATE', 'CRASH_TIME', 'BOROUGH', 'ZIP_CODE', 'LATITUDE',\n       'LONGITUDE', 'LOCATION', 'ON_STREET_NAME', 'CROSS_STREET_NAME',\n       'OFF_STREET_NAME', 'NUMBER_OF_PERSONS_INJURED',\n       'NUMBER_OF_PERSONS_KILLED', 'NUMBER_OF_PEDESTRIANS_INJURED',\n       'NUMBER_OF_PEDESTRIANS_KILLED', 'NUMBER_OF_CYCLIST_INJURED',\n       'NUMBER_OF_CYCLIST_KILLED', 'NUMBER_OF_MOTORIST_INJURED',\n       'NUMBER_OF_MOTORIST_KILLED', 'CONTRIBUTING_FACTOR_VEHICLE_1',\n       'CONTRIBUTING_FACTOR_VEHICLE_2', 'CONTRIBUTING_FACTOR_VEHICLE_3',\n       'CONTRIBUTING_FACTOR_VEHICLE_4', 'CONTRIBUTING_FACTOR_VEHICLE_5',\n       'COLLISION_ID', 'VEHICLE_TYPE_CODE_1', 'VEHICLE_TYPE_CODE_2',\n       'VEHICLE_TYPE_CODE_3', 'VEHICLE_TYPE_CODE_4', 'VEHICLE_TYPE_CODE_5'],\n      dtype='object')"
     },
     "metadata": {},
     "output_type": "display_data"
    }
   ],
   "source": [
    "crash_data.columns = crash_data.columns.str.replace(\" \", \"_\")\n",
    "display(crash_data.columns)"
   ],
   "metadata": {
    "collapsed": false,
    "ExecuteTime": {
     "end_time": "2024-10-16T19:24:10.643176Z",
     "start_time": "2024-10-16T19:24:10.624613Z"
    }
   },
   "id": "7759d956e1fdd2f9",
   "execution_count": 152
  },
  {
   "cell_type": "markdown",
   "source": [
    "### Cleaning the Location related Columns"
   ],
   "metadata": {
    "collapsed": false
   },
   "id": "6339594946f4c008"
  },
  {
   "cell_type": "code",
   "outputs": [],
   "source": [
    "# Sub-setting the crash DataFrame for only the columns I need\n",
    "location_df = crash_data[['COLLISION_ID', 'CRASH_DATE', 'CRASH_TIME', 'LATITUDE',\n",
    "       'LONGITUDE', 'LOCATION', 'NUMBER_OF_PERSONS_INJURED',\n",
    "       'NUMBER_OF_PERSONS_KILLED', 'CONTRIBUTING_FACTOR_VEHICLE_1',\n",
    "       'CONTRIBUTING_FACTOR_VEHICLE_2']]"
   ],
   "metadata": {
    "collapsed": false,
    "ExecuteTime": {
     "end_time": "2024-10-16T19:24:10.792484Z",
     "start_time": "2024-10-16T19:24:10.627832Z"
    }
   },
   "id": "d07d3202a26e9aa1",
   "execution_count": 153
  },
  {
   "cell_type": "code",
   "outputs": [
    {
     "name": "stdout",
     "output_type": "stream",
     "text": [
      "<class 'pandas.core.frame.DataFrame'>\n",
      "RangeIndex: 2125763 entries, 0 to 2125762\n",
      "Data columns (total 10 columns):\n",
      " #   Column                         Dtype  \n",
      "---  ------                         -----  \n",
      " 0   COLLISION_ID                   int64  \n",
      " 1   CRASH_DATE                     object \n",
      " 2   CRASH_TIME                     object \n",
      " 3   LATITUDE                       float64\n",
      " 4   LONGITUDE                      float64\n",
      " 5   LOCATION                       object \n",
      " 6   NUMBER_OF_PERSONS_INJURED      float64\n",
      " 7   NUMBER_OF_PERSONS_KILLED       float64\n",
      " 8   CONTRIBUTING_FACTOR_VEHICLE_1  object \n",
      " 9   CONTRIBUTING_FACTOR_VEHICLE_2  object \n",
      "dtypes: float64(4), int64(1), object(5)\n",
      "memory usage: 162.2+ MB\n"
     ]
    },
    {
     "data": {
      "text/plain": "None"
     },
     "metadata": {},
     "output_type": "display_data"
    }
   ],
   "source": [
    "display(location_df.info())"
   ],
   "metadata": {
    "collapsed": false,
    "ExecuteTime": {
     "end_time": "2024-10-16T19:24:10.793556Z",
     "start_time": "2024-10-16T19:24:10.733521Z"
    }
   },
   "id": "1e4eb6fa9b3754ed",
   "execution_count": 154
  },
  {
   "cell_type": "code",
   "outputs": [
    {
     "name": "stdout",
     "output_type": "stream",
     "text": [
      "Missing values in Location Data:\n",
      "COLLISION_ID                          0\n",
      "CRASH_DATE                            0\n",
      "CRASH_TIME                            0\n",
      "LATITUDE                         252597\n",
      "LONGITUDE                        252597\n",
      "LOCATION                         252597\n",
      "NUMBER_OF_PERSONS_INJURED            18\n",
      "NUMBER_OF_PERSONS_KILLED             31\n",
      "CONTRIBUTING_FACTOR_VEHICLE_1      7144\n",
      "CONTRIBUTING_FACTOR_VEHICLE_2    333073\n",
      "dtype: int64\n"
     ]
    }
   ],
   "source": [
    "# Check for missing values \n",
    "print(\"Missing values in Location Data:\")\n",
    "print(location_df.isnull().sum())"
   ],
   "metadata": {
    "scrolled": true,
    "ExecuteTime": {
     "end_time": "2024-10-16T19:24:11.054629Z",
     "start_time": "2024-10-16T19:24:10.735813Z"
    }
   },
   "id": "471bfa2a",
   "execution_count": 155
  },
  {
   "cell_type": "code",
   "outputs": [],
   "source": [
    "def create_accident_severity(row):\n",
    "    if row['NUMBER_OF_PERSONS_KILLED'] > 0:\n",
    "        return 'Fatal'\n",
    "    elif row['NUMBER_OF_PERSONS_INJURED'] >= 3:\n",
    "        return 'Major Injury'\n",
    "    elif row['NUMBER_OF_PERSONS_INJURED'] > 0:\n",
    "        return 'Minor Injury'\n",
    "    else:\n",
    "        return 'No Injury'"
   ],
   "metadata": {
    "collapsed": false,
    "ExecuteTime": {
     "end_time": "2024-10-16T19:24:11.064316Z",
     "start_time": "2024-10-16T19:24:11.044272Z"
    }
   },
   "id": "5aaa9e5d678411e4",
   "execution_count": 156
  },
  {
   "cell_type": "code",
   "outputs": [
    {
     "name": "stderr",
     "output_type": "stream",
     "text": [
      "/var/folders/k0/7nbjk7js45l8wk701f59my980000gn/T/ipykernel_6926/2342089955.py:2: SettingWithCopyWarning: \n",
      "A value is trying to be set on a copy of a slice from a DataFrame.\n",
      "Try using .loc[row_indexer,col_indexer] = value instead\n",
      "\n",
      "See the caveats in the documentation: https://pandas.pydata.org/pandas-docs/stable/user_guide/indexing.html#returning-a-view-versus-a-copy\n",
      "  location_df['ACCIDENT_SEVERITY'] = location_df.apply(create_accident_severity, axis=1)\n"
     ]
    }
   ],
   "source": [
    "# Creating Encoding Data\n",
    "location_df['ACCIDENT_SEVERITY'] = location_df.apply(create_accident_severity, axis=1)"
   ],
   "metadata": {
    "collapsed": false,
    "ExecuteTime": {
     "end_time": "2024-10-16T19:24:21.515209Z",
     "start_time": "2024-10-16T19:24:11.312050Z"
    }
   },
   "id": "29e489e96d9807a9",
   "execution_count": 157
  },
  {
   "cell_type": "code",
   "outputs": [
    {
     "name": "stderr",
     "output_type": "stream",
     "text": [
      "/var/folders/k0/7nbjk7js45l8wk701f59my980000gn/T/ipykernel_6926/497454007.py:2: SettingWithCopyWarning: \n",
      "A value is trying to be set on a copy of a slice from a DataFrame\n",
      "\n",
      "See the caveats in the documentation: https://pandas.pydata.org/pandas-docs/stable/user_guide/indexing.html#returning-a-view-versus-a-copy\n",
      "  location_df.dropna(subset=['LOCATION'], how='all', inplace=True)\n"
     ]
    }
   ],
   "source": [
    "# Drop all the rows where location is missing\n",
    "location_df.dropna(subset=['LOCATION'], how='all', inplace=True)\n",
    "location_df = location_df.query('LOCATION != (0.0, 0.0)').copy()\n",
    "location_df.drop(columns='LOCATION', inplace=True)"
   ],
   "metadata": {
    "collapsed": false,
    "ExecuteTime": {
     "end_time": "2024-10-16T19:24:22.136857Z",
     "start_time": "2024-10-16T19:24:21.518276Z"
    }
   },
   "id": "b074fc69485dde11",
   "execution_count": 158
  },
  {
   "cell_type": "code",
   "outputs": [
    {
     "data": {
      "text/plain": "   COLLISION_ID  CRASH_DATE CRASH_TIME   LATITUDE  LONGITUDE  \\\n3       4456314  09/11/2021       9:35  40.667202 -73.866500   \n4       4486609  12/14/2021       8:13  40.683304 -73.917274   \n6       4486555  12/14/2021      17:05  40.709183 -73.956825   \n7       4486660  12/14/2021       8:17  40.868160 -73.831480   \n8       4487074  12/14/2021      21:10  40.671720 -73.897100   \n\n   NUMBER_OF_PERSONS_INJURED  NUMBER_OF_PERSONS_KILLED  \\\n3                        0.0                       0.0   \n4                        0.0                       0.0   \n6                        0.0                       0.0   \n7                        2.0                       0.0   \n8                        0.0                       0.0   \n\n  CONTRIBUTING_FACTOR_VEHICLE_1 CONTRIBUTING_FACTOR_VEHICLE_2  \\\n3                   Unspecified                           NaN   \n4                           NaN                           NaN   \n6           Passing Too Closely                   Unspecified   \n7                   Unspecified                   Unspecified   \n8           Driver Inexperience                   Unspecified   \n\n  ACCIDENT_SEVERITY  \n3         No Injury  \n4         No Injury  \n6         No Injury  \n7      Minor Injury  \n8         No Injury  ",
      "text/html": "<div>\n<style scoped>\n    .dataframe tbody tr th:only-of-type {\n        vertical-align: middle;\n    }\n\n    .dataframe tbody tr th {\n        vertical-align: top;\n    }\n\n    .dataframe thead th {\n        text-align: right;\n    }\n</style>\n<table border=\"1\" class=\"dataframe\">\n  <thead>\n    <tr style=\"text-align: right;\">\n      <th></th>\n      <th>COLLISION_ID</th>\n      <th>CRASH_DATE</th>\n      <th>CRASH_TIME</th>\n      <th>LATITUDE</th>\n      <th>LONGITUDE</th>\n      <th>NUMBER_OF_PERSONS_INJURED</th>\n      <th>NUMBER_OF_PERSONS_KILLED</th>\n      <th>CONTRIBUTING_FACTOR_VEHICLE_1</th>\n      <th>CONTRIBUTING_FACTOR_VEHICLE_2</th>\n      <th>ACCIDENT_SEVERITY</th>\n    </tr>\n  </thead>\n  <tbody>\n    <tr>\n      <th>3</th>\n      <td>4456314</td>\n      <td>09/11/2021</td>\n      <td>9:35</td>\n      <td>40.667202</td>\n      <td>-73.866500</td>\n      <td>0.0</td>\n      <td>0.0</td>\n      <td>Unspecified</td>\n      <td>NaN</td>\n      <td>No Injury</td>\n    </tr>\n    <tr>\n      <th>4</th>\n      <td>4486609</td>\n      <td>12/14/2021</td>\n      <td>8:13</td>\n      <td>40.683304</td>\n      <td>-73.917274</td>\n      <td>0.0</td>\n      <td>0.0</td>\n      <td>NaN</td>\n      <td>NaN</td>\n      <td>No Injury</td>\n    </tr>\n    <tr>\n      <th>6</th>\n      <td>4486555</td>\n      <td>12/14/2021</td>\n      <td>17:05</td>\n      <td>40.709183</td>\n      <td>-73.956825</td>\n      <td>0.0</td>\n      <td>0.0</td>\n      <td>Passing Too Closely</td>\n      <td>Unspecified</td>\n      <td>No Injury</td>\n    </tr>\n    <tr>\n      <th>7</th>\n      <td>4486660</td>\n      <td>12/14/2021</td>\n      <td>8:17</td>\n      <td>40.868160</td>\n      <td>-73.831480</td>\n      <td>2.0</td>\n      <td>0.0</td>\n      <td>Unspecified</td>\n      <td>Unspecified</td>\n      <td>Minor Injury</td>\n    </tr>\n    <tr>\n      <th>8</th>\n      <td>4487074</td>\n      <td>12/14/2021</td>\n      <td>21:10</td>\n      <td>40.671720</td>\n      <td>-73.897100</td>\n      <td>0.0</td>\n      <td>0.0</td>\n      <td>Driver Inexperience</td>\n      <td>Unspecified</td>\n      <td>No Injury</td>\n    </tr>\n  </tbody>\n</table>\n</div>"
     },
     "execution_count": 159,
     "metadata": {},
     "output_type": "execute_result"
    }
   ],
   "source": [
    "location_df.head()"
   ],
   "metadata": {
    "collapsed": false,
    "ExecuteTime": {
     "end_time": "2024-10-16T19:24:22.138301Z",
     "start_time": "2024-10-16T19:24:22.134591Z"
    }
   },
   "id": "e3a9d4f71ab9613b",
   "execution_count": 159
  },
  {
   "cell_type": "code",
   "outputs": [],
   "source": [
    "# Cleaning of Contributing Factors\n",
    "location_df = location_df[location_df[['CONTRIBUTING_FACTOR_VEHICLE_1', 'CONTRIBUTING_FACTOR_VEHICLE_2']].notnull().all(axis=1)].copy()\n",
    "\n",
    "location_df = location_df.query(\n",
    "\"(CONTRIBUTING_FACTOR_VEHICLE_1 != 'Unspecified' | CONTRIBUTING_FACTOR_VEHICLE_2 != 'Unspecified') & \"\n",
    "\"(CONTRIBUTING_FACTOR_VEHICLE_1 != '80' & CONTRIBUTING_FACTOR_VEHICLE_2 != '80') & (CONTRIBUTING_FACTOR_VEHICLE_1 != '1' & CONTRIBUTING_FACTOR_VEHICLE_2 != '1')\").copy()\n",
    "\n",
    "rename_dict ={\n",
    "    'Cell Phone (hand-held)': 'Cell Phone (Hand-Held)',\n",
    "    'Cell Phone (hand-Held)': 'Cell Phone (Hand-Held)',\n",
    "    'Cell Phone (hands-free)': 'Cell Phone (Hands-Free)',\n",
    "    'Drugs (illegal)': 'Drugs (Illegal)', \n",
    "    'Illnes': 'Illness'\n",
    "}\n",
    "location_df['CONTRIBUTING_FACTOR_VEHICLE_1'] = location_df['CONTRIBUTING_FACTOR_VEHICLE_1'].replace(rename_dict).copy()\n",
    "location_df['CONTRIBUTING_FACTOR_VEHICLE_2'] = location_df['CONTRIBUTING_FACTOR_VEHICLE_2'].replace(rename_dict).copy()"
   ],
   "metadata": {
    "collapsed": false,
    "ExecuteTime": {
     "end_time": "2024-10-16T19:24:22.987647Z",
     "start_time": "2024-10-16T19:24:22.139278Z"
    }
   },
   "id": "af17a9cbf289edd5",
   "execution_count": 160
  },
  {
   "cell_type": "code",
   "outputs": [
    {
     "name": "stdout",
     "output_type": "stream",
     "text": [
      "Location Data after cleaning:\n",
      "COLLISION_ID                     0\n",
      "CRASH_DATE                       0\n",
      "CRASH_TIME                       0\n",
      "LATITUDE                         0\n",
      "LONGITUDE                        0\n",
      "NUMBER_OF_PERSONS_INJURED        0\n",
      "NUMBER_OF_PERSONS_KILLED         0\n",
      "CONTRIBUTING_FACTOR_VEHICLE_1    0\n",
      "CONTRIBUTING_FACTOR_VEHICLE_2    0\n",
      "ACCIDENT_SEVERITY                0\n",
      "dtype: int64\n"
     ]
    }
   ],
   "source": [
    "# fill nulls with 'UNKNOWN' or 0 \n",
    "location_df.fillna({\n",
    "    \"NUMBER_OF_PERSONS_INJURED\":  0.0,\n",
    "    \"NUMBER_OF_PERSONS_KILLED\":  0.0,\n",
    "}, inplace=True)\n",
    "\n",
    "print(\"Location Data after cleaning:\")\n",
    "print(location_df.isnull().sum())"
   ],
   "metadata": {
    "scrolled": true,
    "ExecuteTime": {
     "end_time": "2024-10-16T19:24:23.142574Z",
     "start_time": "2024-10-16T19:24:22.981055Z"
    }
   },
   "id": "18d866b4",
   "execution_count": 161
  },
  {
   "cell_type": "code",
   "outputs": [
    {
     "data": {
      "text/plain": "    COLLISION_ID  CRASH_DATE CRASH_TIME   LATITUDE  LONGITUDE  \\\n6        4486555  12/14/2021      17:05  40.709183 -73.956825   \n8        4487074  12/14/2021      21:10  40.671720 -73.897100   \n9        4486519  12/14/2021      14:58  40.751440 -73.973970   \n10       4486934  12/13/2021       0:34  40.701275 -73.888870   \n11       4487127  12/14/2021      16:50  40.675884 -73.755770   \n\n    NUMBER_OF_PERSONS_INJURED  NUMBER_OF_PERSONS_KILLED  \\\n6                         0.0                       0.0   \n8                         0.0                       0.0   \n9                         0.0                       0.0   \n10                        0.0                       0.0   \n11                        0.0                       0.0   \n\n     CONTRIBUTING_FACTOR_VEHICLE_1 CONTRIBUTING_FACTOR_VEHICLE_2  \\\n6              Passing Too Closely                   Unspecified   \n8              Driver Inexperience                   Unspecified   \n9              Passing Too Closely                   Unspecified   \n10  Passing or Lane Usage Improper                   Unspecified   \n11              Turning Improperly                   Unspecified   \n\n   ACCIDENT_SEVERITY  \n6          No Injury  \n8          No Injury  \n9          No Injury  \n10         No Injury  \n11         No Injury  ",
      "text/html": "<div>\n<style scoped>\n    .dataframe tbody tr th:only-of-type {\n        vertical-align: middle;\n    }\n\n    .dataframe tbody tr th {\n        vertical-align: top;\n    }\n\n    .dataframe thead th {\n        text-align: right;\n    }\n</style>\n<table border=\"1\" class=\"dataframe\">\n  <thead>\n    <tr style=\"text-align: right;\">\n      <th></th>\n      <th>COLLISION_ID</th>\n      <th>CRASH_DATE</th>\n      <th>CRASH_TIME</th>\n      <th>LATITUDE</th>\n      <th>LONGITUDE</th>\n      <th>NUMBER_OF_PERSONS_INJURED</th>\n      <th>NUMBER_OF_PERSONS_KILLED</th>\n      <th>CONTRIBUTING_FACTOR_VEHICLE_1</th>\n      <th>CONTRIBUTING_FACTOR_VEHICLE_2</th>\n      <th>ACCIDENT_SEVERITY</th>\n    </tr>\n  </thead>\n  <tbody>\n    <tr>\n      <th>6</th>\n      <td>4486555</td>\n      <td>12/14/2021</td>\n      <td>17:05</td>\n      <td>40.709183</td>\n      <td>-73.956825</td>\n      <td>0.0</td>\n      <td>0.0</td>\n      <td>Passing Too Closely</td>\n      <td>Unspecified</td>\n      <td>No Injury</td>\n    </tr>\n    <tr>\n      <th>8</th>\n      <td>4487074</td>\n      <td>12/14/2021</td>\n      <td>21:10</td>\n      <td>40.671720</td>\n      <td>-73.897100</td>\n      <td>0.0</td>\n      <td>0.0</td>\n      <td>Driver Inexperience</td>\n      <td>Unspecified</td>\n      <td>No Injury</td>\n    </tr>\n    <tr>\n      <th>9</th>\n      <td>4486519</td>\n      <td>12/14/2021</td>\n      <td>14:58</td>\n      <td>40.751440</td>\n      <td>-73.973970</td>\n      <td>0.0</td>\n      <td>0.0</td>\n      <td>Passing Too Closely</td>\n      <td>Unspecified</td>\n      <td>No Injury</td>\n    </tr>\n    <tr>\n      <th>10</th>\n      <td>4486934</td>\n      <td>12/13/2021</td>\n      <td>0:34</td>\n      <td>40.701275</td>\n      <td>-73.888870</td>\n      <td>0.0</td>\n      <td>0.0</td>\n      <td>Passing or Lane Usage Improper</td>\n      <td>Unspecified</td>\n      <td>No Injury</td>\n    </tr>\n    <tr>\n      <th>11</th>\n      <td>4487127</td>\n      <td>12/14/2021</td>\n      <td>16:50</td>\n      <td>40.675884</td>\n      <td>-73.755770</td>\n      <td>0.0</td>\n      <td>0.0</td>\n      <td>Turning Improperly</td>\n      <td>Unspecified</td>\n      <td>No Injury</td>\n    </tr>\n  </tbody>\n</table>\n</div>"
     },
     "execution_count": 162,
     "metadata": {},
     "output_type": "execute_result"
    }
   ],
   "source": [
    "location_df.head()"
   ],
   "metadata": {
    "collapsed": false,
    "ExecuteTime": {
     "end_time": "2024-10-16T19:24:23.157550Z",
     "start_time": "2024-10-16T19:24:23.146782Z"
    }
   },
   "id": "e49056f15d762e45",
   "execution_count": 162
  },
  {
   "cell_type": "code",
   "outputs": [],
   "source": [
    "import datetime as dt\n",
    "# Handle Types\n",
    "location_df['CRASH_DATE'] = pd.to_datetime(location_df['CRASH_DATE'])\n",
    "location_df['CRASH_TIME'] = pd.to_datetime(location_df['CRASH_TIME'], format='%H:%M').dt.time\n",
    "\n",
    "location_df = location_df.astype({\n",
    "        'NUMBER_OF_PERSONS_INJURED': 'int', \n",
    "        'NUMBER_OF_PERSONS_KILLED': 'int',\n",
    "        })"
   ],
   "metadata": {
    "collapsed": false,
    "ExecuteTime": {
     "end_time": "2024-10-16T19:24:23.588580Z",
     "start_time": "2024-10-16T19:24:23.174185Z"
    }
   },
   "id": "9c4841328c4ca6d2",
   "execution_count": 163
  },
  {
   "cell_type": "code",
   "outputs": [],
   "source": [
    "location_df = location_df.query(\"(40.5774 <= LATITUDE <= 45.01585) & (-74.2591 <= LONGITUDE <= -73.7004)\").copy()"
   ],
   "metadata": {
    "collapsed": false,
    "ExecuteTime": {
     "end_time": "2024-10-16T19:24:23.770861Z",
     "start_time": "2024-10-16T19:24:23.587533Z"
    }
   },
   "id": "bea503e6bca13a42",
   "execution_count": 164
  },
  {
   "cell_type": "code",
   "outputs": [
    {
     "data": {
      "text/plain": "   COLLISION_ID CRASH_DATE CRASH_TIME   LATITUDE  LONGITUDE  \\\n0       4486555 2021-12-14   17:05:00  40.709183 -73.956825   \n1       4487074 2021-12-14   21:10:00  40.671720 -73.897100   \n2       4486519 2021-12-14   14:58:00  40.751440 -73.973970   \n3       4486934 2021-12-13   00:34:00  40.701275 -73.888870   \n4       4487127 2021-12-14   16:50:00  40.675884 -73.755770   \n\n   NUMBER_OF_PERSONS_INJURED  NUMBER_OF_PERSONS_KILLED  \\\n0                          0                         0   \n1                          0                         0   \n2                          0                         0   \n3                          0                         0   \n4                          0                         0   \n\n    CONTRIBUTING_FACTOR_VEHICLE_1 CONTRIBUTING_FACTOR_VEHICLE_2  \\\n0             Passing Too Closely                   Unspecified   \n1             Driver Inexperience                   Unspecified   \n2             Passing Too Closely                   Unspecified   \n3  Passing or Lane Usage Improper                   Unspecified   \n4              Turning Improperly                   Unspecified   \n\n  ACCIDENT_SEVERITY  \n0         No Injury  \n1         No Injury  \n2         No Injury  \n3         No Injury  \n4         No Injury  ",
      "text/html": "<div>\n<style scoped>\n    .dataframe tbody tr th:only-of-type {\n        vertical-align: middle;\n    }\n\n    .dataframe tbody tr th {\n        vertical-align: top;\n    }\n\n    .dataframe thead th {\n        text-align: right;\n    }\n</style>\n<table border=\"1\" class=\"dataframe\">\n  <thead>\n    <tr style=\"text-align: right;\">\n      <th></th>\n      <th>COLLISION_ID</th>\n      <th>CRASH_DATE</th>\n      <th>CRASH_TIME</th>\n      <th>LATITUDE</th>\n      <th>LONGITUDE</th>\n      <th>NUMBER_OF_PERSONS_INJURED</th>\n      <th>NUMBER_OF_PERSONS_KILLED</th>\n      <th>CONTRIBUTING_FACTOR_VEHICLE_1</th>\n      <th>CONTRIBUTING_FACTOR_VEHICLE_2</th>\n      <th>ACCIDENT_SEVERITY</th>\n    </tr>\n  </thead>\n  <tbody>\n    <tr>\n      <th>0</th>\n      <td>4486555</td>\n      <td>2021-12-14</td>\n      <td>17:05:00</td>\n      <td>40.709183</td>\n      <td>-73.956825</td>\n      <td>0</td>\n      <td>0</td>\n      <td>Passing Too Closely</td>\n      <td>Unspecified</td>\n      <td>No Injury</td>\n    </tr>\n    <tr>\n      <th>1</th>\n      <td>4487074</td>\n      <td>2021-12-14</td>\n      <td>21:10:00</td>\n      <td>40.671720</td>\n      <td>-73.897100</td>\n      <td>0</td>\n      <td>0</td>\n      <td>Driver Inexperience</td>\n      <td>Unspecified</td>\n      <td>No Injury</td>\n    </tr>\n    <tr>\n      <th>2</th>\n      <td>4486519</td>\n      <td>2021-12-14</td>\n      <td>14:58:00</td>\n      <td>40.751440</td>\n      <td>-73.973970</td>\n      <td>0</td>\n      <td>0</td>\n      <td>Passing Too Closely</td>\n      <td>Unspecified</td>\n      <td>No Injury</td>\n    </tr>\n    <tr>\n      <th>3</th>\n      <td>4486934</td>\n      <td>2021-12-13</td>\n      <td>00:34:00</td>\n      <td>40.701275</td>\n      <td>-73.888870</td>\n      <td>0</td>\n      <td>0</td>\n      <td>Passing or Lane Usage Improper</td>\n      <td>Unspecified</td>\n      <td>No Injury</td>\n    </tr>\n    <tr>\n      <th>4</th>\n      <td>4487127</td>\n      <td>2021-12-14</td>\n      <td>16:50:00</td>\n      <td>40.675884</td>\n      <td>-73.755770</td>\n      <td>0</td>\n      <td>0</td>\n      <td>Turning Improperly</td>\n      <td>Unspecified</td>\n      <td>No Injury</td>\n    </tr>\n  </tbody>\n</table>\n</div>"
     },
     "execution_count": 165,
     "metadata": {},
     "output_type": "execute_result"
    }
   ],
   "source": [
    "location_df.reset_index(drop=True, inplace=True)\n",
    "location_df.head()"
   ],
   "metadata": {
    "collapsed": false,
    "ExecuteTime": {
     "end_time": "2024-10-16T19:24:23.788936Z",
     "start_time": "2024-10-16T19:24:23.774588Z"
    }
   },
   "id": "d3a6344fb15572f5",
   "execution_count": 165
  },
  {
   "cell_type": "code",
   "outputs": [],
   "source": [
    "location_df.to_csv(str(dir_path / Path('data_files/clean_data/location_data.csv')), index=False)"
   ],
   "metadata": {
    "collapsed": false,
    "ExecuteTime": {
     "end_time": "2024-10-16T19:24:28.379558Z",
     "start_time": "2024-10-16T19:24:23.778254Z"
    }
   },
   "id": "68a1d8bfeda394ec",
   "execution_count": 166
  },
  {
   "cell_type": "code",
   "outputs": [
    {
     "data": {
      "text/plain": "   UNIQUE_ID  COLLISION_ID  CRASH_DATE CRASH_TIME  \\\n0   10249006       4229554  10/26/2019       9:43   \n1   10255054       4230587  10/25/2019      15:15   \n2   10253177       4230550  10/26/2019      17:55   \n3    6650180       3565527  11/21/2016      13:05   \n4   10255516       4231168  10/25/2019      11:16   \n\n                              PERSON_ID PERSON_TYPE PERSON_INJURY  VEHICLE_ID  \\\n0  31aa2bc0-f545-444f-8cdb-f1cb5cf00b89    Occupant   Unspecified  19141108.0   \n1  4629e500-a73e-48dc-b8fb-53124d124b80    Occupant   Unspecified  19144075.0   \n2  ae48c136-1383-45db-83f4-2a5eecfb7cff    Occupant   Unspecified  19143133.0   \n3                               2782525    Occupant   Unspecified         NaN   \n4  e038e18f-40fb-4471-99cf-345eae36e064    Occupant   Unspecified  19144329.0   \n\n   PERSON_AGE     EJECTION  ...   BODILY_INJURY  \\\n0         NaN          NaN  ...             NaN   \n1        33.0  Not Ejected  ...  Does Not Apply   \n2        55.0          NaN  ...             NaN   \n3         NaN          NaN  ...             NaN   \n4         7.0  Not Ejected  ...  Does Not Apply   \n\n                                 POSITION_IN_VEHICLE    SAFETY_EQUIPMENT  \\\n0                                                NaN                 NaN   \n1  Front passenger, if two or more persons, inclu...  Lap Belt & Harness   \n2                                                NaN                 NaN   \n3                                                NaN                 NaN   \n4  Right rear passenger or motorcycle sidecar pas...            Lap Belt   \n\n  PED_LOCATION PED_ACTION       COMPLAINT         PED_ROLE  \\\n0          NaN        NaN             NaN       Registrant   \n1          NaN        NaN  Does Not Apply        Passenger   \n2          NaN        NaN             NaN       Registrant   \n3          NaN        NaN             NaN  Notified Person   \n4          NaN        NaN  Does Not Apply        Passenger   \n\n  CONTRIBUTING_FACTOR_1 CONTRIBUTING_FACTOR_2 PERSON_SEX  \n0                   NaN                   NaN          U  \n1                   NaN                   NaN          F  \n2                   NaN                   NaN          M  \n3                   NaN                   NaN        NaN  \n4                   NaN                   NaN          F  \n\n[5 rows x 21 columns]",
      "text/html": "<div>\n<style scoped>\n    .dataframe tbody tr th:only-of-type {\n        vertical-align: middle;\n    }\n\n    .dataframe tbody tr th {\n        vertical-align: top;\n    }\n\n    .dataframe thead th {\n        text-align: right;\n    }\n</style>\n<table border=\"1\" class=\"dataframe\">\n  <thead>\n    <tr style=\"text-align: right;\">\n      <th></th>\n      <th>UNIQUE_ID</th>\n      <th>COLLISION_ID</th>\n      <th>CRASH_DATE</th>\n      <th>CRASH_TIME</th>\n      <th>PERSON_ID</th>\n      <th>PERSON_TYPE</th>\n      <th>PERSON_INJURY</th>\n      <th>VEHICLE_ID</th>\n      <th>PERSON_AGE</th>\n      <th>EJECTION</th>\n      <th>...</th>\n      <th>BODILY_INJURY</th>\n      <th>POSITION_IN_VEHICLE</th>\n      <th>SAFETY_EQUIPMENT</th>\n      <th>PED_LOCATION</th>\n      <th>PED_ACTION</th>\n      <th>COMPLAINT</th>\n      <th>PED_ROLE</th>\n      <th>CONTRIBUTING_FACTOR_1</th>\n      <th>CONTRIBUTING_FACTOR_2</th>\n      <th>PERSON_SEX</th>\n    </tr>\n  </thead>\n  <tbody>\n    <tr>\n      <th>0</th>\n      <td>10249006</td>\n      <td>4229554</td>\n      <td>10/26/2019</td>\n      <td>9:43</td>\n      <td>31aa2bc0-f545-444f-8cdb-f1cb5cf00b89</td>\n      <td>Occupant</td>\n      <td>Unspecified</td>\n      <td>19141108.0</td>\n      <td>NaN</td>\n      <td>NaN</td>\n      <td>...</td>\n      <td>NaN</td>\n      <td>NaN</td>\n      <td>NaN</td>\n      <td>NaN</td>\n      <td>NaN</td>\n      <td>NaN</td>\n      <td>Registrant</td>\n      <td>NaN</td>\n      <td>NaN</td>\n      <td>U</td>\n    </tr>\n    <tr>\n      <th>1</th>\n      <td>10255054</td>\n      <td>4230587</td>\n      <td>10/25/2019</td>\n      <td>15:15</td>\n      <td>4629e500-a73e-48dc-b8fb-53124d124b80</td>\n      <td>Occupant</td>\n      <td>Unspecified</td>\n      <td>19144075.0</td>\n      <td>33.0</td>\n      <td>Not Ejected</td>\n      <td>...</td>\n      <td>Does Not Apply</td>\n      <td>Front passenger, if two or more persons, inclu...</td>\n      <td>Lap Belt &amp; Harness</td>\n      <td>NaN</td>\n      <td>NaN</td>\n      <td>Does Not Apply</td>\n      <td>Passenger</td>\n      <td>NaN</td>\n      <td>NaN</td>\n      <td>F</td>\n    </tr>\n    <tr>\n      <th>2</th>\n      <td>10253177</td>\n      <td>4230550</td>\n      <td>10/26/2019</td>\n      <td>17:55</td>\n      <td>ae48c136-1383-45db-83f4-2a5eecfb7cff</td>\n      <td>Occupant</td>\n      <td>Unspecified</td>\n      <td>19143133.0</td>\n      <td>55.0</td>\n      <td>NaN</td>\n      <td>...</td>\n      <td>NaN</td>\n      <td>NaN</td>\n      <td>NaN</td>\n      <td>NaN</td>\n      <td>NaN</td>\n      <td>NaN</td>\n      <td>Registrant</td>\n      <td>NaN</td>\n      <td>NaN</td>\n      <td>M</td>\n    </tr>\n    <tr>\n      <th>3</th>\n      <td>6650180</td>\n      <td>3565527</td>\n      <td>11/21/2016</td>\n      <td>13:05</td>\n      <td>2782525</td>\n      <td>Occupant</td>\n      <td>Unspecified</td>\n      <td>NaN</td>\n      <td>NaN</td>\n      <td>NaN</td>\n      <td>...</td>\n      <td>NaN</td>\n      <td>NaN</td>\n      <td>NaN</td>\n      <td>NaN</td>\n      <td>NaN</td>\n      <td>NaN</td>\n      <td>Notified Person</td>\n      <td>NaN</td>\n      <td>NaN</td>\n      <td>NaN</td>\n    </tr>\n    <tr>\n      <th>4</th>\n      <td>10255516</td>\n      <td>4231168</td>\n      <td>10/25/2019</td>\n      <td>11:16</td>\n      <td>e038e18f-40fb-4471-99cf-345eae36e064</td>\n      <td>Occupant</td>\n      <td>Unspecified</td>\n      <td>19144329.0</td>\n      <td>7.0</td>\n      <td>Not Ejected</td>\n      <td>...</td>\n      <td>Does Not Apply</td>\n      <td>Right rear passenger or motorcycle sidecar pas...</td>\n      <td>Lap Belt</td>\n      <td>NaN</td>\n      <td>NaN</td>\n      <td>Does Not Apply</td>\n      <td>Passenger</td>\n      <td>NaN</td>\n      <td>NaN</td>\n      <td>F</td>\n    </tr>\n  </tbody>\n</table>\n<p>5 rows × 21 columns</p>\n</div>"
     },
     "execution_count": 167,
     "metadata": {},
     "output_type": "execute_result"
    }
   ],
   "source": [
    "person_data.head()"
   ],
   "metadata": {
    "scrolled": false,
    "ExecuteTime": {
     "end_time": "2024-10-16T19:24:28.390756Z",
     "start_time": "2024-10-16T19:24:28.380649Z"
    }
   },
   "id": "28cd9dba",
   "execution_count": 167
  },
  {
   "cell_type": "code",
   "outputs": [
    {
     "name": "stdout",
     "output_type": "stream",
     "text": [
      "<class 'pandas.core.frame.DataFrame'>\n",
      "RangeIndex: 5495040 entries, 0 to 5495039\n",
      "Data columns (total 21 columns):\n",
      " #   Column                 Dtype  \n",
      "---  ------                 -----  \n",
      " 0   UNIQUE_ID              int64  \n",
      " 1   COLLISION_ID           int64  \n",
      " 2   CRASH_DATE             object \n",
      " 3   CRASH_TIME             object \n",
      " 4   PERSON_ID              object \n",
      " 5   PERSON_TYPE            object \n",
      " 6   PERSON_INJURY          object \n",
      " 7   VEHICLE_ID             float64\n",
      " 8   PERSON_AGE             float64\n",
      " 9   EJECTION               object \n",
      " 10  EMOTIONAL_STATUS       object \n",
      " 11  BODILY_INJURY          object \n",
      " 12  POSITION_IN_VEHICLE    object \n",
      " 13  SAFETY_EQUIPMENT       object \n",
      " 14  PED_LOCATION           object \n",
      " 15  PED_ACTION             object \n",
      " 16  COMPLAINT              object \n",
      " 17  PED_ROLE               object \n",
      " 18  CONTRIBUTING_FACTOR_1  object \n",
      " 19  CONTRIBUTING_FACTOR_2  object \n",
      " 20  PERSON_SEX             object \n",
      "dtypes: float64(2), int64(2), object(17)\n",
      "memory usage: 880.4+ MB\n"
     ]
    }
   ],
   "source": [
    "# Gather info about People involved in accident\n",
    "person_data.info()"
   ],
   "metadata": {
    "collapsed": false,
    "ExecuteTime": {
     "end_time": "2024-10-16T19:24:28.393676Z",
     "start_time": "2024-10-16T19:24:28.391913Z"
    }
   },
   "id": "a2bbe57f2d7f9acf",
   "execution_count": 168
  },
  {
   "cell_type": "code",
   "outputs": [
    {
     "data": {
      "text/plain": "UNIQUE_ID                      0\nCOLLISION_ID                   0\nCRASH_DATE                     0\nCRASH_TIME                     0\nPERSON_ID                     19\nPERSON_TYPE                    0\nPERSON_INJURY                  0\nVEHICLE_ID                224115\nPERSON_AGE                597119\nEJECTION                 2673321\nEMOTIONAL_STATUS         2587450\nBODILY_INJURY            2587407\nPOSITION_IN_VEHICLE      2672929\nSAFETY_EQUIPMENT         2855212\nPED_LOCATION             5404189\nPED_ACTION               5404290\nCOMPLAINT                2587400\nPED_ROLE                  194889\nCONTRIBUTING_FACTOR_1    5405540\nCONTRIBUTING_FACTOR_2    5405657\nPERSON_SEX                613524\ndtype: int64"
     },
     "execution_count": 169,
     "metadata": {},
     "output_type": "execute_result"
    }
   ],
   "source": [
    "# Identify which columns are null\n",
    "person_data.isnull().sum()"
   ],
   "metadata": {
    "collapsed": false,
    "ExecuteTime": {
     "end_time": "2024-10-16T19:24:30.773617Z",
     "start_time": "2024-10-16T19:24:28.394430Z"
    }
   },
   "id": "8cfd7d98771ab9c8",
   "execution_count": 169
  },
  {
   "cell_type": "code",
   "outputs": [
    {
     "data": {
      "text/plain": "   COLLISION_ID  CRASH_DATE CRASH_TIME  PERSON_AGE PERSON_TYPE PERSON_SEX  \\\n0       4229554  10/26/2019       9:43         NaN    Occupant          U   \n1       4230587  10/25/2019      15:15        33.0    Occupant          F   \n2       4230550  10/26/2019      17:55        55.0    Occupant          M   \n3       3565527  11/21/2016      13:05         NaN    Occupant        NaN   \n4       4231168  10/25/2019      11:16         7.0    Occupant          F   \n\n  PERSON_INJURY EMOTIONAL_STATUS   BODILY_INJURY  \n0   Unspecified              NaN             NaN  \n1   Unspecified   Does Not Apply  Does Not Apply  \n2   Unspecified              NaN             NaN  \n3   Unspecified              NaN             NaN  \n4   Unspecified   Does Not Apply  Does Not Apply  ",
      "text/html": "<div>\n<style scoped>\n    .dataframe tbody tr th:only-of-type {\n        vertical-align: middle;\n    }\n\n    .dataframe tbody tr th {\n        vertical-align: top;\n    }\n\n    .dataframe thead th {\n        text-align: right;\n    }\n</style>\n<table border=\"1\" class=\"dataframe\">\n  <thead>\n    <tr style=\"text-align: right;\">\n      <th></th>\n      <th>COLLISION_ID</th>\n      <th>CRASH_DATE</th>\n      <th>CRASH_TIME</th>\n      <th>PERSON_AGE</th>\n      <th>PERSON_TYPE</th>\n      <th>PERSON_SEX</th>\n      <th>PERSON_INJURY</th>\n      <th>EMOTIONAL_STATUS</th>\n      <th>BODILY_INJURY</th>\n    </tr>\n  </thead>\n  <tbody>\n    <tr>\n      <th>0</th>\n      <td>4229554</td>\n      <td>10/26/2019</td>\n      <td>9:43</td>\n      <td>NaN</td>\n      <td>Occupant</td>\n      <td>U</td>\n      <td>Unspecified</td>\n      <td>NaN</td>\n      <td>NaN</td>\n    </tr>\n    <tr>\n      <th>1</th>\n      <td>4230587</td>\n      <td>10/25/2019</td>\n      <td>15:15</td>\n      <td>33.0</td>\n      <td>Occupant</td>\n      <td>F</td>\n      <td>Unspecified</td>\n      <td>Does Not Apply</td>\n      <td>Does Not Apply</td>\n    </tr>\n    <tr>\n      <th>2</th>\n      <td>4230550</td>\n      <td>10/26/2019</td>\n      <td>17:55</td>\n      <td>55.0</td>\n      <td>Occupant</td>\n      <td>M</td>\n      <td>Unspecified</td>\n      <td>NaN</td>\n      <td>NaN</td>\n    </tr>\n    <tr>\n      <th>3</th>\n      <td>3565527</td>\n      <td>11/21/2016</td>\n      <td>13:05</td>\n      <td>NaN</td>\n      <td>Occupant</td>\n      <td>NaN</td>\n      <td>Unspecified</td>\n      <td>NaN</td>\n      <td>NaN</td>\n    </tr>\n    <tr>\n      <th>4</th>\n      <td>4231168</td>\n      <td>10/25/2019</td>\n      <td>11:16</td>\n      <td>7.0</td>\n      <td>Occupant</td>\n      <td>F</td>\n      <td>Unspecified</td>\n      <td>Does Not Apply</td>\n      <td>Does Not Apply</td>\n    </tr>\n  </tbody>\n</table>\n</div>"
     },
     "execution_count": 170,
     "metadata": {},
     "output_type": "execute_result"
    }
   ],
   "source": [
    "# Subsetting Data to focus on relevant columns\n",
    "person_detail_df = person_data[['COLLISION_ID', 'CRASH_DATE', 'CRASH_TIME', 'PERSON_AGE', 'PERSON_TYPE', 'PERSON_SEX', 'PERSON_INJURY', 'EMOTIONAL_STATUS', 'BODILY_INJURY']]\n",
    "\n",
    "person_detail_df.head()"
   ],
   "metadata": {
    "collapsed": false,
    "ExecuteTime": {
     "end_time": "2024-10-16T19:24:31.135422Z",
     "start_time": "2024-10-16T19:24:30.775083Z"
    }
   },
   "id": "d378d6dcb285a113",
   "execution_count": 170
  },
  {
   "cell_type": "code",
   "outputs": [
    {
     "data": {
      "text/plain": "   COLLISION_ID  CRASH_DATE CRASH_TIME  PERSON_AGE PERSON_TYPE PERSON_SEX  \\\n1       4230587  10/25/2019      15:15        33.0    Occupant          F   \n2       4230550  10/26/2019      17:55        55.0    Occupant          M   \n4       4231168  10/25/2019      11:16         7.0    Occupant          F   \n5       4230743  10/24/2019      19:15        27.0    Occupant          M   \n6       4230047  10/26/2019      16:45        41.0    Occupant          F   \n\n  PERSON_INJURY EMOTIONAL_STATUS   BODILY_INJURY  \n1   Unspecified   Does Not Apply  Does Not Apply  \n2   Unspecified              NaN             NaN  \n4   Unspecified   Does Not Apply  Does Not Apply  \n5       Injured        Conscious            Back  \n6   Unspecified              NaN             NaN  ",
      "text/html": "<div>\n<style scoped>\n    .dataframe tbody tr th:only-of-type {\n        vertical-align: middle;\n    }\n\n    .dataframe tbody tr th {\n        vertical-align: top;\n    }\n\n    .dataframe thead th {\n        text-align: right;\n    }\n</style>\n<table border=\"1\" class=\"dataframe\">\n  <thead>\n    <tr style=\"text-align: right;\">\n      <th></th>\n      <th>COLLISION_ID</th>\n      <th>CRASH_DATE</th>\n      <th>CRASH_TIME</th>\n      <th>PERSON_AGE</th>\n      <th>PERSON_TYPE</th>\n      <th>PERSON_SEX</th>\n      <th>PERSON_INJURY</th>\n      <th>EMOTIONAL_STATUS</th>\n      <th>BODILY_INJURY</th>\n    </tr>\n  </thead>\n  <tbody>\n    <tr>\n      <th>1</th>\n      <td>4230587</td>\n      <td>10/25/2019</td>\n      <td>15:15</td>\n      <td>33.0</td>\n      <td>Occupant</td>\n      <td>F</td>\n      <td>Unspecified</td>\n      <td>Does Not Apply</td>\n      <td>Does Not Apply</td>\n    </tr>\n    <tr>\n      <th>2</th>\n      <td>4230550</td>\n      <td>10/26/2019</td>\n      <td>17:55</td>\n      <td>55.0</td>\n      <td>Occupant</td>\n      <td>M</td>\n      <td>Unspecified</td>\n      <td>NaN</td>\n      <td>NaN</td>\n    </tr>\n    <tr>\n      <th>4</th>\n      <td>4231168</td>\n      <td>10/25/2019</td>\n      <td>11:16</td>\n      <td>7.0</td>\n      <td>Occupant</td>\n      <td>F</td>\n      <td>Unspecified</td>\n      <td>Does Not Apply</td>\n      <td>Does Not Apply</td>\n    </tr>\n    <tr>\n      <th>5</th>\n      <td>4230743</td>\n      <td>10/24/2019</td>\n      <td>19:15</td>\n      <td>27.0</td>\n      <td>Occupant</td>\n      <td>M</td>\n      <td>Injured</td>\n      <td>Conscious</td>\n      <td>Back</td>\n    </tr>\n    <tr>\n      <th>6</th>\n      <td>4230047</td>\n      <td>10/26/2019</td>\n      <td>16:45</td>\n      <td>41.0</td>\n      <td>Occupant</td>\n      <td>F</td>\n      <td>Unspecified</td>\n      <td>NaN</td>\n      <td>NaN</td>\n    </tr>\n  </tbody>\n</table>\n</div>"
     },
     "execution_count": 171,
     "metadata": {},
     "output_type": "execute_result"
    }
   ],
   "source": [
    "# Drop the null Values\n",
    "person_detail_df = person_detail_df.dropna(subset=['PERSON_AGE', 'PERSON_SEX'])\n",
    "person_detail_df.head()"
   ],
   "metadata": {
    "collapsed": false,
    "ExecuteTime": {
     "end_time": "2024-10-16T19:24:31.640360Z",
     "start_time": "2024-10-16T19:24:31.136617Z"
    }
   },
   "id": "c66b16aee3919908",
   "execution_count": 171
  },
  {
   "cell_type": "code",
   "outputs": [
    {
     "name": "stdout",
     "output_type": "stream",
     "text": [
      "Before the conversion: \n",
      "<class 'pandas.core.frame.DataFrame'>\n",
      "Index: 4566749 entries, 1 to 5495039\n",
      "Data columns (total 9 columns):\n",
      " #   Column            Dtype  \n",
      "---  ------            -----  \n",
      " 0   COLLISION_ID      int64  \n",
      " 1   CRASH_DATE        object \n",
      " 2   CRASH_TIME        object \n",
      " 3   PERSON_AGE        float64\n",
      " 4   PERSON_TYPE       object \n",
      " 5   PERSON_SEX        object \n",
      " 6   PERSON_INJURY     object \n",
      " 7   EMOTIONAL_STATUS  object \n",
      " 8   BODILY_INJURY     object \n",
      "dtypes: float64(1), int64(1), object(7)\n",
      "memory usage: 348.4+ MB\n"
     ]
    },
    {
     "data": {
      "text/plain": "None"
     },
     "metadata": {},
     "output_type": "display_data"
    },
    {
     "name": "stdout",
     "output_type": "stream",
     "text": [
      "After the conversion: \n",
      "<class 'pandas.core.frame.DataFrame'>\n",
      "Index: 4566749 entries, 1 to 5495039\n",
      "Data columns (total 9 columns):\n",
      " #   Column            Dtype         \n",
      "---  ------            -----         \n",
      " 0   COLLISION_ID      int64         \n",
      " 1   CRASH_DATE        datetime64[ns]\n",
      " 2   CRASH_TIME        object        \n",
      " 3   PERSON_AGE        int64         \n",
      " 4   PERSON_TYPE       object        \n",
      " 5   PERSON_SEX        object        \n",
      " 6   PERSON_INJURY     object        \n",
      " 7   EMOTIONAL_STATUS  object        \n",
      " 8   BODILY_INJURY     object        \n",
      "dtypes: datetime64[ns](1), int64(2), object(6)\n",
      "memory usage: 348.4+ MB\n"
     ]
    },
    {
     "data": {
      "text/plain": "None"
     },
     "metadata": {},
     "output_type": "display_data"
    },
    {
     "data": {
      "text/plain": "   COLLISION_ID CRASH_DATE CRASH_TIME  PERSON_AGE PERSON_TYPE PERSON_SEX  \\\n1       4230587 2019-10-25   15:15:00          33    Occupant          F   \n2       4230550 2019-10-26   17:55:00          55    Occupant          M   \n4       4231168 2019-10-25   11:16:00           7    Occupant          F   \n5       4230743 2019-10-24   19:15:00          27    Occupant          M   \n6       4230047 2019-10-26   16:45:00          41    Occupant          F   \n\n  PERSON_INJURY EMOTIONAL_STATUS   BODILY_INJURY  \n1   Unspecified   Does Not Apply  Does Not Apply  \n2   Unspecified              NaN             NaN  \n4   Unspecified   Does Not Apply  Does Not Apply  \n5       Injured        Conscious            Back  \n6   Unspecified              NaN             NaN  ",
      "text/html": "<div>\n<style scoped>\n    .dataframe tbody tr th:only-of-type {\n        vertical-align: middle;\n    }\n\n    .dataframe tbody tr th {\n        vertical-align: top;\n    }\n\n    .dataframe thead th {\n        text-align: right;\n    }\n</style>\n<table border=\"1\" class=\"dataframe\">\n  <thead>\n    <tr style=\"text-align: right;\">\n      <th></th>\n      <th>COLLISION_ID</th>\n      <th>CRASH_DATE</th>\n      <th>CRASH_TIME</th>\n      <th>PERSON_AGE</th>\n      <th>PERSON_TYPE</th>\n      <th>PERSON_SEX</th>\n      <th>PERSON_INJURY</th>\n      <th>EMOTIONAL_STATUS</th>\n      <th>BODILY_INJURY</th>\n    </tr>\n  </thead>\n  <tbody>\n    <tr>\n      <th>1</th>\n      <td>4230587</td>\n      <td>2019-10-25</td>\n      <td>15:15:00</td>\n      <td>33</td>\n      <td>Occupant</td>\n      <td>F</td>\n      <td>Unspecified</td>\n      <td>Does Not Apply</td>\n      <td>Does Not Apply</td>\n    </tr>\n    <tr>\n      <th>2</th>\n      <td>4230550</td>\n      <td>2019-10-26</td>\n      <td>17:55:00</td>\n      <td>55</td>\n      <td>Occupant</td>\n      <td>M</td>\n      <td>Unspecified</td>\n      <td>NaN</td>\n      <td>NaN</td>\n    </tr>\n    <tr>\n      <th>4</th>\n      <td>4231168</td>\n      <td>2019-10-25</td>\n      <td>11:16:00</td>\n      <td>7</td>\n      <td>Occupant</td>\n      <td>F</td>\n      <td>Unspecified</td>\n      <td>Does Not Apply</td>\n      <td>Does Not Apply</td>\n    </tr>\n    <tr>\n      <th>5</th>\n      <td>4230743</td>\n      <td>2019-10-24</td>\n      <td>19:15:00</td>\n      <td>27</td>\n      <td>Occupant</td>\n      <td>M</td>\n      <td>Injured</td>\n      <td>Conscious</td>\n      <td>Back</td>\n    </tr>\n    <tr>\n      <th>6</th>\n      <td>4230047</td>\n      <td>2019-10-26</td>\n      <td>16:45:00</td>\n      <td>41</td>\n      <td>Occupant</td>\n      <td>F</td>\n      <td>Unspecified</td>\n      <td>NaN</td>\n      <td>NaN</td>\n    </tr>\n  </tbody>\n</table>\n</div>"
     },
     "execution_count": 172,
     "metadata": {},
     "output_type": "execute_result"
    }
   ],
   "source": [
    "# Correct the Data Types\n",
    "print('Before the conversion: ')\n",
    "display(person_detail_df.info())\n",
    "\n",
    "person_detail_df['CRASH_DATE'] = pd.to_datetime(person_detail_df['CRASH_DATE'])\n",
    "person_detail_df['CRASH_TIME'] = pd.to_datetime(person_detail_df['CRASH_TIME'], format='%H:%M').dt.time\n",
    "person_detail_df['PERSON_AGE'] = person_detail_df['PERSON_AGE'].astype(int)\n",
    "\n",
    "print('After the conversion: ')\n",
    "display(person_detail_df.info())\n",
    "\n",
    "person_detail_df.head()"
   ],
   "metadata": {
    "collapsed": false,
    "ExecuteTime": {
     "end_time": "2024-10-16T19:24:33.304933Z",
     "start_time": "2024-10-16T19:24:31.638247Z"
    }
   },
   "id": "75b5c31c4db667cf",
   "execution_count": 172
  },
  {
   "cell_type": "code",
   "outputs": [
    {
     "data": {
      "text/plain": "PERSON_INJURY\nUnspecified    4089653\nInjured         474855\nKilled            2241\nName: count, dtype: int64"
     },
     "metadata": {},
     "output_type": "display_data"
    },
    {
     "data": {
      "text/plain": "         COLLISION_ID CRASH_DATE CRASH_TIME  PERSON_AGE      PERSON_TYPE  \\\n5             4230743 2019-10-24   19:15:00          27         Occupant   \n7             4229547 2019-10-26   01:15:00          24       Pedestrian   \n18            4230715 2019-10-26   08:50:00          42        Bicyclist   \n31            4230376 2019-10-26   19:40:00          36        Bicyclist   \n44            4229773 2019-10-26   16:50:00          50         Occupant   \n...               ...        ...        ...         ...              ...   \n5495010       4762077 2024-10-08   12:18:00          18       Pedestrian   \n5495012       4762024 2024-10-08   08:20:00          52        Bicyclist   \n5495023       4762519 2024-10-08   21:15:00          52  Other Motorized   \n5495026       4762145 2024-10-08   07:35:00          42  Other Motorized   \n5495032       4762340 2024-10-05   12:30:00          28        Bicyclist   \n\n        PERSON_SEX PERSON_INJURY EMOTIONAL_STATUS         BODILY_INJURY  \n5                M       Injured        Conscious                  Back  \n7                F       Injured        Conscious  Shoulder - Upper Arm  \n18               M       Injured          Unknown   Knee-Lower Leg Foot  \n31               M       Injured        Conscious                  Back  \n44               F       Injured        Conscious                  Head  \n...            ...           ...              ...                   ...  \n5495010          M       Injured        Conscious  Elbow-Lower-Arm-Hand  \n5495012          M       Injured        Conscious                  Back  \n5495023          F       Injured        Conscious                  Head  \n5495026          F       Injured        Conscious                  Neck  \n5495032          F       Injured            Shock   Knee-Lower Leg Foot  \n\n[477096 rows x 9 columns]",
      "text/html": "<div>\n<style scoped>\n    .dataframe tbody tr th:only-of-type {\n        vertical-align: middle;\n    }\n\n    .dataframe tbody tr th {\n        vertical-align: top;\n    }\n\n    .dataframe thead th {\n        text-align: right;\n    }\n</style>\n<table border=\"1\" class=\"dataframe\">\n  <thead>\n    <tr style=\"text-align: right;\">\n      <th></th>\n      <th>COLLISION_ID</th>\n      <th>CRASH_DATE</th>\n      <th>CRASH_TIME</th>\n      <th>PERSON_AGE</th>\n      <th>PERSON_TYPE</th>\n      <th>PERSON_SEX</th>\n      <th>PERSON_INJURY</th>\n      <th>EMOTIONAL_STATUS</th>\n      <th>BODILY_INJURY</th>\n    </tr>\n  </thead>\n  <tbody>\n    <tr>\n      <th>5</th>\n      <td>4230743</td>\n      <td>2019-10-24</td>\n      <td>19:15:00</td>\n      <td>27</td>\n      <td>Occupant</td>\n      <td>M</td>\n      <td>Injured</td>\n      <td>Conscious</td>\n      <td>Back</td>\n    </tr>\n    <tr>\n      <th>7</th>\n      <td>4229547</td>\n      <td>2019-10-26</td>\n      <td>01:15:00</td>\n      <td>24</td>\n      <td>Pedestrian</td>\n      <td>F</td>\n      <td>Injured</td>\n      <td>Conscious</td>\n      <td>Shoulder - Upper Arm</td>\n    </tr>\n    <tr>\n      <th>18</th>\n      <td>4230715</td>\n      <td>2019-10-26</td>\n      <td>08:50:00</td>\n      <td>42</td>\n      <td>Bicyclist</td>\n      <td>M</td>\n      <td>Injured</td>\n      <td>Unknown</td>\n      <td>Knee-Lower Leg Foot</td>\n    </tr>\n    <tr>\n      <th>31</th>\n      <td>4230376</td>\n      <td>2019-10-26</td>\n      <td>19:40:00</td>\n      <td>36</td>\n      <td>Bicyclist</td>\n      <td>M</td>\n      <td>Injured</td>\n      <td>Conscious</td>\n      <td>Back</td>\n    </tr>\n    <tr>\n      <th>44</th>\n      <td>4229773</td>\n      <td>2019-10-26</td>\n      <td>16:50:00</td>\n      <td>50</td>\n      <td>Occupant</td>\n      <td>F</td>\n      <td>Injured</td>\n      <td>Conscious</td>\n      <td>Head</td>\n    </tr>\n    <tr>\n      <th>...</th>\n      <td>...</td>\n      <td>...</td>\n      <td>...</td>\n      <td>...</td>\n      <td>...</td>\n      <td>...</td>\n      <td>...</td>\n      <td>...</td>\n      <td>...</td>\n    </tr>\n    <tr>\n      <th>5495010</th>\n      <td>4762077</td>\n      <td>2024-10-08</td>\n      <td>12:18:00</td>\n      <td>18</td>\n      <td>Pedestrian</td>\n      <td>M</td>\n      <td>Injured</td>\n      <td>Conscious</td>\n      <td>Elbow-Lower-Arm-Hand</td>\n    </tr>\n    <tr>\n      <th>5495012</th>\n      <td>4762024</td>\n      <td>2024-10-08</td>\n      <td>08:20:00</td>\n      <td>52</td>\n      <td>Bicyclist</td>\n      <td>M</td>\n      <td>Injured</td>\n      <td>Conscious</td>\n      <td>Back</td>\n    </tr>\n    <tr>\n      <th>5495023</th>\n      <td>4762519</td>\n      <td>2024-10-08</td>\n      <td>21:15:00</td>\n      <td>52</td>\n      <td>Other Motorized</td>\n      <td>F</td>\n      <td>Injured</td>\n      <td>Conscious</td>\n      <td>Head</td>\n    </tr>\n    <tr>\n      <th>5495026</th>\n      <td>4762145</td>\n      <td>2024-10-08</td>\n      <td>07:35:00</td>\n      <td>42</td>\n      <td>Other Motorized</td>\n      <td>F</td>\n      <td>Injured</td>\n      <td>Conscious</td>\n      <td>Neck</td>\n    </tr>\n    <tr>\n      <th>5495032</th>\n      <td>4762340</td>\n      <td>2024-10-05</td>\n      <td>12:30:00</td>\n      <td>28</td>\n      <td>Bicyclist</td>\n      <td>F</td>\n      <td>Injured</td>\n      <td>Shock</td>\n      <td>Knee-Lower Leg Foot</td>\n    </tr>\n  </tbody>\n</table>\n<p>477096 rows × 9 columns</p>\n</div>"
     },
     "metadata": {},
     "output_type": "display_data"
    }
   ],
   "source": [
    "display(person_detail_df['PERSON_INJURY'].value_counts())\n",
    "\n",
    "person_detail_df = person_detail_df.query(\"PERSON_INJURY != 'Unspecified'\")\n",
    "\n",
    "display(person_detail_df)"
   ],
   "metadata": {
    "collapsed": false,
    "ExecuteTime": {
     "end_time": "2024-10-16T19:24:33.583937Z",
     "start_time": "2024-10-16T19:24:33.430591Z"
    }
   },
   "id": "dfbc4caaa9a258ed",
   "execution_count": 173
  },
  {
   "cell_type": "code",
   "outputs": [
    {
     "data": {
      "text/plain": "EMOTIONAL_STATUS\nConscious         439708\nUnknown            14528\nShock              14018\nSemiconscious       2794\nUnconscious         2602\nIncoherent          1805\nApparent Death      1558\nName: count, dtype: int64"
     },
     "metadata": {},
     "output_type": "display_data"
    }
   ],
   "source": [
    "# Fixing the Emotional Status Column\n",
    "\n",
    "person_detail_df['EMOTIONAL_STATUS'] = person_detail_df['EMOTIONAL_STATUS'].replace({'Does Not Apply': 'Unknown'})\n",
    "\n",
    "display(person_detail_df['EMOTIONAL_STATUS'].value_counts())\n"
   ],
   "metadata": {
    "collapsed": false,
    "ExecuteTime": {
     "end_time": "2024-10-16T19:24:33.652237Z",
     "start_time": "2024-10-16T19:24:33.596615Z"
    }
   },
   "id": "35942bb6be54739f",
   "execution_count": 174
  },
  {
   "cell_type": "code",
   "outputs": [
    {
     "data": {
      "text/plain": "PERSON_SEX\nMale       275435\nFemale     200861\nUnknown       800\nName: count, dtype: int64"
     },
     "metadata": {},
     "output_type": "display_data"
    }
   ],
   "source": [
    "# Change the Person Sex Column\n",
    "\n",
    "person_detail_df['PERSON_SEX'] = person_detail_df['PERSON_SEX'].replace({\n",
    "    'M': 'Male',\n",
    "    'F': 'Female',\n",
    "    'U': 'Unknown'\n",
    "})\n",
    "\n",
    "display(person_detail_df['PERSON_SEX'].value_counts())"
   ],
   "metadata": {
    "collapsed": false,
    "ExecuteTime": {
     "end_time": "2024-10-16T19:24:33.790638Z",
     "start_time": "2024-10-16T19:24:33.654449Z"
    }
   },
   "id": "7f84627e3396cb56",
   "execution_count": 175
  },
  {
   "cell_type": "code",
   "outputs": [
    {
     "data": {
      "text/plain": "BODILY_INJURY\nBack                    79882\nNeck                    76761\nKnee-Lower Leg Foot     73422\nHead                    65906\nEntire Body             39025\nElbow-Lower-Arm-Hand    32950\nShoulder - Upper Arm    32899\nChest                   17475\nHip-Upper Leg           16922\nFace                    12831\nAbdomen - Pelvis         8413\nEye                       908\nDoes Not Apply            636\nName: count, dtype: int64"
     },
     "execution_count": 176,
     "metadata": {},
     "output_type": "execute_result"
    }
   ],
   "source": [
    "# Drop the columns where the bodily injury is not described\n",
    "person_detail_df = person_detail_df.query(\"BODILY_INJURY != 'Unknown'\")\n",
    "\n",
    "person_detail_df['BODILY_INJURY'].value_counts()"
   ],
   "metadata": {
    "collapsed": false,
    "ExecuteTime": {
     "end_time": "2024-10-16T19:24:33.826154Z",
     "start_time": "2024-10-16T19:24:33.729518Z"
    }
   },
   "id": "f20ca0ead5bc6475",
   "execution_count": 176
  },
  {
   "cell_type": "code",
   "outputs": [
    {
     "data": {
      "text/plain": "COLLISION_ID  CRASH_DATE  CRASH_TIME  PERSON_AGE  PERSON_TYPE  PERSON_SEX  PERSON_INJURY  EMOTIONAL_STATUS  BODILY_INJURY      \n4148045       2019-06-07  09:50:00    7           Occupant     Female      Injured        Conscious         Head                   6\n4689227       2023-12-21  11:00:00    10          Occupant     Female      Injured        Conscious         Head                   6\n3678545       2017-05-26  10:00:00    11          Occupant     Female      Injured        Conscious         Entire Body            6\n4148045       2019-06-07  09:50:00    8           Occupant     Female      Injured        Conscious         Head                   5\n4552186       2022-07-21  05:56:00    55          Occupant     Female      Injured        Conscious         Entire Body            5\n                                                                                                                                  ..\n4016320       2018-11-07  18:14:00    41          Pedestrian   Female      Injured        Conscious         Knee-Lower Leg Foot    1\n4016319       2018-11-07  16:00:00    57          Occupant     Male        Injured        Conscious         Back                   1\n                                      53          Occupant     Female      Injured        Conscious         Back                   1\n4016317       2018-11-07  19:00:00    45          Occupant     Male        Injured        Conscious         Entire Body            1\n4762592       2024-10-06  23:11:00    32          Occupant     Female      Injured        Conscious         Back                   1\nName: count, Length: 455735, dtype: int64"
     },
     "execution_count": 177,
     "metadata": {},
     "output_type": "execute_result"
    }
   ],
   "source": [
    "person_detail_df.value_counts()"
   ],
   "metadata": {
    "collapsed": false,
    "ExecuteTime": {
     "end_time": "2024-10-16T19:24:34.107465Z",
     "start_time": "2024-10-16T19:24:33.800270Z"
    }
   },
   "id": "55daa0898d62a66f",
   "execution_count": 177
  },
  {
   "cell_type": "code",
   "outputs": [],
   "source": [
    "# Save to a csv file\n",
    "person_detail_df.to_csv(str(dir_path / Path('data_files/clean_data/person_detail.csv')), index=False)"
   ],
   "metadata": {
    "collapsed": false,
    "ExecuteTime": {
     "end_time": "2024-10-16T19:24:35.488937Z",
     "start_time": "2024-10-16T19:24:34.108541Z"
    }
   },
   "id": "6bb28080cca9fa54",
   "execution_count": 178
  }
 ],
 "metadata": {
  "kernelspec": {
   "display_name": "Python 3 (ipykernel)",
   "language": "python",
   "name": "python3"
  },
  "language_info": {
   "codemirror_mode": {
    "name": "ipython",
    "version": 3
   },
   "file_extension": ".py",
   "mimetype": "text/x-python",
   "name": "python",
   "nbconvert_exporter": "python",
   "pygments_lexer": "ipython3",
   "version": "3.10.9"
  }
 },
 "nbformat": 4,
 "nbformat_minor": 5
}
