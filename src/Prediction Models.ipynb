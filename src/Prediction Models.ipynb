{
 "cells": [
  {
   "cell_type": "markdown",
   "id": "7cbc14caa76f7b97",
   "metadata": {
    "collapsed": false
   },
   "source": [
    "# Classification Model of Accident Severity in NYC"
   ]
  },
  {
   "cell_type": "code",
   "execution_count": 66,
   "id": "initial_id",
   "metadata": {
    "ExecuteTime": {
     "end_time": "2024-10-16T19:37:55.524868Z",
     "start_time": "2024-10-16T19:37:55.495382Z"
    }
   },
   "outputs": [],
   "source": [
    "from sklearn.model_selection import train_test_split\n",
    "from sklearn.ensemble import RandomForestClassifier\n",
    "\n",
    "import pandas as pd\n",
    "from pathlib import Path"
   ]
  },
  {
   "cell_type": "code",
   "execution_count": 67,
   "id": "2c22ae2f29fefaa4",
   "metadata": {
    "collapsed": false,
    "ExecuteTime": {
     "end_time": "2024-10-16T19:37:55.581657Z",
     "start_time": "2024-10-16T19:37:55.522056Z"
    }
   },
   "outputs": [],
   "source": [
    "# Get File Path\n",
    "dir_path = Path().resolve().parent\n",
    "data_path = dir_path / Path('data_files/clean_data')"
   ]
  },
  {
   "cell_type": "code",
   "execution_count": 68,
   "id": "7bbf74a98dc663b7",
   "metadata": {
    "collapsed": false,
    "ExecuteTime": {
     "end_time": "2024-10-16T19:37:56.509559Z",
     "start_time": "2024-10-16T19:37:55.584481Z"
    }
   },
   "outputs": [
    {
     "data": {
      "text/plain": "   COLLISION_ID  CRASH_DATE CRASH_TIME   LATITUDE  LONGITUDE  \\\n0       4486555  2021-12-14   17:05:00  40.709183 -73.956825   \n1       4487074  2021-12-14   21:10:00  40.671720 -73.897100   \n2       4486519  2021-12-14   14:58:00  40.751440 -73.973970   \n3       4486934  2021-12-13   00:34:00  40.701275 -73.888870   \n4       4487127  2021-12-14   16:50:00  40.675884 -73.755770   \n\n   NUMBER_OF_PERSONS_INJURED  NUMBER_OF_PERSONS_KILLED  \\\n0                          0                         0   \n1                          0                         0   \n2                          0                         0   \n3                          0                         0   \n4                          0                         0   \n\n    CONTRIBUTING_FACTOR_VEHICLE_1 CONTRIBUTING_FACTOR_VEHICLE_2  \\\n0             Passing Too Closely                   Unspecified   \n1             Driver Inexperience                   Unspecified   \n2             Passing Too Closely                   Unspecified   \n3  Passing or Lane Usage Improper                   Unspecified   \n4              Turning Improperly                   Unspecified   \n\n  ACCIDENT_SEVERITY  \n0         No Injury  \n1         No Injury  \n2         No Injury  \n3         No Injury  \n4         No Injury  ",
      "text/html": "<div>\n<style scoped>\n    .dataframe tbody tr th:only-of-type {\n        vertical-align: middle;\n    }\n\n    .dataframe tbody tr th {\n        vertical-align: top;\n    }\n\n    .dataframe thead th {\n        text-align: right;\n    }\n</style>\n<table border=\"1\" class=\"dataframe\">\n  <thead>\n    <tr style=\"text-align: right;\">\n      <th></th>\n      <th>COLLISION_ID</th>\n      <th>CRASH_DATE</th>\n      <th>CRASH_TIME</th>\n      <th>LATITUDE</th>\n      <th>LONGITUDE</th>\n      <th>NUMBER_OF_PERSONS_INJURED</th>\n      <th>NUMBER_OF_PERSONS_KILLED</th>\n      <th>CONTRIBUTING_FACTOR_VEHICLE_1</th>\n      <th>CONTRIBUTING_FACTOR_VEHICLE_2</th>\n      <th>ACCIDENT_SEVERITY</th>\n    </tr>\n  </thead>\n  <tbody>\n    <tr>\n      <th>0</th>\n      <td>4486555</td>\n      <td>2021-12-14</td>\n      <td>17:05:00</td>\n      <td>40.709183</td>\n      <td>-73.956825</td>\n      <td>0</td>\n      <td>0</td>\n      <td>Passing Too Closely</td>\n      <td>Unspecified</td>\n      <td>No Injury</td>\n    </tr>\n    <tr>\n      <th>1</th>\n      <td>4487074</td>\n      <td>2021-12-14</td>\n      <td>21:10:00</td>\n      <td>40.671720</td>\n      <td>-73.897100</td>\n      <td>0</td>\n      <td>0</td>\n      <td>Driver Inexperience</td>\n      <td>Unspecified</td>\n      <td>No Injury</td>\n    </tr>\n    <tr>\n      <th>2</th>\n      <td>4486519</td>\n      <td>2021-12-14</td>\n      <td>14:58:00</td>\n      <td>40.751440</td>\n      <td>-73.973970</td>\n      <td>0</td>\n      <td>0</td>\n      <td>Passing Too Closely</td>\n      <td>Unspecified</td>\n      <td>No Injury</td>\n    </tr>\n    <tr>\n      <th>3</th>\n      <td>4486934</td>\n      <td>2021-12-13</td>\n      <td>00:34:00</td>\n      <td>40.701275</td>\n      <td>-73.888870</td>\n      <td>0</td>\n      <td>0</td>\n      <td>Passing or Lane Usage Improper</td>\n      <td>Unspecified</td>\n      <td>No Injury</td>\n    </tr>\n    <tr>\n      <th>4</th>\n      <td>4487127</td>\n      <td>2021-12-14</td>\n      <td>16:50:00</td>\n      <td>40.675884</td>\n      <td>-73.755770</td>\n      <td>0</td>\n      <td>0</td>\n      <td>Turning Improperly</td>\n      <td>Unspecified</td>\n      <td>No Injury</td>\n    </tr>\n  </tbody>\n</table>\n</div>"
     },
     "execution_count": 68,
     "metadata": {},
     "output_type": "execute_result"
    }
   ],
   "source": [
    "location_df = pd.read_csv(str(data_path / 'location_data.csv'))\n",
    "location_df.head()"
   ]
  },
  {
   "cell_type": "code",
   "outputs": [
    {
     "data": {
      "text/plain": "(1085722, 10)"
     },
     "execution_count": 69,
     "metadata": {},
     "output_type": "execute_result"
    }
   ],
   "source": [
    "location_df.shape"
   ],
   "metadata": {
    "collapsed": false,
    "ExecuteTime": {
     "end_time": "2024-10-16T19:37:56.512185Z",
     "start_time": "2024-10-16T19:37:56.503700Z"
    }
   },
   "id": "aa2a7835e1041ea9",
   "execution_count": 69
  },
  {
   "cell_type": "code",
   "outputs": [
    {
     "data": {
      "text/plain": "Index(['COLLISION_ID', 'CRASH_DATE', 'CRASH_TIME', 'LATITUDE', 'LONGITUDE',\n       'NUMBER_OF_PERSONS_INJURED', 'NUMBER_OF_PERSONS_KILLED',\n       'CONTRIBUTING_FACTOR_VEHICLE_1', 'CONTRIBUTING_FACTOR_VEHICLE_2',\n       'ACCIDENT_SEVERITY'],\n      dtype='object')"
     },
     "execution_count": 70,
     "metadata": {},
     "output_type": "execute_result"
    }
   ],
   "source": [
    "location_df.columns"
   ],
   "metadata": {
    "collapsed": false,
    "ExecuteTime": {
     "end_time": "2024-10-16T19:37:56.514941Z",
     "start_time": "2024-10-16T19:37:56.512252Z"
    }
   },
   "id": "c9f1318dd698a0a0",
   "execution_count": 70
  },
  {
   "cell_type": "code",
   "outputs": [
    {
     "data": {
      "text/plain": "    COLLISION_ID  CRASH_DATE CRASH_TIME   LATITUDE  LONGITUDE  \\\n0        4486555  2021-12-14   17:05:00  40.709183 -73.956825   \n1        4487074  2021-12-14   21:10:00  40.671720 -73.897100   \n2        4486519  2021-12-14   14:58:00  40.751440 -73.973970   \n3        4486934  2021-12-13   00:34:00  40.701275 -73.888870   \n4        4487127  2021-12-14   16:50:00  40.675884 -73.755770   \n5        4486635  2021-12-14   23:10:00  40.666840 -73.789410   \n6        4486604  2021-12-14   17:58:00  40.681580 -73.974630   \n7        4486537  2021-12-14   14:30:00  40.783268 -73.824850   \n8        4486905  2021-12-11   04:45:00  40.748917 -73.993546   \n9        4487122  2021-12-14   05:46:00  40.744644 -73.770410   \n10       4486605  2021-12-14   20:13:00  40.665760 -73.984500   \n11       4486556  2021-12-14   17:15:00  40.710957 -73.951126   \n12       4486875  2021-12-14   22:49:00  40.818130 -73.910126   \n13       4486933  2021-12-12   09:00:00  40.704470 -73.901480   \n14       4486581  2021-12-14   16:25:00  40.784615 -73.953964   \n15       4545699  2022-07-12   17:50:00  40.663303 -73.960490   \n16       4521660  2022-04-24   16:45:00  40.607685 -74.138920   \n17       4522156  2022-04-24   21:40:00  40.843906 -73.924130   \n18       4521633  2022-04-24   17:45:00  40.894810 -73.861830   \n19       4521801  2022-04-24   00:00:00  40.861862 -73.912750   \n\n    NUMBER_OF_PERSONS_INJURED  NUMBER_OF_PERSONS_KILLED  \\\n0                           0                         0   \n1                           0                         0   \n2                           0                         0   \n3                           0                         0   \n4                           0                         0   \n5                           2                         0   \n6                           0                         0   \n7                           0                         0   \n8                           0                         0   \n9                           1                         0   \n10                          0                         0   \n11                          1                         0   \n12                          0                         0   \n13                          0                         0   \n14                          1                         0   \n15                          0                         0   \n16                          1                         0   \n17                          0                         0   \n18                          0                         0   \n19                          0                         0   \n\n     CONTRIBUTING_FACTOR_VEHICLE_1   CONTRIBUTING_FACTOR_VEHICLE_2  \\\n0              Passing Too Closely                     Unspecified   \n1              Driver Inexperience                     Unspecified   \n2              Passing Too Closely                     Unspecified   \n3   Passing or Lane Usage Improper                     Unspecified   \n4               Turning Improperly                     Unspecified   \n5   Reaction to Uninvolved Vehicle                     Unspecified   \n6              Passing Too Closely                     Unspecified   \n7            Following Too Closely                     Unspecified   \n8            Following Too Closely                     Unspecified   \n9                  Other Vehicular                 Other Vehicular   \n10             Passing Too Closely                     Unspecified   \n11  Passing or Lane Usage Improper                     Unspecified   \n12  Driver Inattention/Distraction                     Unspecified   \n13             Passing Too Closely                     Unspecified   \n14  Driver Inattention/Distraction  Driver Inattention/Distraction   \n15               Oversized Vehicle                     Unspecified   \n16  Driver Inattention/Distraction                     Unspecified   \n17             Alcohol Involvement                     Unspecified   \n18  Driver Inattention/Distraction                     Unspecified   \n19  Driver Inattention/Distraction                     Unspecified   \n\n   ACCIDENT_SEVERITY  ACCIDENT_SEVERITY_ENCODED  \\\n0          No Injury                          3   \n1          No Injury                          3   \n2          No Injury                          3   \n3          No Injury                          3   \n4          No Injury                          3   \n5       Minor Injury                          2   \n6          No Injury                          3   \n7          No Injury                          3   \n8          No Injury                          3   \n9       Minor Injury                          2   \n10         No Injury                          3   \n11      Minor Injury                          2   \n12         No Injury                          3   \n13         No Injury                          3   \n14      Minor Injury                          2   \n15         No Injury                          3   \n16      Minor Injury                          2   \n17         No Injury                          3   \n18         No Injury                          3   \n19         No Injury                          3   \n\n    CONTRIBUTING_FACTOR_VEHICLE_1_ENCODED  \\\n0                                      31   \n1                                       9   \n2                                      31   \n3                                      32   \n4                                      48   \n5                                      39   \n6                                      31   \n7                                      17   \n8                                      17   \n9                                      27   \n10                                     31   \n11                                     32   \n12                                      8   \n13                                     31   \n14                                      8   \n15                                     29   \n16                                      8   \n17                                      2   \n18                                      8   \n19                                      8   \n\n    CONTRIBUTING_FACTOR_VEHICLE_2_ENCODED  \n0                                      51  \n1                                      51  \n2                                      51  \n3                                      51  \n4                                      51  \n5                                      51  \n6                                      51  \n7                                      51  \n8                                      51  \n9                                      27  \n10                                     51  \n11                                     51  \n12                                     51  \n13                                     51  \n14                                      8  \n15                                     51  \n16                                     51  \n17                                     51  \n18                                     51  \n19                                     51  ",
      "text/html": "<div>\n<style scoped>\n    .dataframe tbody tr th:only-of-type {\n        vertical-align: middle;\n    }\n\n    .dataframe tbody tr th {\n        vertical-align: top;\n    }\n\n    .dataframe thead th {\n        text-align: right;\n    }\n</style>\n<table border=\"1\" class=\"dataframe\">\n  <thead>\n    <tr style=\"text-align: right;\">\n      <th></th>\n      <th>COLLISION_ID</th>\n      <th>CRASH_DATE</th>\n      <th>CRASH_TIME</th>\n      <th>LATITUDE</th>\n      <th>LONGITUDE</th>\n      <th>NUMBER_OF_PERSONS_INJURED</th>\n      <th>NUMBER_OF_PERSONS_KILLED</th>\n      <th>CONTRIBUTING_FACTOR_VEHICLE_1</th>\n      <th>CONTRIBUTING_FACTOR_VEHICLE_2</th>\n      <th>ACCIDENT_SEVERITY</th>\n      <th>ACCIDENT_SEVERITY_ENCODED</th>\n      <th>CONTRIBUTING_FACTOR_VEHICLE_1_ENCODED</th>\n      <th>CONTRIBUTING_FACTOR_VEHICLE_2_ENCODED</th>\n    </tr>\n  </thead>\n  <tbody>\n    <tr>\n      <th>0</th>\n      <td>4486555</td>\n      <td>2021-12-14</td>\n      <td>17:05:00</td>\n      <td>40.709183</td>\n      <td>-73.956825</td>\n      <td>0</td>\n      <td>0</td>\n      <td>Passing Too Closely</td>\n      <td>Unspecified</td>\n      <td>No Injury</td>\n      <td>3</td>\n      <td>31</td>\n      <td>51</td>\n    </tr>\n    <tr>\n      <th>1</th>\n      <td>4487074</td>\n      <td>2021-12-14</td>\n      <td>21:10:00</td>\n      <td>40.671720</td>\n      <td>-73.897100</td>\n      <td>0</td>\n      <td>0</td>\n      <td>Driver Inexperience</td>\n      <td>Unspecified</td>\n      <td>No Injury</td>\n      <td>3</td>\n      <td>9</td>\n      <td>51</td>\n    </tr>\n    <tr>\n      <th>2</th>\n      <td>4486519</td>\n      <td>2021-12-14</td>\n      <td>14:58:00</td>\n      <td>40.751440</td>\n      <td>-73.973970</td>\n      <td>0</td>\n      <td>0</td>\n      <td>Passing Too Closely</td>\n      <td>Unspecified</td>\n      <td>No Injury</td>\n      <td>3</td>\n      <td>31</td>\n      <td>51</td>\n    </tr>\n    <tr>\n      <th>3</th>\n      <td>4486934</td>\n      <td>2021-12-13</td>\n      <td>00:34:00</td>\n      <td>40.701275</td>\n      <td>-73.888870</td>\n      <td>0</td>\n      <td>0</td>\n      <td>Passing or Lane Usage Improper</td>\n      <td>Unspecified</td>\n      <td>No Injury</td>\n      <td>3</td>\n      <td>32</td>\n      <td>51</td>\n    </tr>\n    <tr>\n      <th>4</th>\n      <td>4487127</td>\n      <td>2021-12-14</td>\n      <td>16:50:00</td>\n      <td>40.675884</td>\n      <td>-73.755770</td>\n      <td>0</td>\n      <td>0</td>\n      <td>Turning Improperly</td>\n      <td>Unspecified</td>\n      <td>No Injury</td>\n      <td>3</td>\n      <td>48</td>\n      <td>51</td>\n    </tr>\n    <tr>\n      <th>5</th>\n      <td>4486635</td>\n      <td>2021-12-14</td>\n      <td>23:10:00</td>\n      <td>40.666840</td>\n      <td>-73.789410</td>\n      <td>2</td>\n      <td>0</td>\n      <td>Reaction to Uninvolved Vehicle</td>\n      <td>Unspecified</td>\n      <td>Minor Injury</td>\n      <td>2</td>\n      <td>39</td>\n      <td>51</td>\n    </tr>\n    <tr>\n      <th>6</th>\n      <td>4486604</td>\n      <td>2021-12-14</td>\n      <td>17:58:00</td>\n      <td>40.681580</td>\n      <td>-73.974630</td>\n      <td>0</td>\n      <td>0</td>\n      <td>Passing Too Closely</td>\n      <td>Unspecified</td>\n      <td>No Injury</td>\n      <td>3</td>\n      <td>31</td>\n      <td>51</td>\n    </tr>\n    <tr>\n      <th>7</th>\n      <td>4486537</td>\n      <td>2021-12-14</td>\n      <td>14:30:00</td>\n      <td>40.783268</td>\n      <td>-73.824850</td>\n      <td>0</td>\n      <td>0</td>\n      <td>Following Too Closely</td>\n      <td>Unspecified</td>\n      <td>No Injury</td>\n      <td>3</td>\n      <td>17</td>\n      <td>51</td>\n    </tr>\n    <tr>\n      <th>8</th>\n      <td>4486905</td>\n      <td>2021-12-11</td>\n      <td>04:45:00</td>\n      <td>40.748917</td>\n      <td>-73.993546</td>\n      <td>0</td>\n      <td>0</td>\n      <td>Following Too Closely</td>\n      <td>Unspecified</td>\n      <td>No Injury</td>\n      <td>3</td>\n      <td>17</td>\n      <td>51</td>\n    </tr>\n    <tr>\n      <th>9</th>\n      <td>4487122</td>\n      <td>2021-12-14</td>\n      <td>05:46:00</td>\n      <td>40.744644</td>\n      <td>-73.770410</td>\n      <td>1</td>\n      <td>0</td>\n      <td>Other Vehicular</td>\n      <td>Other Vehicular</td>\n      <td>Minor Injury</td>\n      <td>2</td>\n      <td>27</td>\n      <td>27</td>\n    </tr>\n    <tr>\n      <th>10</th>\n      <td>4486605</td>\n      <td>2021-12-14</td>\n      <td>20:13:00</td>\n      <td>40.665760</td>\n      <td>-73.984500</td>\n      <td>0</td>\n      <td>0</td>\n      <td>Passing Too Closely</td>\n      <td>Unspecified</td>\n      <td>No Injury</td>\n      <td>3</td>\n      <td>31</td>\n      <td>51</td>\n    </tr>\n    <tr>\n      <th>11</th>\n      <td>4486556</td>\n      <td>2021-12-14</td>\n      <td>17:15:00</td>\n      <td>40.710957</td>\n      <td>-73.951126</td>\n      <td>1</td>\n      <td>0</td>\n      <td>Passing or Lane Usage Improper</td>\n      <td>Unspecified</td>\n      <td>Minor Injury</td>\n      <td>2</td>\n      <td>32</td>\n      <td>51</td>\n    </tr>\n    <tr>\n      <th>12</th>\n      <td>4486875</td>\n      <td>2021-12-14</td>\n      <td>22:49:00</td>\n      <td>40.818130</td>\n      <td>-73.910126</td>\n      <td>0</td>\n      <td>0</td>\n      <td>Driver Inattention/Distraction</td>\n      <td>Unspecified</td>\n      <td>No Injury</td>\n      <td>3</td>\n      <td>8</td>\n      <td>51</td>\n    </tr>\n    <tr>\n      <th>13</th>\n      <td>4486933</td>\n      <td>2021-12-12</td>\n      <td>09:00:00</td>\n      <td>40.704470</td>\n      <td>-73.901480</td>\n      <td>0</td>\n      <td>0</td>\n      <td>Passing Too Closely</td>\n      <td>Unspecified</td>\n      <td>No Injury</td>\n      <td>3</td>\n      <td>31</td>\n      <td>51</td>\n    </tr>\n    <tr>\n      <th>14</th>\n      <td>4486581</td>\n      <td>2021-12-14</td>\n      <td>16:25:00</td>\n      <td>40.784615</td>\n      <td>-73.953964</td>\n      <td>1</td>\n      <td>0</td>\n      <td>Driver Inattention/Distraction</td>\n      <td>Driver Inattention/Distraction</td>\n      <td>Minor Injury</td>\n      <td>2</td>\n      <td>8</td>\n      <td>8</td>\n    </tr>\n    <tr>\n      <th>15</th>\n      <td>4545699</td>\n      <td>2022-07-12</td>\n      <td>17:50:00</td>\n      <td>40.663303</td>\n      <td>-73.960490</td>\n      <td>0</td>\n      <td>0</td>\n      <td>Oversized Vehicle</td>\n      <td>Unspecified</td>\n      <td>No Injury</td>\n      <td>3</td>\n      <td>29</td>\n      <td>51</td>\n    </tr>\n    <tr>\n      <th>16</th>\n      <td>4521660</td>\n      <td>2022-04-24</td>\n      <td>16:45:00</td>\n      <td>40.607685</td>\n      <td>-74.138920</td>\n      <td>1</td>\n      <td>0</td>\n      <td>Driver Inattention/Distraction</td>\n      <td>Unspecified</td>\n      <td>Minor Injury</td>\n      <td>2</td>\n      <td>8</td>\n      <td>51</td>\n    </tr>\n    <tr>\n      <th>17</th>\n      <td>4522156</td>\n      <td>2022-04-24</td>\n      <td>21:40:00</td>\n      <td>40.843906</td>\n      <td>-73.924130</td>\n      <td>0</td>\n      <td>0</td>\n      <td>Alcohol Involvement</td>\n      <td>Unspecified</td>\n      <td>No Injury</td>\n      <td>3</td>\n      <td>2</td>\n      <td>51</td>\n    </tr>\n    <tr>\n      <th>18</th>\n      <td>4521633</td>\n      <td>2022-04-24</td>\n      <td>17:45:00</td>\n      <td>40.894810</td>\n      <td>-73.861830</td>\n      <td>0</td>\n      <td>0</td>\n      <td>Driver Inattention/Distraction</td>\n      <td>Unspecified</td>\n      <td>No Injury</td>\n      <td>3</td>\n      <td>8</td>\n      <td>51</td>\n    </tr>\n    <tr>\n      <th>19</th>\n      <td>4521801</td>\n      <td>2022-04-24</td>\n      <td>00:00:00</td>\n      <td>40.861862</td>\n      <td>-73.912750</td>\n      <td>0</td>\n      <td>0</td>\n      <td>Driver Inattention/Distraction</td>\n      <td>Unspecified</td>\n      <td>No Injury</td>\n      <td>3</td>\n      <td>8</td>\n      <td>51</td>\n    </tr>\n  </tbody>\n</table>\n</div>"
     },
     "execution_count": 71,
     "metadata": {},
     "output_type": "execute_result"
    }
   ],
   "source": [
    "# Label Encoding\n",
    "from sklearn.preprocessing import LabelEncoder\n",
    "\n",
    "label_encoder_severity = LabelEncoder()\n",
    "location_df['ACCIDENT_SEVERITY_ENCODED'] = label_encoder_severity.fit_transform((location_df['ACCIDENT_SEVERITY']))\n",
    "label_encoder_factor_1 = LabelEncoder()\n",
    "location_df['CONTRIBUTING_FACTOR_VEHICLE_1_ENCODED'] = label_encoder_factor_1.fit_transform((location_df['CONTRIBUTING_FACTOR_VEHICLE_1']))\n",
    "label_encoder_factor_2 = LabelEncoder()\n",
    "location_df['CONTRIBUTING_FACTOR_VEHICLE_2_ENCODED'] = label_encoder_factor_2.fit_transform((location_df['CONTRIBUTING_FACTOR_VEHICLE_2']))\n",
    "location_df.head(20)"
   ],
   "metadata": {
    "collapsed": false,
    "ExecuteTime": {
     "end_time": "2024-10-16T19:37:56.867289Z",
     "start_time": "2024-10-16T19:37:56.556217Z"
    }
   },
   "id": "1ef618625a575fee",
   "execution_count": 71
  },
  {
   "cell_type": "code",
   "outputs": [
    {
     "data": {
      "text/plain": "Index(['COLLISION_ID', 'CRASH_DATE', 'CRASH_TIME', 'LATITUDE', 'LONGITUDE',\n       'NUMBER_OF_PERSONS_INJURED', 'NUMBER_OF_PERSONS_KILLED',\n       'CONTRIBUTING_FACTOR_VEHICLE_1', 'CONTRIBUTING_FACTOR_VEHICLE_2',\n       'ACCIDENT_SEVERITY', 'ACCIDENT_SEVERITY_ENCODED',\n       'CONTRIBUTING_FACTOR_VEHICLE_1_ENCODED',\n       'CONTRIBUTING_FACTOR_VEHICLE_2_ENCODED'],\n      dtype='object')"
     },
     "execution_count": 72,
     "metadata": {},
     "output_type": "execute_result"
    }
   ],
   "source": [
    "location_df.columns"
   ],
   "metadata": {
    "collapsed": false,
    "ExecuteTime": {
     "end_time": "2024-10-16T19:37:56.868857Z",
     "start_time": "2024-10-16T19:37:56.864858Z"
    }
   },
   "id": "7f8bf3a3c708f134",
   "execution_count": 72
  },
  {
   "cell_type": "code",
   "outputs": [],
   "source": [
    "def seasons(row):\n",
    "    month = row['MONTH']\n",
    "    match month:\n",
    "        case month if month <= 3 : \n",
    "            return 1\n",
    "        case month if month <= 6:\n",
    "            return 2\n",
    "        case month if month <= 9:\n",
    "            return 3\n",
    "        case month if month <= 12:\n",
    "            return 4\n",
    "    "
   ],
   "metadata": {
    "collapsed": false,
    "ExecuteTime": {
     "end_time": "2024-10-16T19:37:56.871338Z",
     "start_time": "2024-10-16T19:37:56.867357Z"
    }
   },
   "id": "dca6370d4a394215",
   "execution_count": 73
  },
  {
   "cell_type": "code",
   "outputs": [
    {
     "name": "stdout",
     "output_type": "stream",
     "text": [
      "<class 'pandas.core.frame.DataFrame'>\n",
      "RangeIndex: 1085722 entries, 0 to 1085721\n",
      "Data columns (total 13 columns):\n",
      " #   Column                                 Non-Null Count    Dtype  \n",
      "---  ------                                 --------------    -----  \n",
      " 0   COLLISION_ID                           1085722 non-null  int64  \n",
      " 1   CRASH_DATE                             1085722 non-null  object \n",
      " 2   CRASH_TIME                             1085722 non-null  object \n",
      " 3   LATITUDE                               1085722 non-null  float64\n",
      " 4   LONGITUDE                              1085722 non-null  float64\n",
      " 5   NUMBER_OF_PERSONS_INJURED              1085722 non-null  int64  \n",
      " 6   NUMBER_OF_PERSONS_KILLED               1085722 non-null  int64  \n",
      " 7   CONTRIBUTING_FACTOR_VEHICLE_1          1085722 non-null  object \n",
      " 8   CONTRIBUTING_FACTOR_VEHICLE_2          1085722 non-null  object \n",
      " 9   ACCIDENT_SEVERITY                      1085722 non-null  object \n",
      " 10  ACCIDENT_SEVERITY_ENCODED              1085722 non-null  int64  \n",
      " 11  CONTRIBUTING_FACTOR_VEHICLE_1_ENCODED  1085722 non-null  int64  \n",
      " 12  CONTRIBUTING_FACTOR_VEHICLE_2_ENCODED  1085722 non-null  int64  \n",
      "dtypes: float64(2), int64(6), object(5)\n",
      "memory usage: 107.7+ MB\n"
     ]
    }
   ],
   "source": [
    "location_df.info()"
   ],
   "metadata": {
    "collapsed": false,
    "ExecuteTime": {
     "end_time": "2024-10-16T19:37:57.045953Z",
     "start_time": "2024-10-16T19:37:56.871309Z"
    }
   },
   "id": "22e1408d8a5bdcab",
   "execution_count": 74
  },
  {
   "cell_type": "code",
   "outputs": [],
   "source": [
    "import datetime as dt\n",
    "# Extract year, month, day of the week, and whether it was a weekend\n",
    "location_df['CRASH_DATE'] = pd.to_datetime(location_df['CRASH_DATE'])\n",
    "location_df['CRASH_TIME'] = pd.to_datetime(location_df['CRASH_TIME'], format='%H:%M:%S').dt.time\n",
    "\n",
    "location_df['YEAR'] = location_df['CRASH_DATE'].dt.year\n",
    "location_df['MONTH'] = location_df['CRASH_DATE'].dt.month\n",
    "location_df['DAY_OF_WEEK'] = location_df['CRASH_DATE'].dt.weekday  # Monday=0, Sunday=6\n",
    "location_df['IS_WEEKEND'] = location_df['DAY_OF_WEEK'].apply(lambda x: 1 if x >= 5 else 0)  # 1 for weekend, 0 for weekday\n",
    "\n",
    "location_df['SEASON'] = location_df.apply(seasons, axis=1)"
   ],
   "metadata": {
    "collapsed": false,
    "ExecuteTime": {
     "end_time": "2024-10-16T19:38:01.383083Z",
     "start_time": "2024-10-16T19:37:57.055151Z"
    }
   },
   "id": "d1ec94f8fabd5e5b",
   "execution_count": 75
  },
  {
   "cell_type": "code",
   "outputs": [
    {
     "data": {
      "text/plain": "   COLLISION_ID CRASH_DATE CRASH_TIME   LATITUDE  LONGITUDE  \\\n0       4486555 2021-12-14   17:05:00  40.709183 -73.956825   \n1       4487074 2021-12-14   21:10:00  40.671720 -73.897100   \n2       4486519 2021-12-14   14:58:00  40.751440 -73.973970   \n3       4486934 2021-12-13   00:34:00  40.701275 -73.888870   \n4       4487127 2021-12-14   16:50:00  40.675884 -73.755770   \n\n   NUMBER_OF_PERSONS_INJURED  NUMBER_OF_PERSONS_KILLED  \\\n0                          0                         0   \n1                          0                         0   \n2                          0                         0   \n3                          0                         0   \n4                          0                         0   \n\n    CONTRIBUTING_FACTOR_VEHICLE_1 CONTRIBUTING_FACTOR_VEHICLE_2  \\\n0             Passing Too Closely                   Unspecified   \n1             Driver Inexperience                   Unspecified   \n2             Passing Too Closely                   Unspecified   \n3  Passing or Lane Usage Improper                   Unspecified   \n4              Turning Improperly                   Unspecified   \n\n  ACCIDENT_SEVERITY  ACCIDENT_SEVERITY_ENCODED  \\\n0         No Injury                          3   \n1         No Injury                          3   \n2         No Injury                          3   \n3         No Injury                          3   \n4         No Injury                          3   \n\n   CONTRIBUTING_FACTOR_VEHICLE_1_ENCODED  \\\n0                                     31   \n1                                      9   \n2                                     31   \n3                                     32   \n4                                     48   \n\n   CONTRIBUTING_FACTOR_VEHICLE_2_ENCODED  YEAR  MONTH  DAY_OF_WEEK  \\\n0                                     51  2021     12            1   \n1                                     51  2021     12            1   \n2                                     51  2021     12            1   \n3                                     51  2021     12            0   \n4                                     51  2021     12            1   \n\n   IS_WEEKEND  SEASON  \n0           0       4  \n1           0       4  \n2           0       4  \n3           0       4  \n4           0       4  ",
      "text/html": "<div>\n<style scoped>\n    .dataframe tbody tr th:only-of-type {\n        vertical-align: middle;\n    }\n\n    .dataframe tbody tr th {\n        vertical-align: top;\n    }\n\n    .dataframe thead th {\n        text-align: right;\n    }\n</style>\n<table border=\"1\" class=\"dataframe\">\n  <thead>\n    <tr style=\"text-align: right;\">\n      <th></th>\n      <th>COLLISION_ID</th>\n      <th>CRASH_DATE</th>\n      <th>CRASH_TIME</th>\n      <th>LATITUDE</th>\n      <th>LONGITUDE</th>\n      <th>NUMBER_OF_PERSONS_INJURED</th>\n      <th>NUMBER_OF_PERSONS_KILLED</th>\n      <th>CONTRIBUTING_FACTOR_VEHICLE_1</th>\n      <th>CONTRIBUTING_FACTOR_VEHICLE_2</th>\n      <th>ACCIDENT_SEVERITY</th>\n      <th>ACCIDENT_SEVERITY_ENCODED</th>\n      <th>CONTRIBUTING_FACTOR_VEHICLE_1_ENCODED</th>\n      <th>CONTRIBUTING_FACTOR_VEHICLE_2_ENCODED</th>\n      <th>YEAR</th>\n      <th>MONTH</th>\n      <th>DAY_OF_WEEK</th>\n      <th>IS_WEEKEND</th>\n      <th>SEASON</th>\n    </tr>\n  </thead>\n  <tbody>\n    <tr>\n      <th>0</th>\n      <td>4486555</td>\n      <td>2021-12-14</td>\n      <td>17:05:00</td>\n      <td>40.709183</td>\n      <td>-73.956825</td>\n      <td>0</td>\n      <td>0</td>\n      <td>Passing Too Closely</td>\n      <td>Unspecified</td>\n      <td>No Injury</td>\n      <td>3</td>\n      <td>31</td>\n      <td>51</td>\n      <td>2021</td>\n      <td>12</td>\n      <td>1</td>\n      <td>0</td>\n      <td>4</td>\n    </tr>\n    <tr>\n      <th>1</th>\n      <td>4487074</td>\n      <td>2021-12-14</td>\n      <td>21:10:00</td>\n      <td>40.671720</td>\n      <td>-73.897100</td>\n      <td>0</td>\n      <td>0</td>\n      <td>Driver Inexperience</td>\n      <td>Unspecified</td>\n      <td>No Injury</td>\n      <td>3</td>\n      <td>9</td>\n      <td>51</td>\n      <td>2021</td>\n      <td>12</td>\n      <td>1</td>\n      <td>0</td>\n      <td>4</td>\n    </tr>\n    <tr>\n      <th>2</th>\n      <td>4486519</td>\n      <td>2021-12-14</td>\n      <td>14:58:00</td>\n      <td>40.751440</td>\n      <td>-73.973970</td>\n      <td>0</td>\n      <td>0</td>\n      <td>Passing Too Closely</td>\n      <td>Unspecified</td>\n      <td>No Injury</td>\n      <td>3</td>\n      <td>31</td>\n      <td>51</td>\n      <td>2021</td>\n      <td>12</td>\n      <td>1</td>\n      <td>0</td>\n      <td>4</td>\n    </tr>\n    <tr>\n      <th>3</th>\n      <td>4486934</td>\n      <td>2021-12-13</td>\n      <td>00:34:00</td>\n      <td>40.701275</td>\n      <td>-73.888870</td>\n      <td>0</td>\n      <td>0</td>\n      <td>Passing or Lane Usage Improper</td>\n      <td>Unspecified</td>\n      <td>No Injury</td>\n      <td>3</td>\n      <td>32</td>\n      <td>51</td>\n      <td>2021</td>\n      <td>12</td>\n      <td>0</td>\n      <td>0</td>\n      <td>4</td>\n    </tr>\n    <tr>\n      <th>4</th>\n      <td>4487127</td>\n      <td>2021-12-14</td>\n      <td>16:50:00</td>\n      <td>40.675884</td>\n      <td>-73.755770</td>\n      <td>0</td>\n      <td>0</td>\n      <td>Turning Improperly</td>\n      <td>Unspecified</td>\n      <td>No Injury</td>\n      <td>3</td>\n      <td>48</td>\n      <td>51</td>\n      <td>2021</td>\n      <td>12</td>\n      <td>1</td>\n      <td>0</td>\n      <td>4</td>\n    </tr>\n  </tbody>\n</table>\n</div>"
     },
     "execution_count": 76,
     "metadata": {},
     "output_type": "execute_result"
    }
   ],
   "source": [
    "location_df.head()"
   ],
   "metadata": {
    "collapsed": false,
    "ExecuteTime": {
     "end_time": "2024-10-16T19:38:01.393959Z",
     "start_time": "2024-10-16T19:38:01.387326Z"
    }
   },
   "id": "d174663bc639f233",
   "execution_count": 76
  },
  {
   "cell_type": "markdown",
   "source": [
    "## Model for Predicting an Accident's Severity Given Coordinates and Contributing Factors"
   ],
   "metadata": {
    "collapsed": false
   },
   "id": "d9b009cefc7336c6"
  },
  {
   "cell_type": "code",
   "execution_count": 77,
   "id": "7895493a8ee06743",
   "metadata": {
    "collapsed": false,
    "ExecuteTime": {
     "end_time": "2024-10-16T19:38:01.544627Z",
     "start_time": "2024-10-16T19:38:01.393129Z"
    }
   },
   "outputs": [],
   "source": [
    "# Split the data\n",
    "x = location_df.drop(columns=['COLLISION_ID', 'CONTRIBUTING_FACTOR_VEHICLE_1', 'CONTRIBUTING_FACTOR_VEHICLE_2', 'ACCIDENT_SEVERITY', 'CRASH_TIME', 'CRASH_DATE', 'ACCIDENT_SEVERITY_ENCODED'])\n",
    "y = location_df['ACCIDENT_SEVERITY_ENCODED']\n",
    "X_train, X_test, y_train, y_test = train_test_split(x, y, test_size=0.2)"
   ]
  },
  {
   "cell_type": "code",
   "execution_count": 78,
   "id": "b802a63ca148f1f8",
   "metadata": {
    "collapsed": false,
    "ExecuteTime": {
     "end_time": "2024-10-16T19:38:33.462980Z",
     "start_time": "2024-10-16T19:38:01.517770Z"
    }
   },
   "outputs": [],
   "source": [
    "# Predict the type of severity of accident\n",
    "model = RandomForestClassifier(n_estimators=100, max_depth=5, random_state=42)\n",
    "model.fit(X_train, y_train)\n",
    "y_pred = model.predict(X_test)"
   ]
  },
  {
   "cell_type": "code",
   "outputs": [],
   "source": [
    "# Decode the predictions back to the original accident severity\n",
    "y_pred_decoded = label_encoder_severity.inverse_transform(y_pred)\n",
    "\n",
    "# Decode the true labels (y_test) as well\n",
    "y_test_decoded = label_encoder_severity.inverse_transform(y_test)"
   ],
   "metadata": {
    "collapsed": false,
    "ExecuteTime": {
     "end_time": "2024-10-16T19:38:33.478937Z",
     "start_time": "2024-10-16T19:38:33.463065Z"
    }
   },
   "id": "4329aa6fff0841d2",
   "execution_count": 79
  },
  {
   "cell_type": "code",
   "outputs": [
    {
     "name": "stdout",
     "output_type": "stream",
     "text": [
      "Classification Report:\n",
      "              precision    recall  f1-score   support\n",
      "\n",
      "       Fatal       1.00      1.00      1.00       180\n",
      "Major Injury       1.00      0.85      0.92      4551\n",
      "Minor Injury       0.98      1.00      0.99     41168\n",
      "   No Injury       1.00      1.00      1.00    171246\n",
      "\n",
      "    accuracy                           1.00    217145\n",
      "   macro avg       1.00      0.96      0.98    217145\n",
      "weighted avg       1.00      1.00      1.00    217145\n",
      "\n",
      "Confusion Matrix:\n",
      "[[   180      0      0      0]\n",
      " [     0   3858    693      0]\n",
      " [     0      0  41168      0]\n",
      " [     0      0      0 171246]]\n"
     ]
    }
   ],
   "source": [
    "from sklearn.metrics import classification_report, confusion_matrix\n",
    "\n",
    "print(\"Classification Report:\")\n",
    "print(classification_report(y_test_decoded, y_pred_decoded))\n",
    "\n",
    "#  Confusion Matrix\n",
    "print(\"Confusion Matrix:\")\n",
    "print(confusion_matrix(y_test_decoded, y_pred_decoded))"
   ],
   "metadata": {
    "collapsed": false,
    "ExecuteTime": {
     "end_time": "2024-10-16T19:38:38.194411Z",
     "start_time": "2024-10-16T19:38:33.568158Z"
    }
   },
   "id": "814afbb851c43b72",
   "execution_count": 80
  },
  {
   "cell_type": "code",
   "outputs": [],
   "source": [
    "location_df.to_csv(str(dir_path / Path('data_files/clean_data/location_model_data.csv')), index=False)"
   ],
   "metadata": {
    "collapsed": false,
    "ExecuteTime": {
     "end_time": "2024-10-16T19:38:43.634924Z",
     "start_time": "2024-10-16T19:38:38.190623Z"
    }
   },
   "id": "e1eb90241b99d695",
   "execution_count": 81
  },
  {
   "cell_type": "markdown",
   "source": [
    "## Predict the Severity of Accident Given Contributing Factor of Alcohol"
   ],
   "metadata": {
    "collapsed": false
   },
   "id": "b3ec6d192b80097e"
  },
  {
   "cell_type": "code",
   "outputs": [
    {
     "data": {
      "text/plain": "Index(['COLLISION_ID', 'CRASH_DATE', 'CRASH_TIME', 'LATITUDE', 'LONGITUDE',\n       'NUMBER_OF_PERSONS_INJURED', 'NUMBER_OF_PERSONS_KILLED',\n       'CONTRIBUTING_FACTOR_VEHICLE_1', 'CONTRIBUTING_FACTOR_VEHICLE_2',\n       'ACCIDENT_SEVERITY', 'ACCIDENT_SEVERITY_ENCODED',\n       'CONTRIBUTING_FACTOR_VEHICLE_1_ENCODED',\n       'CONTRIBUTING_FACTOR_VEHICLE_2_ENCODED', 'YEAR', 'MONTH', 'DAY_OF_WEEK',\n       'IS_WEEKEND', 'SEASON'],\n      dtype='object')"
     },
     "execution_count": 82,
     "metadata": {},
     "output_type": "execute_result"
    }
   ],
   "source": [
    "location_df.columns"
   ],
   "metadata": {
    "collapsed": false,
    "ExecuteTime": {
     "end_time": "2024-10-16T19:38:43.645744Z",
     "start_time": "2024-10-16T19:38:43.636013Z"
    }
   },
   "id": "21618d1bd3b65ca9",
   "execution_count": 82
  },
  {
   "cell_type": "code",
   "outputs": [],
   "source": [
    "alcohol_df =  location_df.query(\"CONTRIBUTING_FACTOR_VEHICLE_1 == 'Alcohol Involvement' | CONTRIBUTING_FACTOR_VEHICLE_2 == 'Alcohol Involvement'\").copy()"
   ],
   "metadata": {
    "collapsed": false,
    "ExecuteTime": {
     "end_time": "2024-10-16T19:38:43.711262Z",
     "start_time": "2024-10-16T19:38:43.639009Z"
    }
   },
   "id": "9ebbbf70f2592f67",
   "execution_count": 83
  },
  {
   "cell_type": "code",
   "outputs": [],
   "source": [
    "# Split the data\n",
    "x = alcohol_df.drop(columns=['COLLISION_ID', 'CONTRIBUTING_FACTOR_VEHICLE_1', 'CONTRIBUTING_FACTOR_VEHICLE_2', 'ACCIDENT_SEVERITY', 'CRASH_TIME', 'CRASH_DATE', 'ACCIDENT_SEVERITY_ENCODED'])\n",
    "y = alcohol_df['ACCIDENT_SEVERITY_ENCODED']\n",
    "X_train, X_test, y_train, y_test = train_test_split(x, y, test_size=0.2)"
   ],
   "metadata": {
    "collapsed": false,
    "ExecuteTime": {
     "end_time": "2024-10-16T19:38:43.728713Z",
     "start_time": "2024-10-16T19:38:43.703318Z"
    }
   },
   "id": "24c5d192c817f2a2",
   "execution_count": 84
  },
  {
   "cell_type": "code",
   "outputs": [],
   "source": [
    "# Predict the type of severity of accident\n",
    "model = RandomForestClassifier(n_estimators=100, max_depth=5, random_state=42)\n",
    "model.fit(X_train, y_train)\n",
    "y_pred = model.predict(X_test)"
   ],
   "metadata": {
    "collapsed": false,
    "ExecuteTime": {
     "end_time": "2024-10-16T19:38:44.263195Z",
     "start_time": "2024-10-16T19:38:43.723806Z"
    }
   },
   "id": "671ce503fc418162",
   "execution_count": 85
  },
  {
   "cell_type": "code",
   "outputs": [],
   "source": [
    "# Decode the predictions back to the original accident severity\n",
    "y_pred_decoded = label_encoder_severity.inverse_transform(y_pred)\n",
    "\n",
    "# Decode the true labels (y_test) as well\n",
    "y_test_decoded = label_encoder_severity.inverse_transform(y_test)"
   ],
   "metadata": {
    "collapsed": false,
    "ExecuteTime": {
     "end_time": "2024-10-16T19:38:44.278949Z",
     "start_time": "2024-10-16T19:38:44.263499Z"
    }
   },
   "id": "77eb42b9747814cf",
   "execution_count": 86
  },
  {
   "cell_type": "code",
   "outputs": [
    {
     "name": "stdout",
     "output_type": "stream",
     "text": [
      "Classification Report:\n",
      "              precision    recall  f1-score   support\n",
      "\n",
      "       Fatal       1.00      1.00      1.00        11\n",
      "Major Injury       1.00      0.97      0.98       151\n",
      "Minor Injury       0.99      1.00      1.00       966\n",
      "   No Injury       1.00      1.00      1.00      2518\n",
      "\n",
      "    accuracy                           1.00      3646\n",
      "   macro avg       1.00      0.99      1.00      3646\n",
      "weighted avg       1.00      1.00      1.00      3646\n",
      "\n",
      "Confusion Matrix:\n",
      "[[  11    0    0    0]\n",
      " [   0  146    5    0]\n",
      " [   0    0  966    0]\n",
      " [   0    0    0 2518]]\n"
     ]
    }
   ],
   "source": [
    "print(\"Classification Report:\")\n",
    "print(classification_report(y_test_decoded, y_pred_decoded))\n",
    "\n",
    "#  Confusion Matrix\n",
    "print(\"Confusion Matrix:\")\n",
    "print(confusion_matrix(y_test_decoded, y_pred_decoded))"
   ],
   "metadata": {
    "collapsed": false,
    "ExecuteTime": {
     "end_time": "2024-10-16T19:38:44.345551Z",
     "start_time": "2024-10-16T19:38:44.285552Z"
    }
   },
   "id": "d7ddccff8bbce3b",
   "execution_count": 87
  },
  {
   "cell_type": "code",
   "outputs": [],
   "source": [
    "alcohol_df.to_csv(str(dir_path / Path('data_files/clean_data/alcohol_data.csv')), index=False)\n"
   ],
   "metadata": {
    "collapsed": false,
    "ExecuteTime": {
     "end_time": "2024-10-16T19:38:44.429218Z",
     "start_time": "2024-10-16T19:38:44.331167Z"
    }
   },
   "id": "8f41f0300f9c39ab",
   "execution_count": 88
  },
  {
   "cell_type": "markdown",
   "source": [
    "## Predict the Severity of Accident Given Contributing Factor of Cell Phone Use\n"
   ],
   "metadata": {
    "collapsed": false
   },
   "id": "8d2edbff93ed8b04"
  },
  {
   "cell_type": "code",
   "outputs": [],
   "source": [
    "cell_phone_rows = ['Cell Phone (Hand-Held)', 'Cell Phone (Hands-Free)', 'Texting']\n",
    "cell_phone_df = location_df.query(f\"CONTRIBUTING_FACTOR_VEHICLE_1 in {cell_phone_rows} | CONTRIBUTING_FACTOR_VEHICLE_2 in {cell_phone_rows}\")"
   ],
   "metadata": {
    "collapsed": false,
    "ExecuteTime": {
     "end_time": "2024-10-16T19:38:44.497310Z",
     "start_time": "2024-10-16T19:38:44.426348Z"
    }
   },
   "id": "48e5c06608fb0ca0",
   "execution_count": 89
  },
  {
   "cell_type": "code",
   "outputs": [
    {
     "data": {
      "text/plain": "      COLLISION_ID CRASH_DATE CRASH_TIME   LATITUDE  LONGITUDE  \\\n2744       4410194 2021-04-23   15:28:00  40.687890 -73.936035   \n4558       4457664 2021-09-15   19:53:00  40.670690 -73.917030   \n4754       4458056 2021-09-13   08:17:00  40.773148 -73.950554   \n5292       4412097 2021-04-30   22:30:00  40.748750 -73.900770   \n6446       4413583 2021-04-28   17:45:00  40.650806 -73.949580   \n\n      NUMBER_OF_PERSONS_INJURED  NUMBER_OF_PERSONS_KILLED  \\\n2744                          1                         0   \n4558                          1                         0   \n4754                          0                         0   \n5292                          0                         0   \n6446                          1                         0   \n\n     CONTRIBUTING_FACTOR_VEHICLE_1  \\\n2744       Cell Phone (Hands-Free)   \n4558        Cell Phone (Hand-Held)   \n4754        Cell Phone (Hand-Held)   \n5292        Cell Phone (Hand-Held)   \n6446        Cell Phone (Hand-Held)   \n\n                    CONTRIBUTING_FACTOR_VEHICLE_2 ACCIDENT_SEVERITY  \\\n2744                                  Unspecified      Minor Injury   \n4558  Traffic Control Device Improper/Non-Working      Minor Injury   \n4754                                  Unspecified         No Injury   \n5292                                  Unspecified         No Injury   \n6446                                  Unspecified      Minor Injury   \n\n      ACCIDENT_SEVERITY_ENCODED  CONTRIBUTING_FACTOR_VEHICLE_1_ENCODED  \\\n2744                          2                                      7   \n4558                          2                                      6   \n4754                          3                                      6   \n5292                          3                                      6   \n6446                          2                                      6   \n\n      CONTRIBUTING_FACTOR_VEHICLE_2_ENCODED  YEAR  MONTH  DAY_OF_WEEK  \\\n2744                                     51  2021      4            4   \n4558                                     46  2021      9            2   \n4754                                     51  2021      9            0   \n5292                                     51  2021      4            4   \n6446                                     51  2021      4            2   \n\n      IS_WEEKEND  SEASON  \n2744           0       2  \n4558           0       3  \n4754           0       3  \n5292           0       2  \n6446           0       2  ",
      "text/html": "<div>\n<style scoped>\n    .dataframe tbody tr th:only-of-type {\n        vertical-align: middle;\n    }\n\n    .dataframe tbody tr th {\n        vertical-align: top;\n    }\n\n    .dataframe thead th {\n        text-align: right;\n    }\n</style>\n<table border=\"1\" class=\"dataframe\">\n  <thead>\n    <tr style=\"text-align: right;\">\n      <th></th>\n      <th>COLLISION_ID</th>\n      <th>CRASH_DATE</th>\n      <th>CRASH_TIME</th>\n      <th>LATITUDE</th>\n      <th>LONGITUDE</th>\n      <th>NUMBER_OF_PERSONS_INJURED</th>\n      <th>NUMBER_OF_PERSONS_KILLED</th>\n      <th>CONTRIBUTING_FACTOR_VEHICLE_1</th>\n      <th>CONTRIBUTING_FACTOR_VEHICLE_2</th>\n      <th>ACCIDENT_SEVERITY</th>\n      <th>ACCIDENT_SEVERITY_ENCODED</th>\n      <th>CONTRIBUTING_FACTOR_VEHICLE_1_ENCODED</th>\n      <th>CONTRIBUTING_FACTOR_VEHICLE_2_ENCODED</th>\n      <th>YEAR</th>\n      <th>MONTH</th>\n      <th>DAY_OF_WEEK</th>\n      <th>IS_WEEKEND</th>\n      <th>SEASON</th>\n    </tr>\n  </thead>\n  <tbody>\n    <tr>\n      <th>2744</th>\n      <td>4410194</td>\n      <td>2021-04-23</td>\n      <td>15:28:00</td>\n      <td>40.687890</td>\n      <td>-73.936035</td>\n      <td>1</td>\n      <td>0</td>\n      <td>Cell Phone (Hands-Free)</td>\n      <td>Unspecified</td>\n      <td>Minor Injury</td>\n      <td>2</td>\n      <td>7</td>\n      <td>51</td>\n      <td>2021</td>\n      <td>4</td>\n      <td>4</td>\n      <td>0</td>\n      <td>2</td>\n    </tr>\n    <tr>\n      <th>4558</th>\n      <td>4457664</td>\n      <td>2021-09-15</td>\n      <td>19:53:00</td>\n      <td>40.670690</td>\n      <td>-73.917030</td>\n      <td>1</td>\n      <td>0</td>\n      <td>Cell Phone (Hand-Held)</td>\n      <td>Traffic Control Device Improper/Non-Working</td>\n      <td>Minor Injury</td>\n      <td>2</td>\n      <td>6</td>\n      <td>46</td>\n      <td>2021</td>\n      <td>9</td>\n      <td>2</td>\n      <td>0</td>\n      <td>3</td>\n    </tr>\n    <tr>\n      <th>4754</th>\n      <td>4458056</td>\n      <td>2021-09-13</td>\n      <td>08:17:00</td>\n      <td>40.773148</td>\n      <td>-73.950554</td>\n      <td>0</td>\n      <td>0</td>\n      <td>Cell Phone (Hand-Held)</td>\n      <td>Unspecified</td>\n      <td>No Injury</td>\n      <td>3</td>\n      <td>6</td>\n      <td>51</td>\n      <td>2021</td>\n      <td>9</td>\n      <td>0</td>\n      <td>0</td>\n      <td>3</td>\n    </tr>\n    <tr>\n      <th>5292</th>\n      <td>4412097</td>\n      <td>2021-04-30</td>\n      <td>22:30:00</td>\n      <td>40.748750</td>\n      <td>-73.900770</td>\n      <td>0</td>\n      <td>0</td>\n      <td>Cell Phone (Hand-Held)</td>\n      <td>Unspecified</td>\n      <td>No Injury</td>\n      <td>3</td>\n      <td>6</td>\n      <td>51</td>\n      <td>2021</td>\n      <td>4</td>\n      <td>4</td>\n      <td>0</td>\n      <td>2</td>\n    </tr>\n    <tr>\n      <th>6446</th>\n      <td>4413583</td>\n      <td>2021-04-28</td>\n      <td>17:45:00</td>\n      <td>40.650806</td>\n      <td>-73.949580</td>\n      <td>1</td>\n      <td>0</td>\n      <td>Cell Phone (Hand-Held)</td>\n      <td>Unspecified</td>\n      <td>Minor Injury</td>\n      <td>2</td>\n      <td>6</td>\n      <td>51</td>\n      <td>2021</td>\n      <td>4</td>\n      <td>2</td>\n      <td>0</td>\n      <td>2</td>\n    </tr>\n  </tbody>\n</table>\n</div>"
     },
     "execution_count": 90,
     "metadata": {},
     "output_type": "execute_result"
    }
   ],
   "source": [
    "cell_phone_df.head()"
   ],
   "metadata": {
    "collapsed": false,
    "ExecuteTime": {
     "end_time": "2024-10-16T19:38:44.513418Z",
     "start_time": "2024-10-16T19:38:44.501595Z"
    }
   },
   "id": "510010f9f18a4315",
   "execution_count": 90
  },
  {
   "cell_type": "code",
   "outputs": [],
   "source": [
    "# Split the data\n",
    "x = cell_phone_df.drop(columns=['COLLISION_ID', 'CONTRIBUTING_FACTOR_VEHICLE_1', 'CONTRIBUTING_FACTOR_VEHICLE_2', 'ACCIDENT_SEVERITY', 'CRASH_TIME', 'CRASH_DATE', 'ACCIDENT_SEVERITY_ENCODED'])\n",
    "y = cell_phone_df['ACCIDENT_SEVERITY_ENCODED']\n",
    "X_train, X_test, y_train, y_test = train_test_split(x, y, test_size=0.3)"
   ],
   "metadata": {
    "collapsed": false,
    "ExecuteTime": {
     "end_time": "2024-10-16T19:40:51.571400Z",
     "start_time": "2024-10-16T19:40:51.566853Z"
    }
   },
   "id": "c1cf665f5444d29d",
   "execution_count": 100
  },
  {
   "cell_type": "code",
   "outputs": [],
   "source": [
    "# Predict the type of severity of accident\n",
    "model = RandomForestClassifier(n_estimators=100, max_depth=5, random_state=42)\n",
    "model.fit(X_train, y_train)\n",
    "y_pred = model.predict(X_test)"
   ],
   "metadata": {
    "collapsed": false,
    "ExecuteTime": {
     "end_time": "2024-10-16T19:40:51.995803Z",
     "start_time": "2024-10-16T19:40:51.913956Z"
    }
   },
   "id": "2a8eea083be8a5ba",
   "execution_count": 101
  },
  {
   "cell_type": "code",
   "outputs": [],
   "source": [
    "# Decode the predictions back to the original accident severity\n",
    "y_pred_decoded = label_encoder_severity.inverse_transform(y_pred)\n",
    "\n",
    "# Decode the true labels (y_test) as well\n",
    "y_test_decoded = label_encoder_severity.inverse_transform(y_test)"
   ],
   "metadata": {
    "collapsed": false,
    "ExecuteTime": {
     "end_time": "2024-10-16T19:40:52.284083Z",
     "start_time": "2024-10-16T19:40:52.275523Z"
    }
   },
   "id": "4c571bc0c6dee777",
   "execution_count": 102
  },
  {
   "cell_type": "code",
   "outputs": [
    {
     "name": "stdout",
     "output_type": "stream",
     "text": [
      "Classification Report:\n",
      "              precision    recall  f1-score   support\n",
      "\n",
      "Major Injury       1.00      0.25      0.40         4\n",
      "Minor Injury       0.96      1.00      0.98        72\n",
      "   No Injury       1.00      1.00      1.00       178\n",
      "\n",
      "    accuracy                           0.99       254\n",
      "   macro avg       0.99      0.75      0.79       254\n",
      "weighted avg       0.99      0.99      0.98       254\n",
      "\n",
      "Confusion Matrix:\n",
      "[[  1   3   0]\n",
      " [  0  72   0]\n",
      " [  0   0 178]]\n"
     ]
    }
   ],
   "source": [
    "print(\"Classification Report:\")\n",
    "print(classification_report(y_test_decoded, y_pred_decoded))\n",
    "\n",
    "#  Confusion Matrix\n",
    "print(\"Confusion Matrix:\")\n",
    "print(confusion_matrix(y_test_decoded, y_pred_decoded))"
   ],
   "metadata": {
    "collapsed": false,
    "ExecuteTime": {
     "end_time": "2024-10-16T19:40:52.781122Z",
     "start_time": "2024-10-16T19:40:52.761885Z"
    }
   },
   "id": "f19dd7f9700cb6c7",
   "execution_count": 103
  },
  {
   "cell_type": "code",
   "outputs": [],
   "source": [
    "cell_phone_df.to_csv(str(dir_path / Path('data_files/clean_data/cell_phone_data.csv')), index=False)"
   ],
   "metadata": {
    "collapsed": false,
    "ExecuteTime": {
     "end_time": "2024-10-16T19:40:58.181860Z",
     "start_time": "2024-10-16T19:40:58.161524Z"
    }
   },
   "id": "41a02c14b1caef86",
   "execution_count": 104
  }
 ],
 "metadata": {
  "kernelspec": {
   "display_name": "Python 3 (ipykernel)",
   "language": "python",
   "name": "python3"
  },
  "language_info": {
   "codemirror_mode": {
    "name": "ipython",
    "version": 3
   },
   "file_extension": ".py",
   "mimetype": "text/x-python",
   "name": "python",
   "nbconvert_exporter": "python",
   "pygments_lexer": "ipython3",
   "version": "3.13.0"
  }
 },
 "nbformat": 4,
 "nbformat_minor": 5
}
